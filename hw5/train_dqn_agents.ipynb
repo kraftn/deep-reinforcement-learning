{
 "cells": [
  {
   "cell_type": "code",
   "execution_count": null,
   "id": "48298875-ba9f-4d54-a081-bc4e89b46949",
   "metadata": {
    "colab": {
     "base_uri": "https://localhost:8080/"
    },
    "executionInfo": {
     "elapsed": 630,
     "status": "ok",
     "timestamp": 1726853705317,
     "user": {
      "displayName": "Никита Кравчук",
      "userId": "04348117059303234317"
     },
     "user_tz": -240
    },
    "id": "zvLHDeFuSi3N",
    "outputId": "7f5dbaca-b54c-47de-b3cb-3f66806e8f9f"
   },
   "outputs": [],
   "source": [
    "!rm -r deep_q_network\n",
    "!tar -xzvf deep_q_network.tar.gz"
   ]
  },
  {
   "cell_type": "code",
   "execution_count": null,
   "id": "dd95f1fc-3d04-46e1-8e7f-f8122368ce2e",
   "metadata": {
    "colab": {
     "base_uri": "https://localhost:8080/"
    },
    "executionInfo": {
     "elapsed": 68808,
     "status": "ok",
     "timestamp": 1726853775823,
     "user": {
      "displayName": "Никита Кравчук",
      "userId": "04348117059303234317"
     },
     "user_tz": -240
    },
    "id": "8RSQS5ih8ZSz",
    "outputId": "16845204-3d87-4bdc-c474-71cef0a37342"
   },
   "outputs": [],
   "source": [
    "!apt-get install -y swig\n",
    "!pip install --upgrade pip\n",
    "!pip install -r /kaggle/input/drl-requirements/requirements.txt"
   ]
  },
  {
   "cell_type": "code",
   "execution_count": 1,
   "id": "61c844a7-7dc4-44b8-9a68-a5e13ce622fa",
   "metadata": {
    "execution": {
     "iopub.execute_input": "2024-09-29T16:08:13.380210Z",
     "iopub.status.busy": "2024-09-29T16:08:13.379817Z",
     "iopub.status.idle": "2024-09-29T16:08:13.392515Z",
     "shell.execute_reply": "2024-09-29T16:08:13.391479Z",
     "shell.execute_reply.started": "2024-09-29T16:08:13.380171Z"
    },
    "executionInfo": {
     "elapsed": 505,
     "status": "ok",
     "timestamp": 1726854120650,
     "user": {
      "displayName": "Никита Кравчук",
      "userId": "04348117059303234317"
     },
     "user_tz": -240
    },
    "id": "46671a72-4dbe-4a0c-9eca-48b166bb0e8c"
   },
   "outputs": [],
   "source": [
    "import sys\n",
    "import logging\n",
    "import random\n",
    "\n",
    "sys.path.append(\"/kaggle/input/deep-q-network\")\n",
    "\n",
    "logging.getLogger().addHandler(logging.StreamHandler(sys.stdout))\n",
    "logging.getLogger().setLevel(logging.INFO)"
   ]
  },
  {
   "cell_type": "code",
   "execution_count": 2,
   "id": "2588789e-2ab7-4240-b395-025f0309f45b",
   "metadata": {
    "colab": {
     "base_uri": "https://localhost:8080/"
    },
    "execution": {
     "iopub.execute_input": "2024-09-29T16:08:13.529072Z",
     "iopub.status.busy": "2024-09-29T16:08:13.528651Z",
     "iopub.status.idle": "2024-09-29T16:08:17.215745Z",
     "shell.execute_reply": "2024-09-29T16:08:17.214174Z",
     "shell.execute_reply.started": "2024-09-29T16:08:13.529028Z"
    },
    "executionInfo": {
     "elapsed": 2476,
     "status": "ok",
     "timestamp": 1726854123694,
     "user": {
      "displayName": "Никита Кравчук",
      "userId": "04348117059303234317"
     },
     "user_tz": -240
    },
    "id": "9b3152f9-69d8-4f07-a173-78e13c5fae52",
    "outputId": "f8b982d5-bbdc-43cf-fa7a-e294600be6c8"
   },
   "outputs": [
    {
     "name": "stderr",
     "output_type": "stream",
     "text": [
      "Warning: Gym version v0.24.0 has a number of critical issues with `gym.make` such that the `reset` and `step` functions are called before returning the environment. It is recommend to downgrading to v0.23.1 or upgrading to v0.25.1\n"
     ]
    }
   ],
   "source": [
    "import matplotlib.pyplot as plt\n",
    "import gym\n",
    "import torch\n",
    "import numpy as np"
   ]
  },
  {
   "cell_type": "code",
   "execution_count": 3,
   "id": "6d9dc3a6-d330-43a8-9e1c-58e15df9daea",
   "metadata": {
    "colab": {
     "base_uri": "https://localhost:8080/"
    },
    "execution": {
     "iopub.execute_input": "2024-09-29T16:08:17.218652Z",
     "iopub.status.busy": "2024-09-29T16:08:17.218066Z",
     "iopub.status.idle": "2024-09-29T16:08:17.282139Z",
     "shell.execute_reply": "2024-09-29T16:08:17.281033Z",
     "shell.execute_reply.started": "2024-09-29T16:08:17.218599Z"
    },
    "executionInfo": {
     "elapsed": 14,
     "status": "ok",
     "timestamp": 1726854123694,
     "user": {
      "displayName": "Никита Кравчук",
      "userId": "04348117059303234317"
     },
     "user_tz": -240
    },
    "id": "1927bb37-ec97-4b39-bd48-d0e1efa3a26c",
    "outputId": "283beca4-5a5a-4049-d119-f6d6ba7c7736"
   },
   "outputs": [],
   "source": [
    "from deep_q_network.agents import DQNAgent\n",
    "from deep_q_network.trainers import (\n",
    "    HardTargetNetworkTrainer,\n",
    "    SoftTargetNetworkTrainer,\n",
    "    DoubleDQNTrainer,\n",
    ")"
   ]
  },
  {
   "cell_type": "code",
   "execution_count": 4,
   "id": "d21a3b94-4049-4c4b-943d-52785ebc4ad2",
   "metadata": {
    "execution": {
     "iopub.execute_input": "2024-09-29T16:08:17.285396Z",
     "iopub.status.busy": "2024-09-29T16:08:17.283974Z",
     "iopub.status.idle": "2024-09-29T16:08:17.296110Z",
     "shell.execute_reply": "2024-09-29T16:08:17.295203Z",
     "shell.execute_reply.started": "2024-09-29T16:08:17.285334Z"
    },
    "id": "uo4gpVKCqUVZ"
   },
   "outputs": [],
   "source": [
    "SEED = 42\n",
    "random.seed(SEED)\n",
    "np.random.seed(SEED)\n",
    "torch.manual_seed(SEED)\n",
    "torch.cuda.manual_seed(SEED)"
   ]
  },
  {
   "cell_type": "code",
   "execution_count": 5,
   "id": "0c697897-240b-4c0b-b497-d54cb5354ee4",
   "metadata": {
    "execution": {
     "iopub.execute_input": "2024-09-29T16:08:17.298853Z",
     "iopub.status.busy": "2024-09-29T16:08:17.298465Z",
     "iopub.status.idle": "2024-09-29T16:08:17.370677Z",
     "shell.execute_reply": "2024-09-29T16:08:17.369622Z",
     "shell.execute_reply.started": "2024-09-29T16:08:17.298792Z"
    },
    "executionInfo": {
     "elapsed": 14,
     "status": "ok",
     "timestamp": 1726854123695,
     "user": {
      "displayName": "Никита Кравчук",
      "userId": "04348117059303234317"
     },
     "user_tz": -240
    },
    "id": "bd31cba4-0275-401e-8979-122b55f31b03"
   },
   "outputs": [
    {
     "data": {
      "text/plain": [
       "'cuda'"
      ]
     },
     "execution_count": 5,
     "metadata": {},
     "output_type": "execute_result"
    }
   ],
   "source": [
    "env = gym.make(\"LunarLander-v2\")\n",
    "DEVICE = \"cuda\" if torch.cuda.is_available() else \"cpu\"\n",
    "DEVICE"
   ]
  },
  {
   "cell_type": "code",
   "execution_count": 6,
   "id": "4b2f75f6-d298-4244-bf0b-98f841d248d8",
   "metadata": {
    "execution": {
     "iopub.execute_input": "2024-09-29T16:08:17.372476Z",
     "iopub.status.busy": "2024-09-29T16:08:17.372043Z",
     "iopub.status.idle": "2024-09-29T16:08:17.379579Z",
     "shell.execute_reply": "2024-09-29T16:08:17.378406Z",
     "shell.execute_reply.started": "2024-09-29T16:08:17.372434Z"
    },
    "executionInfo": {
     "elapsed": 14,
     "status": "ok",
     "timestamp": 1726854123695,
     "user": {
      "displayName": "Никита Кравчук",
      "userId": "04348117059303234317"
     },
     "user_tz": -240
    },
    "id": "ec782946-5c6a-4043-b84e-bb32801f59fe"
   },
   "outputs": [],
   "source": [
    "def plot_total_rewards(history, window_size=100):\n",
    "    if window_size % 2 == 0:\n",
    "        raise RuntimeError(\"Even window_size was specified\")\n",
    "    total_rewards = np.array(\n",
    "        [sum(trajectory[\"rewards\"]) for trajectory in history]\n",
    "    )\n",
    "    mean_total_rewards = np.lib.stride_tricks.sliding_window_view(\n",
    "        total_rewards, window_shape=window_size,\n",
    "    ).mean(axis=1)\n",
    "    trajectory_indices = np.arange(\n",
    "        window_size // 2, total_rewards.shape[0] - window_size // 2\n",
    "    )\n",
    "    plt.plot(trajectory_indices, mean_total_rewards)"
   ]
  },
  {
   "cell_type": "markdown",
   "id": "e9d0f7eb-6511-4ce0-a3ff-8f9b513a55b0",
   "metadata": {
    "id": "07a16aa9-12bc-44dd-9e6b-b44a4037f29a"
   },
   "source": [
    "# DQN"
   ]
  },
  {
   "cell_type": "code",
   "execution_count": null,
   "id": "9a4f0b7b-ff86-42c4-b7c8-48e4307d10ed",
   "metadata": {
    "colab": {
     "base_uri": "https://localhost:8080/"
    },
    "executionInfo": {
     "elapsed": 13,
     "status": "ok",
     "timestamp": 1726854123695,
     "user": {
      "displayName": "Никита Кравчук",
      "userId": "04348117059303234317"
     },
     "user_tz": -240
    },
    "id": "c2fa2e86-1aa5-421e-bb2d-3649afad45b6",
    "outputId": "be847e0a-d2b2-4ec2-b975-8da5fc2dd6db"
   },
   "outputs": [],
   "source": [
    "agent = DQNAgent(\n",
    "    state_dim=env.observation_space.shape[0],\n",
    "    action_dim=env.action_space.n,\n",
    "    hidden_sizes=[192],\n",
    "    device=DEVICE,\n",
    ")\n",
    "agent.network"
   ]
  },
  {
   "cell_type": "code",
   "execution_count": null,
   "id": "0aa4869b-41d4-41a0-bf09-42613a8b0fad",
   "metadata": {
    "executionInfo": {
     "elapsed": 10,
     "status": "ok",
     "timestamp": 1726854123695,
     "user": {
      "displayName": "Никита Кравчук",
      "userId": "04348117059303234317"
     },
     "user_tz": -240
    },
    "id": "f7e061f1-8e96-44ff-94b8-80ccdb8dd6ec"
   },
   "outputs": [],
   "source": [
    "trainer = HardTargetNetworkTrainer(\n",
    "    n_episodes=12000,\n",
    "    lr=0.001,\n",
    "    batch_size=64,\n",
    "    max_trajectory_length=1000,\n",
    "    n_network_update_steps=1,\n",
    "    gamma=0.99,\n",
    "    epsilon_decay=-np.log(0.01) / 100000,\n",
    "    device=DEVICE,\n",
    ")"
   ]
  },
  {
   "cell_type": "code",
   "execution_count": null,
   "id": "731cfc5f-5998-4c67-8089-5fec832b239b",
   "metadata": {
    "colab": {
     "base_uri": "https://localhost:8080/",
     "height": 944
    },
    "executionInfo": {
     "elapsed": 1862684,
     "status": "error",
     "timestamp": 1726855986369,
     "user": {
      "displayName": "Никита Кравчук",
      "userId": "04348117059303234317"
     },
     "user_tz": -240
    },
    "id": "a67343c6-ca7b-44e0-903c-a8f7ad187461",
    "outputId": "b9c2df64-cdb0-4d96-8ef4-25b4eebcaa3e",
    "scrolled": true
   },
   "outputs": [],
   "source": [
    "history = trainer.train(\n",
    "    agent, env, n_episodes_per_log=100, history_file_path=\"LunarLander-v2_dqn.jsonl\"\n",
    ")"
   ]
  },
  {
   "cell_type": "code",
   "execution_count": null,
   "id": "78a2eedd-ccf1-4901-9422-0691130f573b",
   "metadata": {
    "executionInfo": {
     "elapsed": 9,
     "status": "aborted",
     "timestamp": 1726855986369,
     "user": {
      "displayName": "Никита Кравчук",
      "userId": "04348117059303234317"
     },
     "user_tz": -240
    },
    "id": "b8c5df2d-a726-4bac-ade4-4a159f58e9f1"
   },
   "outputs": [],
   "source": [
    "plot_total_rewards(history, window_size=101)"
   ]
  },
  {
   "cell_type": "code",
   "execution_count": null,
   "id": "6b0ee1f5-0323-4038-8eb2-df786a5a8173",
   "metadata": {
    "executionInfo": {
     "elapsed": 9,
     "status": "aborted",
     "timestamp": 1726855986369,
     "user": {
      "displayName": "Никита Кравчук",
      "userId": "04348117059303234317"
     },
     "user_tz": -240
    },
    "id": "GiSwfh5E4pek"
   },
   "outputs": [],
   "source": [
    "agent.save(\"dqn.pth\")"
   ]
  },
  {
   "cell_type": "markdown",
   "id": "1db4cc69-a8a1-474f-9cf3-485712a00a32",
   "metadata": {
    "id": "5b5eb891-3bf0-4730-af3e-9f4db02ed081"
   },
   "source": [
    "# Hard Target Network DQN"
   ]
  },
  {
   "cell_type": "code",
   "execution_count": null,
   "id": "5783e84f-53ac-490f-a06a-bebeacd8ac08",
   "metadata": {
    "id": "e2454980-4cd1-4a74-928f-5b6164597155"
   },
   "outputs": [],
   "source": [
    "agent = DQNAgent(\n",
    "    state_dim=env.observation_space.shape[0],\n",
    "    action_dim=env.action_space.n,\n",
    "    hidden_sizes=[192],\n",
    "    device=DEVICE,\n",
    ")"
   ]
  },
  {
   "cell_type": "code",
   "execution_count": null,
   "id": "6b77f8fb-59ce-4b38-aa07-2d4525a1476b",
   "metadata": {
    "id": "b0372c5b-da82-438a-bd08-531241ebb79a"
   },
   "outputs": [],
   "source": [
    "trainer = HardTargetNetworkTrainer(\n",
    "    n_episodes=2000,\n",
    "    lr=0.001,\n",
    "    batch_size=64,\n",
    "    max_trajectory_length=1000,\n",
    "    n_network_update_steps=3,\n",
    "    gamma=0.99,\n",
    "    epsilon_decay=-np.log(0.01) / 100000,\n",
    "    device=DEVICE\n",
    ")"
   ]
  },
  {
   "cell_type": "code",
   "execution_count": null,
   "id": "251afaef-a834-435b-9421-3a5916fd03a2",
   "metadata": {
    "id": "48cec9a2-1e62-4ac2-9f4d-7e9043dd6250"
   },
   "outputs": [],
   "source": [
    "history = trainer.train(\n",
    "    agent,\n",
    "    env,\n",
    "    n_episodes_per_log=100,\n",
    "    history_file_path=\"LunarLander-v2_hard_target_network_dqn.jsonl\",\n",
    ")"
   ]
  },
  {
   "cell_type": "code",
   "execution_count": null,
   "id": "c58ab590-0d92-4bd1-b121-994be7b024d0",
   "metadata": {
    "id": "8JY1I7lYBA_d"
   },
   "outputs": [],
   "source": [
    "plot_total_rewards(history, window_size=101)"
   ]
  },
  {
   "cell_type": "code",
   "execution_count": null,
   "id": "175ca564-c4ee-425c-ba40-dc1701c1dfee",
   "metadata": {
    "id": "wcDClVFBBJKr"
   },
   "outputs": [],
   "source": [
    "agent.save(\"hard_target_network_dqn.pth\")"
   ]
  },
  {
   "cell_type": "markdown",
   "id": "c2803ff0-bcfe-47ca-b031-313112f04cb0",
   "metadata": {
    "id": "90a1fcbc-7ec5-4dd1-87d7-eef713cee612"
   },
   "source": [
    "# Soft Target Network DQN"
   ]
  },
  {
   "cell_type": "code",
   "execution_count": null,
   "id": "d61ee8b1-e04b-4d1d-b410-c88886b80194",
   "metadata": {
    "id": "31ecf5a3-0f98-43ba-be18-141adc42a5f8"
   },
   "outputs": [],
   "source": [
    "agent = DQNAgent(\n",
    "    state_dim=env.observation_space.shape[0],\n",
    "    action_dim=env.action_space.n,\n",
    "    hidden_sizes=[192],\n",
    "    device=DEVICE,\n",
    ")"
   ]
  },
  {
   "cell_type": "code",
   "execution_count": null,
   "id": "61c7a7e0-b0e6-4db3-b350-e4cb65d638c4",
   "metadata": {
    "id": "ed044139-fb31-4edf-bedf-d1ae697dafac"
   },
   "outputs": [],
   "source": [
    "trainer = SoftTargetNetworkTrainer(\n",
    "    n_episodes=2000,\n",
    "    lr=0.001,\n",
    "    batch_size=64,\n",
    "    max_trajectory_length=1000,\n",
    "    gamma=0.99,\n",
    "    epsilon_decay=-np.log(0.01) / 100000,\n",
    "    target_update_tau=0.01,\n",
    "    device=DEVICE,\n",
    ")"
   ]
  },
  {
   "cell_type": "code",
   "execution_count": null,
   "id": "9cb8fef5-6fce-40e4-8d71-32ce655652d3",
   "metadata": {
    "id": "d9b0c6ac-cb7d-4d93-bba0-84ecb67debc8"
   },
   "outputs": [],
   "source": [
    "history = trainer.train(\n",
    "    agent,\n",
    "    env,\n",
    "    n_episodes_per_log=100,\n",
    "    history_file_path=\"LunarLander-v2_soft_target_network_dqn.jsonl\",\n",
    ")"
   ]
  },
  {
   "cell_type": "code",
   "execution_count": null,
   "id": "0f3de47b-0b35-4d49-8281-6b8ada77b16f",
   "metadata": {
    "id": "pllaHdHOBERl"
   },
   "outputs": [],
   "source": [
    "plot_total_rewards(history, window_size=51)"
   ]
  },
  {
   "cell_type": "code",
   "execution_count": null,
   "id": "4922666a-6758-46ac-8c7b-8cffd3efc7b5",
   "metadata": {
    "id": "R2MZbBhbBQqd"
   },
   "outputs": [],
   "source": [
    "agent.save(\"soft_target_network_dqn.pth\")"
   ]
  },
  {
   "cell_type": "markdown",
   "id": "11be6e9c-9dd9-456b-916f-290018e2c77b",
   "metadata": {
    "id": "0d037d3f-0d29-45c3-aef5-74bce129ae0c"
   },
   "source": [
    "# Double DQN"
   ]
  },
  {
   "cell_type": "code",
   "execution_count": 7,
   "id": "4aec877a-4037-48e2-b88d-0da6b569532f",
   "metadata": {
    "execution": {
     "iopub.execute_input": "2024-09-29T16:08:20.805607Z",
     "iopub.status.busy": "2024-09-29T16:08:20.804813Z",
     "iopub.status.idle": "2024-09-29T16:08:20.999654Z",
     "shell.execute_reply": "2024-09-29T16:08:20.998721Z",
     "shell.execute_reply.started": "2024-09-29T16:08:20.805562Z"
    },
    "id": "7f16d03f-5416-4ab0-b86c-720e3cb32de5"
   },
   "outputs": [],
   "source": [
    "agent = DQNAgent(\n",
    "    state_dim=env.observation_space.shape[0],\n",
    "    action_dim=env.action_space.n,\n",
    "    hidden_sizes=[192],\n",
    "    device=DEVICE,\n",
    ")"
   ]
  },
  {
   "cell_type": "code",
   "execution_count": 9,
   "id": "0dda867a-58be-4b6b-a09f-5dcd13a83a55",
   "metadata": {
    "execution": {
     "iopub.execute_input": "2024-09-29T16:08:28.615341Z",
     "iopub.status.busy": "2024-09-29T16:08:28.614928Z",
     "iopub.status.idle": "2024-09-29T16:08:28.621306Z",
     "shell.execute_reply": "2024-09-29T16:08:28.620023Z",
     "shell.execute_reply.started": "2024-09-29T16:08:28.615298Z"
    },
    "id": "a89cb0da-84c8-4dc4-9e3d-2e485fb0c8ca"
   },
   "outputs": [],
   "source": [
    "trainer = DoubleDQNTrainer(\n",
    "    n_episodes=2000,\n",
    "    lr=0.001,\n",
    "    batch_size=64,\n",
    "    max_trajectory_length=1000,\n",
    "    gamma=0.99,\n",
    "    epsilon_decay=-np.log(0.01) / 100000,\n",
    "    target_update_tau=0.01,\n",
    "    device=DEVICE,\n",
    ")"
   ]
  },
  {
   "cell_type": "code",
   "execution_count": 10,
   "id": "ab46b694-6c3b-4778-84a3-fa9cef6b8dc0",
   "metadata": {
    "execution": {
     "iopub.execute_input": "2024-09-29T16:08:30.338309Z",
     "iopub.status.busy": "2024-09-29T16:08:30.337382Z",
     "iopub.status.idle": "2024-09-29T17:21:46.457070Z",
     "shell.execute_reply": "2024-09-29T17:21:46.456037Z",
     "shell.execute_reply.started": "2024-09-29T16:08:30.338263Z"
    },
    "id": "6e0ae159-929c-4ed3-bae5-491a46ca1004"
   },
   "outputs": [
    {
     "name": "stdout",
     "output_type": "stream",
     "text": [
      "Layer Sequential(\n",
      "  (0): Linear(in_features=8, out_features=192, bias=True)\n",
      "  (1): ReLU()\n",
      "  (2): Linear(in_features=192, out_features=4, bias=True)\n",
      ") doesn't have reset_parameters method\n",
      "Layer ReLU() doesn't have reset_parameters method\n",
      "Episode №1\n",
      "Mean MSE loss: 7.11\n",
      "Total reward: -87.62\n",
      "Epsilon: 1.00\n",
      "Episode №101\n",
      "Mean MSE loss: 47.12\n",
      "Total reward: -47.44\n",
      "Epsilon: 0.60\n",
      "Episode №201\n",
      "Mean MSE loss: 20.99\n",
      "Total reward: -22.26\n",
      "Epsilon: 0.09\n",
      "Episode №301\n",
      "Mean MSE loss: 7.36\n",
      "Total reward: -213.99\n",
      "Epsilon: 0.00\n",
      "Episode №401\n",
      "Mean MSE loss: 7.24\n",
      "Total reward: 238.97\n",
      "Epsilon: 0.00\n",
      "Episode №501\n",
      "Mean MSE loss: 7.02\n",
      "Total reward: 219.31\n",
      "Epsilon: 0.00\n",
      "Episode №601\n",
      "Mean MSE loss: 8.66\n",
      "Total reward: 207.24\n",
      "Epsilon: 0.00\n",
      "Episode №701\n",
      "Mean MSE loss: 8.53\n",
      "Total reward: 219.39\n",
      "Epsilon: 0.00\n",
      "Episode №801\n",
      "Mean MSE loss: 12.16\n",
      "Total reward: 252.30\n",
      "Epsilon: 0.00\n",
      "Episode №901\n",
      "Mean MSE loss: 7.85\n",
      "Total reward: 236.13\n",
      "Epsilon: 0.00\n",
      "Episode №1001\n",
      "Mean MSE loss: 9.81\n",
      "Total reward: 26.14\n",
      "Epsilon: 0.00\n",
      "Episode №1101\n",
      "Mean MSE loss: 13.45\n",
      "Total reward: 229.92\n",
      "Epsilon: 0.00\n",
      "Episode №1201\n",
      "Mean MSE loss: 9.42\n",
      "Total reward: 261.71\n",
      "Epsilon: 0.00\n",
      "Episode №1301\n",
      "Mean MSE loss: 9.68\n",
      "Total reward: 239.80\n",
      "Epsilon: 0.00\n",
      "Episode №1401\n",
      "Mean MSE loss: 10.37\n",
      "Total reward: 261.84\n",
      "Epsilon: 0.00\n",
      "Episode №1501\n",
      "Mean MSE loss: 12.54\n",
      "Total reward: 242.57\n",
      "Epsilon: 0.00\n",
      "Episode №1601\n",
      "Mean MSE loss: 10.02\n",
      "Total reward: 302.00\n",
      "Epsilon: 0.00\n",
      "Episode №1701\n",
      "Mean MSE loss: 9.63\n",
      "Total reward: 261.58\n",
      "Epsilon: 0.00\n",
      "Episode №1801\n",
      "Mean MSE loss: 8.75\n",
      "Total reward: 234.64\n",
      "Epsilon: 0.00\n",
      "Episode №1901\n",
      "Mean MSE loss: 6.63\n",
      "Total reward: 256.16\n",
      "Epsilon: 0.00\n"
     ]
    }
   ],
   "source": [
    "history = trainer.train(\n",
    "    agent,\n",
    "    env,\n",
    "    n_episodes_per_log=100,\n",
    "    history_file_path=\"LunarLander-v2_double_dqn.jsonl\",\n",
    ")"
   ]
  },
  {
   "cell_type": "code",
   "execution_count": 15,
   "id": "16454299-551b-4c8e-87d9-c72ed0905a76",
   "metadata": {
    "execution": {
     "iopub.execute_input": "2024-09-29T17:26:11.940662Z",
     "iopub.status.busy": "2024-09-29T17:26:11.939765Z",
     "iopub.status.idle": "2024-09-29T17:26:12.349389Z",
     "shell.execute_reply": "2024-09-29T17:26:12.348381Z",
     "shell.execute_reply.started": "2024-09-29T17:26:11.940615Z"
    },
    "id": "tA7yAIy5BGBb"
   },
   "outputs": [
    {
     "data": {
      "image/png": "[encoded data removed]",
      "text/plain": [
       "<Figure size 640x480 with 1 Axes>"
      ]
     },
     "metadata": {},
     "output_type": "display_data"
    }
   ],
   "source": [
    "plot_total_rewards(history, window_size=101)"
   ]
  },
  {
   "cell_type": "code",
   "execution_count": 16,
   "id": "0e93acf7-72e5-48ec-8c86-80dc87f52a36",
   "metadata": {
    "execution": {
     "iopub.execute_input": "2024-09-29T17:26:19.395798Z",
     "iopub.status.busy": "2024-09-29T17:26:19.395405Z",
     "iopub.status.idle": "2024-09-29T17:26:19.402262Z",
     "shell.execute_reply": "2024-09-29T17:26:19.401320Z",
     "shell.execute_reply.started": "2024-09-29T17:26:19.395759Z"
    },
    "id": "d0577eeb-e745-481c-ac4d-367c4d38d74a"
   },
   "outputs": [],
   "source": [
    "agent.save(\"double_dqn.pth\")"
   ]
  },
  {
   "cell_type": "code",
   "execution_count": null,
   "id": "ac0bc921-c52d-4869-8add-cf563b7e93fe",
   "metadata": {
    "id": "1MRqz2oIBSgS"
   },
   "outputs": [],
   "source": []
  }
 ],
 "metadata": {
  "accelerator": "GPU",
  "colab": {
   "gpuType": "T4",
   "provenance": []
  },
  "kaggle": {
   "accelerator": "gpu",
   "dataSources": [
    {
     "datasetId": 5747446,
     "sourceId": 9454888,
     "sourceType": "datasetVersion"
    },
    {
     "datasetId": 5766738,
     "sourceId": 9510061,
     "sourceType": "datasetVersion"
    }
   ],
   "dockerImageVersionId": 30775,
   "isGpuEnabled": true,
   "isInternetEnabled": true,
   "language": "python",
   "sourceType": "notebook"
  },
  "kernelspec": {
   "display_name": "Python 3 (ipykernel)",
   "language": "python",
   "name": "python3"
  },
  "language_info": {
   "codemirror_mode": {
    "name": "ipython",
    "version": 3
   },
   "file_extension": ".py",
   "mimetype": "text/x-python",
   "name": "python",
   "nbconvert_exporter": "python",
   "pygments_lexer": "ipython3",
   "version": "3.10.13"
  }
 },
 "nbformat": 4,
 "nbformat_minor": 5
}
