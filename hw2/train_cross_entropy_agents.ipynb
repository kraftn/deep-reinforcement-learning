{
 "cells": [
  {
   "cell_type": "code",
   "execution_count": null,
   "metadata": {
    "id": "EZo4hfrEqBQn",
    "outputId": "47065152-bdf7-49f9-a5cc-998d16c30f83"
   },
   "outputs": [],
   "source": [
    "!tar -xzvf deep_cross_entropy.tar.gz"
   ]
  },
  {
   "cell_type": "code",
   "execution_count": null,
   "metadata": {
    "id": "cntnZUblc2xN",
    "outputId": "9df67b00-6e9d-4be2-af0e-37c41f32ca32"
   },
   "outputs": [],
   "source": [
    "!apt-get install -u -y swig\n",
    "!pip install --upgrade pip\n",
    "!pip install -r /kaggle/input/drl-requirements/requirements.txt"
   ]
  },
  {
   "cell_type": "code",
   "execution_count": 1,
   "metadata": {
    "execution": {
     "iopub.execute_input": "2024-09-24T12:34:03.477257Z",
     "iopub.status.busy": "2024-09-24T12:34:03.476855Z",
     "iopub.status.idle": "2024-09-24T12:34:03.491535Z",
     "shell.execute_reply": "2024-09-24T12:34:03.490544Z",
     "shell.execute_reply.started": "2024-09-24T12:34:03.477216Z"
    }
   },
   "outputs": [
    {
     "data": {
      "text/plain": [
       "[<FileHandler /tmp/kaggle.log (NOTSET)>, <StreamHandler stdout (NOTSET)>]"
      ]
     },
     "execution_count": 1,
     "metadata": {},
     "output_type": "execute_result"
    }
   ],
   "source": [
    "import sys\n",
    "sys.path.append(\"../input/deep-cross-entropy\")\n",
    "import logging\n",
    "import random\n",
    "\n",
    "logging.getLogger().setLevel(logging.INFO)\n",
    "logging.getLogger().addHandler(logging.StreamHandler(sys.stdout))\n",
    "logging.getLogger().handlers"
   ]
  },
  {
   "cell_type": "code",
   "execution_count": 2,
   "metadata": {
    "execution": {
     "iopub.execute_input": "2024-09-24T12:34:07.177021Z",
     "iopub.status.busy": "2024-09-24T12:34:07.176018Z",
     "iopub.status.idle": "2024-09-24T12:34:08.859906Z",
     "shell.execute_reply": "2024-09-24T12:34:08.859029Z",
     "shell.execute_reply.started": "2024-09-24T12:34:07.176975Z"
    },
    "id": "fbc9abb4-d375-43c7-aaf0-988014f77f83",
    "outputId": "071c831a-5cfa-43c4-8649-0963438fba58"
   },
   "outputs": [],
   "source": [
    "import torch\n",
    "import torch.nn as nn\n",
    "import matplotlib.pyplot as plt\n",
    "import numpy as np"
   ]
  },
  {
   "cell_type": "code",
   "execution_count": 3,
   "metadata": {
    "execution": {
     "iopub.execute_input": "2024-09-24T12:34:09.614321Z",
     "iopub.status.busy": "2024-09-24T12:34:09.613809Z",
     "iopub.status.idle": "2024-09-24T12:34:09.789257Z",
     "shell.execute_reply": "2024-09-24T12:34:09.788295Z",
     "shell.execute_reply.started": "2024-09-24T12:34:09.614279Z"
    }
   },
   "outputs": [
    {
     "name": "stderr",
     "output_type": "stream",
     "text": [
      "Warning: Gym version v0.24.0 has a number of critical issues with `gym.make` such that the `reset` and `step` functions are called before returning the environment. It is recommend to downgrading to v0.23.1 or upgrading to v0.25.1\n"
     ]
    },
    {
     "data": {
      "text/plain": [
       "'cuda'"
      ]
     },
     "execution_count": 3,
     "metadata": {},
     "output_type": "execute_result"
    }
   ],
   "source": [
    "from deep_cross_entropy.cross_entropy_agents import (\n",
    "    DiscreteCrossEntropyAgent, ContinuousCrossEntropyAgent\n",
    ")\n",
    "from deep_cross_entropy.train_agent import train_agent\n",
    "from deep_cross_entropy.network import AgentNetwork\n",
    "\n",
    "\n",
    "SEED = 42\n",
    "random.seed(SEED)\n",
    "np.random.seed(SEED)\n",
    "torch.manual_seed(SEED)\n",
    "torch.cuda.manual_seed(SEED)\n",
    "\n",
    "DEVICE = \"cuda\" if torch.cuda.is_available() else \"cpu\"\n",
    "DEVICE"
   ]
  },
  {
   "cell_type": "markdown",
   "metadata": {
    "id": "d7cdd1d6-452c-4add-baeb-41be0f1037f6"
   },
   "source": [
    "# Lunar Lander"
   ]
  },
  {
   "cell_type": "code",
   "execution_count": 5,
   "metadata": {
    "execution": {
     "iopub.execute_input": "2024-09-24T12:34:26.593163Z",
     "iopub.status.busy": "2024-09-24T12:34:26.592773Z",
     "iopub.status.idle": "2024-09-24T12:34:26.703715Z",
     "shell.execute_reply": "2024-09-24T12:34:26.702826Z",
     "shell.execute_reply.started": "2024-09-24T12:34:26.593125Z"
    },
    "id": "69ba45d5-488a-4ae8-9080-ed23c182662e",
    "outputId": "40239dbc-3d89-4d29-948a-5c7caea05a42"
   },
   "outputs": [
    {
     "data": {
      "text/plain": [
       "AgentNetwork(\n",
       "  (layers): Sequential(\n",
       "    (0): Linear(in_features=8, out_features=192, bias=True)\n",
       "    (1): ReLU()\n",
       "    (2): Linear(in_features=192, out_features=4, bias=True)\n",
       "  )\n",
       ")"
      ]
     },
     "execution_count": 5,
     "metadata": {},
     "output_type": "execute_result"
    }
   ],
   "source": [
    "network = AgentNetwork(\n",
    "    [8, 192, 4],\n",
    "    # min_state=torch.tensor([-1.5, -1.5, -5., -5., -3.14, -5., 0., 0.,]),\n",
    "    # max_state=torch.tensor([1.5, 1.5, 5., 5., 3.14, 5., 1., 1.])\n",
    ").to(DEVICE)\n",
    "network"
   ]
  },
  {
   "cell_type": "code",
   "execution_count": 6,
   "metadata": {
    "execution": {
     "iopub.execute_input": "2024-09-24T12:34:26.784524Z",
     "iopub.status.busy": "2024-09-24T12:34:26.783632Z",
     "iopub.status.idle": "2024-09-24T12:34:26.928067Z",
     "shell.execute_reply": "2024-09-24T12:34:26.927063Z",
     "shell.execute_reply.started": "2024-09-24T12:34:26.784481Z"
    },
    "id": "GiUxso31N_Ye",
    "outputId": "33a65157-4328-4d75-ef0c-bbd37acbfe56"
   },
   "outputs": [
    {
     "data": {
      "text/plain": [
       "(Parameter containing:\n",
       " tensor([0., 0., 0., 0., 0., 0., 0., 0.], device='cuda:0'),\n",
       " Parameter containing:\n",
       " tensor([1., 1., 1., 1., 1., 1., 1., 1.], device='cuda:0'))"
      ]
     },
     "execution_count": 6,
     "metadata": {},
     "output_type": "execute_result"
    }
   ],
   "source": [
    "network.mean_state, network.std_state"
   ]
  },
  {
   "cell_type": "code",
   "execution_count": 7,
   "metadata": {
    "execution": {
     "iopub.execute_input": "2024-09-24T12:34:28.208017Z",
     "iopub.status.busy": "2024-09-24T12:34:28.207489Z",
     "iopub.status.idle": "2024-09-24T12:34:28.212123Z",
     "shell.execute_reply": "2024-09-24T12:34:28.211141Z",
     "shell.execute_reply.started": "2024-09-24T12:34:28.207974Z"
    },
    "id": "6811517a-375a-4e3d-9467-e4082539dcd6"
   },
   "outputs": [],
   "source": [
    "# network.mean_state.requires_grad = True\n",
    "# network.std_state.requires_grad = True"
   ]
  },
  {
   "cell_type": "code",
   "execution_count": 8,
   "metadata": {
    "execution": {
     "iopub.execute_input": "2024-09-24T12:34:28.444738Z",
     "iopub.status.busy": "2024-09-24T12:34:28.443976Z",
     "iopub.status.idle": "2024-09-24T12:34:28.448938Z",
     "shell.execute_reply": "2024-09-24T12:34:28.448018Z",
     "shell.execute_reply.started": "2024-09-24T12:34:28.444698Z"
    },
    "id": "79e5b770-87d5-4446-b50d-afff02e3f192"
   },
   "outputs": [],
   "source": [
    "agent = DiscreteCrossEntropyAgent(network, state_dim=8, n_actions=4)"
   ]
  },
  {
   "cell_type": "code",
   "execution_count": 9,
   "metadata": {
    "execution": {
     "iopub.execute_input": "2024-09-24T12:34:34.818541Z",
     "iopub.status.busy": "2024-09-24T12:34:34.818109Z",
     "iopub.status.idle": "2024-09-24T16:12:25.208133Z",
     "shell.execute_reply": "2024-09-24T16:12:25.207227Z",
     "shell.execute_reply.started": "2024-09-24T12:34:34.818501Z"
    },
    "id": "e891518a-609b-49b8-b502-5b97b59d91e0",
    "outputId": "a704c16e-7bbe-4d58-f0ff-e5cb58f1b814",
    "scrolled": true
   },
   "outputs": [
    {
     "name": "stdout",
     "output_type": "stream",
     "text": [
      "Iteration №1\n",
      "Min total reward: -331.53; Max total reward: 96.88\n",
      "Mean total reward: -103.23\n",
      "Min elite total reward: -66.18\n",
      "Iteration №2\n",
      "Min total reward: -494.42; Max total reward: -39.12\n",
      "Mean total reward: -207.58\n",
      "Min elite total reward: -118.45\n",
      "Iteration №3\n",
      "Min total reward: -495.52; Max total reward: 48.22\n",
      "Mean total reward: -137.05\n",
      "Min elite total reward: -58.13\n",
      "Iteration №4\n",
      "Min total reward: -470.43; Max total reward: 30.59\n",
      "Mean total reward: -158.92\n",
      "Min elite total reward: -87.66\n",
      "Iteration №5\n",
      "Min total reward: -414.62; Max total reward: 5.99\n",
      "Mean total reward: -205.07\n",
      "Min elite total reward: -86.65\n",
      "Iteration №6\n",
      "Min total reward: -479.61; Max total reward: 2.94\n",
      "Mean total reward: -239.09\n",
      "Min elite total reward: -133.43\n",
      "Iteration №7\n",
      "Min total reward: -529.20; Max total reward: 2.97\n",
      "Mean total reward: -165.56\n",
      "Min elite total reward: -57.85\n",
      "Iteration №8\n",
      "Min total reward: -400.44; Max total reward: 17.09\n",
      "Mean total reward: -122.11\n",
      "Min elite total reward: -45.06\n",
      "Iteration №9\n",
      "Min total reward: -432.36; Max total reward: 2.22\n",
      "Mean total reward: -146.46\n",
      "Min elite total reward: -48.83\n",
      "Iteration №10\n",
      "Min total reward: -393.85; Max total reward: 46.26\n",
      "Mean total reward: -114.35\n",
      "Min elite total reward: -39.88\n",
      "Iteration №11\n",
      "Min total reward: -497.01; Max total reward: 11.66\n",
      "Mean total reward: -133.12\n",
      "Min elite total reward: -42.07\n",
      "Iteration №12\n",
      "Min total reward: -421.48; Max total reward: -2.07\n",
      "Mean total reward: -123.70\n",
      "Min elite total reward: -46.47\n",
      "Iteration №13\n",
      "Min total reward: -369.97; Max total reward: 41.75\n",
      "Mean total reward: -78.16\n",
      "Min elite total reward: -11.97\n",
      "Iteration №14\n",
      "Min total reward: -394.90; Max total reward: 66.81\n",
      "Mean total reward: -77.26\n",
      "Min elite total reward: -18.21\n",
      "Iteration №15\n",
      "Min total reward: -403.05; Max total reward: 55.38\n",
      "Mean total reward: -81.38\n",
      "Min elite total reward: -4.22\n",
      "Iteration №16\n",
      "Min total reward: -362.61; Max total reward: 75.78\n",
      "Mean total reward: -104.35\n",
      "Min elite total reward: -16.37\n",
      "Iteration №17\n",
      "Min total reward: -730.71; Max total reward: 44.15\n",
      "Mean total reward: -123.11\n",
      "Min elite total reward: -16.92\n",
      "Iteration №18\n",
      "Min total reward: -404.34; Max total reward: 47.01\n",
      "Mean total reward: -120.49\n",
      "Min elite total reward: -14.56\n",
      "Iteration №19\n",
      "Min total reward: -607.56; Max total reward: 43.81\n",
      "Mean total reward: -81.44\n",
      "Min elite total reward: 0.19\n",
      "Iteration №20\n",
      "Min total reward: -502.60; Max total reward: 49.60\n",
      "Mean total reward: -90.65\n",
      "Min elite total reward: -0.71\n",
      "Iteration №21\n",
      "Min total reward: -363.95; Max total reward: 46.88\n",
      "Mean total reward: -69.24\n",
      "Min elite total reward: -1.48\n",
      "Iteration №22\n",
      "Min total reward: -318.87; Max total reward: 51.26\n",
      "Mean total reward: -43.84\n",
      "Min elite total reward: 6.73\n",
      "Iteration №23\n",
      "Min total reward: -260.22; Max total reward: 62.38\n",
      "Mean total reward: -24.90\n",
      "Min elite total reward: 13.57\n",
      "Iteration №24\n",
      "Min total reward: -313.55; Max total reward: 48.95\n",
      "Mean total reward: -14.87\n",
      "Min elite total reward: 14.13\n",
      "Iteration №25\n",
      "Min total reward: -169.12; Max total reward: 52.56\n",
      "Mean total reward: -17.19\n",
      "Min elite total reward: 10.51\n",
      "Iteration №26\n",
      "Min total reward: -174.79; Max total reward: 55.35\n",
      "Mean total reward: -17.91\n",
      "Min elite total reward: 19.55\n",
      "Iteration №27\n",
      "Min total reward: -114.80; Max total reward: 53.75\n",
      "Mean total reward: -9.94\n",
      "Min elite total reward: 19.28\n",
      "Iteration №28\n",
      "Min total reward: -117.34; Max total reward: 52.48\n",
      "Mean total reward: -1.94\n",
      "Min elite total reward: 27.22\n",
      "Iteration №29\n",
      "Min total reward: -250.84; Max total reward: 79.77\n",
      "Mean total reward: -6.49\n",
      "Min elite total reward: 29.13\n",
      "Iteration №30\n",
      "Min total reward: -300.32; Max total reward: 64.51\n",
      "Mean total reward: -21.44\n",
      "Min elite total reward: 33.35\n",
      "Iteration №31\n",
      "Min total reward: -274.22; Max total reward: 68.57\n",
      "Mean total reward: -32.80\n",
      "Min elite total reward: 21.18\n",
      "Iteration №32\n",
      "Min total reward: -342.36; Max total reward: 62.56\n",
      "Mean total reward: -50.20\n",
      "Min elite total reward: 18.34\n",
      "Iteration №33\n",
      "Min total reward: -351.75; Max total reward: 49.01\n",
      "Mean total reward: -68.77\n",
      "Min elite total reward: 15.98\n",
      "Iteration №34\n",
      "Min total reward: -420.38; Max total reward: 50.89\n",
      "Mean total reward: -106.76\n",
      "Min elite total reward: 2.89\n",
      "Iteration №35\n",
      "Min total reward: -398.91; Max total reward: 70.22\n",
      "Mean total reward: -107.03\n",
      "Min elite total reward: -8.70\n",
      "Iteration №36\n",
      "Min total reward: -381.27; Max total reward: 84.33\n",
      "Mean total reward: -66.90\n",
      "Min elite total reward: 7.94\n",
      "Iteration №37\n",
      "Min total reward: -423.64; Max total reward: 74.37\n",
      "Mean total reward: -60.45\n",
      "Min elite total reward: 14.06\n",
      "Iteration №38\n",
      "Min total reward: -327.74; Max total reward: 50.12\n",
      "Mean total reward: -49.12\n",
      "Min elite total reward: 11.00\n",
      "Iteration №39\n",
      "Min total reward: -319.06; Max total reward: 93.81\n",
      "Mean total reward: -41.11\n",
      "Min elite total reward: 21.39\n",
      "Iteration №40\n",
      "Min total reward: -237.05; Max total reward: 84.37\n",
      "Mean total reward: -4.35\n",
      "Min elite total reward: 45.12\n",
      "Iteration №41\n",
      "Min total reward: -156.08; Max total reward: 100.89\n",
      "Mean total reward: 14.74\n",
      "Min elite total reward: 42.39\n",
      "Iteration №42\n",
      "Min total reward: -137.35; Max total reward: 84.16\n",
      "Mean total reward: 11.02\n",
      "Min elite total reward: 36.55\n",
      "Iteration №43\n",
      "Min total reward: -216.21; Max total reward: 110.25\n",
      "Mean total reward: 15.57\n",
      "Min elite total reward: 43.32\n",
      "Iteration №44\n",
      "Min total reward: -110.31; Max total reward: 68.81\n",
      "Mean total reward: 21.35\n",
      "Min elite total reward: 42.39\n",
      "Iteration №45\n",
      "Min total reward: -230.96; Max total reward: 118.86\n",
      "Mean total reward: 21.02\n",
      "Min elite total reward: 49.30\n",
      "Iteration №46\n",
      "Min total reward: -56.76; Max total reward: 89.17\n",
      "Mean total reward: 27.47\n",
      "Min elite total reward: 45.52\n",
      "Iteration №47\n",
      "Min total reward: -18.37; Max total reward: 86.50\n",
      "Mean total reward: 23.73\n",
      "Min elite total reward: 39.60\n",
      "Iteration №48\n",
      "Min total reward: -126.85; Max total reward: 96.34\n",
      "Mean total reward: 21.12\n",
      "Min elite total reward: 45.67\n",
      "Iteration №49\n",
      "Min total reward: -164.19; Max total reward: 107.77\n",
      "Mean total reward: 25.20\n",
      "Min elite total reward: 56.53\n",
      "Iteration №50\n",
      "Min total reward: -56.80; Max total reward: 87.26\n",
      "Mean total reward: 34.00\n",
      "Min elite total reward: 60.24\n",
      "Iteration №51\n",
      "Min total reward: -63.04; Max total reward: 108.98\n",
      "Mean total reward: 23.83\n",
      "Min elite total reward: 56.58\n",
      "Iteration №52\n",
      "Min total reward: -83.68; Max total reward: 102.42\n",
      "Mean total reward: 32.07\n",
      "Min elite total reward: 63.58\n",
      "Iteration №53\n",
      "Min total reward: -163.45; Max total reward: 96.87\n",
      "Mean total reward: 28.16\n",
      "Min elite total reward: 59.73\n",
      "Iteration №54\n",
      "Min total reward: -255.68; Max total reward: 105.78\n",
      "Mean total reward: 19.00\n",
      "Min elite total reward: 50.57\n",
      "Iteration №55\n",
      "Min total reward: -193.21; Max total reward: 111.06\n",
      "Mean total reward: 30.09\n",
      "Min elite total reward: 66.22\n",
      "Iteration №56\n",
      "Min total reward: -166.68; Max total reward: 111.03\n",
      "Mean total reward: 27.02\n",
      "Min elite total reward: 62.35\n",
      "Iteration №57\n",
      "Min total reward: -130.09; Max total reward: 113.94\n",
      "Mean total reward: 32.12\n",
      "Min elite total reward: 66.03\n",
      "Iteration №58\n",
      "Min total reward: -186.31; Max total reward: 117.77\n",
      "Mean total reward: 36.57\n",
      "Min elite total reward: 75.72\n",
      "Iteration №59\n",
      "Min total reward: -154.18; Max total reward: 126.19\n",
      "Mean total reward: 42.61\n",
      "Min elite total reward: 91.30\n",
      "Iteration №60\n",
      "Min total reward: -276.21; Max total reward: 137.64\n",
      "Mean total reward: 34.86\n",
      "Min elite total reward: 70.42\n",
      "Iteration №61\n",
      "Min total reward: -150.99; Max total reward: 145.88\n",
      "Mean total reward: 42.14\n",
      "Min elite total reward: 89.67\n",
      "Iteration №62\n",
      "Min total reward: -156.21; Max total reward: 143.52\n",
      "Mean total reward: 48.93\n",
      "Min elite total reward: 92.71\n",
      "Iteration №63\n",
      "Min total reward: -66.10; Max total reward: 135.42\n",
      "Mean total reward: 45.75\n",
      "Min elite total reward: 99.40\n",
      "Iteration №64\n",
      "Min total reward: -218.19; Max total reward: 139.13\n",
      "Mean total reward: 45.97\n",
      "Min elite total reward: 104.09\n",
      "Iteration №65\n",
      "Min total reward: -173.81; Max total reward: 155.43\n",
      "Mean total reward: 42.71\n",
      "Min elite total reward: 88.22\n",
      "Iteration №66\n",
      "Min total reward: -122.29; Max total reward: 145.24\n",
      "Mean total reward: 47.07\n",
      "Min elite total reward: 111.12\n",
      "Iteration №67\n",
      "Min total reward: -179.69; Max total reward: 147.85\n",
      "Mean total reward: 35.27\n",
      "Min elite total reward: 92.45\n",
      "Iteration №68\n",
      "Min total reward: -214.23; Max total reward: 169.58\n",
      "Mean total reward: 53.06\n",
      "Min elite total reward: 118.61\n",
      "Iteration №69\n",
      "Min total reward: -156.51; Max total reward: 141.68\n",
      "Mean total reward: 58.18\n",
      "Min elite total reward: 110.64\n",
      "Iteration №70\n",
      "Min total reward: -167.76; Max total reward: 141.36\n",
      "Mean total reward: 57.50\n",
      "Min elite total reward: 102.98\n",
      "Iteration №71\n",
      "Min total reward: -184.47; Max total reward: 167.88\n",
      "Mean total reward: 54.29\n",
      "Min elite total reward: 108.72\n",
      "Iteration №72\n",
      "Min total reward: -159.69; Max total reward: 152.44\n",
      "Mean total reward: 67.75\n",
      "Min elite total reward: 115.26\n",
      "Iteration №73\n",
      "Min total reward: -145.59; Max total reward: 192.79\n",
      "Mean total reward: 70.06\n",
      "Min elite total reward: 121.27\n",
      "Iteration №74\n",
      "Min total reward: -38.40; Max total reward: 160.95\n",
      "Mean total reward: 85.31\n",
      "Min elite total reward: 137.51\n",
      "Iteration №75\n",
      "Min total reward: -94.44; Max total reward: 170.56\n",
      "Mean total reward: 71.96\n",
      "Min elite total reward: 122.51\n",
      "Iteration №76\n",
      "Min total reward: -138.53; Max total reward: 181.56\n",
      "Mean total reward: 66.93\n",
      "Min elite total reward: 124.69\n",
      "Iteration №77\n",
      "Min total reward: -178.38; Max total reward: 178.49\n",
      "Mean total reward: 77.34\n",
      "Min elite total reward: 131.27\n",
      "Iteration №78\n",
      "Min total reward: -95.83; Max total reward: 173.32\n",
      "Mean total reward: 69.40\n",
      "Min elite total reward: 123.21\n",
      "Iteration №79\n",
      "Min total reward: -99.30; Max total reward: 172.10\n",
      "Mean total reward: 54.72\n",
      "Min elite total reward: 105.32\n",
      "Iteration №80\n",
      "Min total reward: -94.20; Max total reward: 198.63\n",
      "Mean total reward: 83.27\n",
      "Min elite total reward: 133.57\n",
      "Iteration №81\n",
      "Min total reward: -50.90; Max total reward: 223.30\n",
      "Mean total reward: 85.32\n",
      "Min elite total reward: 142.25\n",
      "Iteration №82\n",
      "Min total reward: -116.77; Max total reward: 190.66\n",
      "Mean total reward: 71.56\n",
      "Min elite total reward: 123.81\n",
      "Iteration №83\n",
      "Min total reward: -178.90; Max total reward: 196.15\n",
      "Mean total reward: 70.80\n",
      "Min elite total reward: 131.01\n",
      "Iteration №84\n",
      "Min total reward: -159.05; Max total reward: 223.98\n",
      "Mean total reward: 70.00\n",
      "Min elite total reward: 136.18\n",
      "Iteration №85\n",
      "Min total reward: -176.54; Max total reward: 196.10\n",
      "Mean total reward: 69.58\n",
      "Min elite total reward: 132.87\n",
      "Iteration №86\n",
      "Min total reward: -109.37; Max total reward: 202.78\n",
      "Mean total reward: 69.13\n",
      "Min elite total reward: 134.99\n",
      "Iteration №87\n",
      "Min total reward: -190.67; Max total reward: 248.70\n",
      "Mean total reward: 85.05\n",
      "Min elite total reward: 137.83\n",
      "Iteration №88\n",
      "Min total reward: -65.28; Max total reward: 225.88\n",
      "Mean total reward: 83.06\n",
      "Min elite total reward: 141.31\n",
      "Iteration №89\n",
      "Min total reward: -35.71; Max total reward: 285.97\n",
      "Mean total reward: 74.79\n",
      "Min elite total reward: 124.62\n",
      "Iteration №90\n",
      "Min total reward: -51.09; Max total reward: 263.36\n",
      "Mean total reward: 77.54\n",
      "Min elite total reward: 136.52\n",
      "Iteration №91\n",
      "Min total reward: -60.32; Max total reward: 245.95\n",
      "Mean total reward: 89.15\n",
      "Min elite total reward: 142.99\n",
      "Iteration №92\n",
      "Min total reward: -67.23; Max total reward: 232.47\n",
      "Mean total reward: 68.12\n",
      "Min elite total reward: 133.82\n",
      "Iteration №93\n",
      "Min total reward: -34.69; Max total reward: 227.04\n",
      "Mean total reward: 76.05\n",
      "Min elite total reward: 137.03\n",
      "Iteration №94\n",
      "Min total reward: -40.59; Max total reward: 262.08\n",
      "Mean total reward: 99.98\n",
      "Min elite total reward: 157.55\n",
      "Iteration №95\n",
      "Min total reward: -51.54; Max total reward: 256.48\n",
      "Mean total reward: 92.61\n",
      "Min elite total reward: 147.44\n",
      "Iteration №96\n",
      "Min total reward: -37.30; Max total reward: 227.04\n",
      "Mean total reward: 82.44\n",
      "Min elite total reward: 145.17\n",
      "Iteration №97\n",
      "Min total reward: -48.49; Max total reward: 251.33\n",
      "Mean total reward: 87.14\n",
      "Min elite total reward: 161.38\n",
      "Iteration №98\n",
      "Min total reward: -37.51; Max total reward: 224.70\n",
      "Mean total reward: 94.59\n",
      "Min elite total reward: 159.19\n",
      "Iteration №99\n",
      "Min total reward: -27.15; Max total reward: 248.95\n",
      "Mean total reward: 100.54\n",
      "Min elite total reward: 146.62\n",
      "Iteration №100\n",
      "Min total reward: -13.89; Max total reward: 252.91\n",
      "Mean total reward: 102.06\n",
      "Min elite total reward: 160.77\n",
      "Iteration №101\n",
      "Min total reward: -31.48; Max total reward: 250.37\n",
      "Mean total reward: 108.13\n",
      "Min elite total reward: 150.85\n",
      "Iteration №102\n",
      "Min total reward: -20.32; Max total reward: 249.73\n",
      "Mean total reward: 119.53\n",
      "Min elite total reward: 182.74\n",
      "Iteration №103\n",
      "Min total reward: -3.88; Max total reward: 256.91\n",
      "Mean total reward: 115.44\n",
      "Min elite total reward: 150.40\n",
      "Iteration №104\n",
      "Min total reward: -49.21; Max total reward: 260.59\n",
      "Mean total reward: 125.07\n",
      "Min elite total reward: 176.84\n",
      "Iteration №105\n",
      "Min total reward: -45.20; Max total reward: 225.87\n",
      "Mean total reward: 119.63\n",
      "Min elite total reward: 161.41\n",
      "Iteration №106\n",
      "Min total reward: -52.32; Max total reward: 249.02\n",
      "Mean total reward: 109.86\n",
      "Min elite total reward: 153.19\n",
      "Iteration №107\n",
      "Min total reward: -78.24; Max total reward: 218.96\n",
      "Mean total reward: 107.04\n",
      "Min elite total reward: 165.98\n",
      "Iteration №108\n",
      "Min total reward: -116.25; Max total reward: 219.84\n",
      "Mean total reward: 114.00\n",
      "Min elite total reward: 171.12\n",
      "Iteration №109\n",
      "Min total reward: -202.68; Max total reward: 228.26\n",
      "Mean total reward: 99.75\n",
      "Min elite total reward: 170.62\n",
      "Iteration №110\n",
      "Min total reward: -79.26; Max total reward: 242.79\n",
      "Mean total reward: 123.88\n",
      "Min elite total reward: 169.00\n",
      "Iteration №111\n",
      "Min total reward: -85.53; Max total reward: 223.31\n",
      "Mean total reward: 120.08\n",
      "Min elite total reward: 187.40\n",
      "Iteration №112\n",
      "Min total reward: -79.21; Max total reward: 257.11\n",
      "Mean total reward: 102.86\n",
      "Min elite total reward: 172.57\n",
      "Iteration №113\n",
      "Min total reward: -80.94; Max total reward: 260.83\n",
      "Mean total reward: 113.77\n",
      "Min elite total reward: 205.72\n",
      "Iteration №114\n",
      "Min total reward: -91.82; Max total reward: 267.55\n",
      "Mean total reward: 119.79\n",
      "Min elite total reward: 231.41\n",
      "Iteration №115\n",
      "Min total reward: -102.94; Max total reward: 267.09\n",
      "Mean total reward: 123.31\n",
      "Min elite total reward: 234.06\n",
      "Iteration №116\n",
      "Min total reward: -245.73; Max total reward: 272.86\n",
      "Mean total reward: 108.46\n",
      "Min elite total reward: 226.60\n",
      "Iteration №117\n",
      "Min total reward: -152.11; Max total reward: 271.88\n",
      "Mean total reward: 149.86\n",
      "Min elite total reward: 223.88\n",
      "Iteration №118\n",
      "Min total reward: -261.63; Max total reward: 252.91\n",
      "Mean total reward: 98.61\n",
      "Min elite total reward: 202.09\n",
      "Iteration №119\n",
      "Min total reward: -263.57; Max total reward: 255.37\n",
      "Mean total reward: 113.81\n",
      "Min elite total reward: 215.85\n",
      "Iteration №120\n",
      "Min total reward: -357.55; Max total reward: 278.33\n",
      "Mean total reward: 152.68\n",
      "Min elite total reward: 239.00\n"
     ]
    }
   ],
   "source": [
    "def calc_noise_epsilon(initial_noise_epsilon, iteration):\n",
    "    return initial_noise_epsilon / iteration\n",
    "\n",
    "\n",
    "mean_total_rewards = train_agent(\n",
    "    agent,\n",
    "    \"LunarLander-v2\",\n",
    "    nn.CrossEntropyLoss(),\n",
    "    n_iterations=250,\n",
    "    n_trajectories=100,\n",
    "    q_param=0.8,\n",
    "    lr=0.01,\n",
    "    max_length=1000,\n",
    "    calc_noise_epsilon=calc_noise_epsilon,\n",
    "    initial_noise_epsilon=0.0,\n",
    "    solved_problem_reward=150.0,\n",
    "    history_file_path=\"LunarLander-v2_cross_entropy.jsonl\",\n",
    ")"
   ]
  },
  {
   "cell_type": "code",
   "execution_count": 10,
   "metadata": {
    "execution": {
     "iopub.execute_input": "2024-09-24T16:12:25.219344Z",
     "iopub.status.busy": "2024-09-24T16:12:25.218849Z",
     "iopub.status.idle": "2024-09-24T16:12:25.559957Z",
     "shell.execute_reply": "2024-09-24T16:12:25.558972Z",
     "shell.execute_reply.started": "2024-09-24T16:12:25.219306Z"
    },
    "id": "f3aa9688-ae59-4c8a-a223-3bac70864867"
   },
   "outputs": [
    {
     "data": {
      "image/png": "[encoded data removed]",
      "text/plain": [
       "<Figure size 640x480 with 1 Axes>"
      ]
     },
     "metadata": {},
     "output_type": "display_data"
    }
   ],
   "source": [
    "plt.plot(list(range(1, len(mean_total_rewards) + 1)), mean_total_rewards)\n",
    "plt.xlabel(\"Iterations\")\n",
    "plt.ylabel(\"Mean total reward\")\n",
    "plt.grid()"
   ]
  },
  {
   "cell_type": "code",
   "execution_count": 14,
   "metadata": {
    "execution": {
     "iopub.execute_input": "2024-09-24T16:15:28.166782Z",
     "iopub.status.busy": "2024-09-24T16:15:28.166352Z",
     "iopub.status.idle": "2024-09-24T16:15:28.174845Z",
     "shell.execute_reply": "2024-09-24T16:15:28.173735Z",
     "shell.execute_reply.started": "2024-09-24T16:15:28.166723Z"
    },
    "id": "4da00459-b871-437d-b514-c1ef54349e6b"
   },
   "outputs": [],
   "source": [
    "agent.save_model(\"lunar_lander_model.pth\")"
   ]
  },
  {
   "cell_type": "markdown",
   "metadata": {
    "id": "c5xcOiBUjDSZ"
   },
   "source": [
    "# Mountain Car"
   ]
  },
  {
   "cell_type": "code",
   "execution_count": null,
   "metadata": {
    "id": "PHl665_kjGQC",
    "outputId": "937a0e88-caf6-4d18-9255-3322bcaa9953"
   },
   "outputs": [],
   "source": [
    "network = AgentNetwork(\n",
    "    [2, 64, 1],\n",
    "    # min_state=torch.tensor([-1.2, -0.07]),\n",
    "    # max_state=torch.tensor([0.6, 0.07])\n",
    ").to(DEVICE)\n",
    "network"
   ]
  },
  {
   "cell_type": "code",
   "execution_count": null,
   "metadata": {
    "id": "4r9ft-8LjT3x",
    "outputId": "382d941d-e60b-497f-f872-04cb1089573d"
   },
   "outputs": [],
   "source": [
    "network.mean_state, network.std_state"
   ]
  },
  {
   "cell_type": "code",
   "execution_count": null,
   "metadata": {
    "id": "GC1gvm8cjV9y"
   },
   "outputs": [],
   "source": [
    "agent = ContinuousCrossEntropyAgent(\n",
    "    network,\n",
    "    state_dim=2,\n",
    "    action_dim=1,\n",
    "    min_action=torch.tensor([-1.0], dtype=torch.float32),\n",
    "    max_action=torch.tensor([1.0], dtype=torch.float32)\n",
    ")"
   ]
  },
  {
   "cell_type": "code",
   "execution_count": null,
   "metadata": {
    "id": "K3vbj3g6j5e8",
    "outputId": "84529e49-a812-4541-e1df-2f477b1ab95d",
    "scrolled": true
   },
   "outputs": [],
   "source": [
    "def calc_noise_epsilon(intial_noise_epsilon, iteration):\n",
    "    return intial_noise_epsilon * (0.9 * 0.99 ** (iteration - 1) + 0.1)\n",
    "\n",
    "\n",
    "mean_total_rewards = train_agent(\n",
    "    agent,\n",
    "    \"MountainCarContinuous-v0\",\n",
    "    nn.MSELoss(),\n",
    "    n_iterations=250,\n",
    "    n_trajectories=100,\n",
    "    q_param=0.8,\n",
    "    lr=0.01,\n",
    "    max_length=1000,\n",
    "    calc_noise_epsilon=calc_noise_epsilon,\n",
    "    solved_problem_reward=95.0\n",
    ")"
   ]
  },
  {
   "cell_type": "code",
   "execution_count": null,
   "metadata": {
    "id": "s2XpkJOZkCCY",
    "outputId": "64e4d265-3c1e-4285-84fd-21929b85295f"
   },
   "outputs": [],
   "source": [
    "plt.plot(list(range(1, len(mean_total_rewards) + 1)), mean_total_rewards)\n",
    "plt.xlabel(\"Iterations\")\n",
    "plt.ylabel(\"Mean total reward\")\n",
    "plt.grid()"
   ]
  },
  {
   "cell_type": "code",
   "execution_count": null,
   "metadata": {
    "id": "LNCQzg_ykDtI"
   },
   "outputs": [],
   "source": [
    "agent.save_model(\"mountain_car_model.pth\")"
   ]
  },
  {
   "cell_type": "markdown",
   "metadata": {
    "id": "ad33600f-e2c0-424d-83ff-cf1424bca4fc"
   },
   "source": [
    "# Run agent"
   ]
  },
  {
   "cell_type": "code",
   "execution_count": null,
   "metadata": {
    "id": "cD-FSQs71yUP"
   },
   "outputs": [],
   "source": [
    "!python run_agent.py lunar_lander lunar_lander_model.pth"
   ]
  },
  {
   "cell_type": "code",
   "execution_count": null,
   "metadata": {
    "id": "cd04e71b-2d04-4314-bf78-0ab7f2b8895c"
   },
   "outputs": [],
   "source": []
  }
 ],
 "metadata": {
  "accelerator": "GPU",
  "colab": {
   "gpuType": "T4",
   "provenance": []
  },
  "kaggle": {
   "accelerator": "gpu",
   "dataSources": [
    {
     "datasetId": 5747446,
     "sourceId": 9454888,
     "sourceType": "datasetVersion"
    },
    {
     "datasetId": 5747441,
     "sourceId": 9470667,
     "sourceType": "datasetVersion"
    }
   ],
   "dockerImageVersionId": 30762,
   "isGpuEnabled": true,
   "isInternetEnabled": true,
   "language": "python",
   "sourceType": "notebook"
  },
  "kernelspec": {
   "display_name": "Python 3 (ipykernel)",
   "language": "python",
   "name": "python3"
  },
  "language_info": {
   "codemirror_mode": {
    "name": "ipython",
    "version": 3
   },
   "file_extension": ".py",
   "mimetype": "text/x-python",
   "name": "python",
   "nbconvert_exporter": "python",
   "pygments_lexer": "ipython3",
   "version": "3.10.13"
  }
 },
 "nbformat": 4,
 "nbformat_minor": 4
}
