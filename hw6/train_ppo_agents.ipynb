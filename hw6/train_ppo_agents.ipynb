{
 "cells": [
  {
   "cell_type": "code",
   "execution_count": 1,
   "id": "494401b9-a7ad-4e1c-b430-2e29280661ff",
   "metadata": {},
   "outputs": [],
   "source": [
    "import sys\n",
    "import logging\n",
    "\n",
    "logging.getLogger().addHandler(logging.StreamHandler())\n",
    "logging.getLogger().setLevel(logging.INFO)"
   ]
  },
  {
   "cell_type": "code",
   "execution_count": 2,
   "id": "9ab191aa-e35c-46e6-b551-30b5f22db854",
   "metadata": {},
   "outputs": [
    {
     "name": "stderr",
     "output_type": "stream",
     "text": [
      "Warning: Gym version v0.24.0 has a number of critical issues with `gym.make` such that the `reset` and `step` functions are called before returning the environment. It is recommend to downgrading to v0.23.1 or upgrading to v0.25.1\n"
     ]
    }
   ],
   "source": [
    "import gym\n",
    "import torch\n",
    "import matplotlib.pyplot as plt"
   ]
  },
  {
   "cell_type": "code",
   "execution_count": 3,
   "id": "8338718e-fbd6-40d9-a991-f185f03ff6e7",
   "metadata": {},
   "outputs": [],
   "source": [
    "from ppo.agents import ContinuousDistributionAgent, DiscreteDistributionAgent\n",
    "from ppo.trainers import BellmanEquationBasedPPOTrainer, ReturnsBasedPPOTrainer\n",
    "from ppo.utils.data_processor import DataProcessor\n",
    "from ppo.utils.network import Network"
   ]
  },
  {
   "cell_type": "markdown",
   "id": "49de6341-4c1d-4b03-b463-2360699abaea",
   "metadata": {},
   "source": [
    "# Pendulum"
   ]
  },
  {
   "cell_type": "code",
   "execution_count": null,
   "id": "1f9efe47-a946-40ac-8229-60804f2c09d1",
   "metadata": {},
   "outputs": [],
   "source": [
    "env = gym.make(\"Pendulum-v1\")\n",
    "env.observation_space.shape[0], env.action_space.shape[0]"
   ]
  },
  {
   "cell_type": "code",
   "execution_count": 5,
   "id": "c8f17055-e31b-47d4-b373-1f0e4758f4ab",
   "metadata": {},
   "outputs": [],
   "source": [
    "agent = ContinuousDistributionAgent(\n",
    "    Network([env.observation_space.shape[0], 128, 128, env.action_space.shape[0] * 2]),\n",
    "    min_action=torch.tensor([-2.0]),\n",
    "    max_action=torch.tensor([2.0]),\n",
    ")"
   ]
  },
  {
   "cell_type": "markdown",
   "id": "05ca3dce-39f9-4abe-8ad2-65d683af7403",
   "metadata": {},
   "source": [
    "## ReturnsBasedPPOTrainer"
   ]
  },
  {
   "cell_type": "code",
   "execution_count": 6,
   "id": "fdcba8dd-d133-433c-b4b4-4ac0aabe50f9",
   "metadata": {},
   "outputs": [],
   "source": [
    "trainer = ReturnsBasedPPOTrainer(\n",
    "    n_episodes=50,\n",
    "    n_trajectories_per_episode=20,\n",
    "    n_epochs_per_episode=30,\n",
    "    epsilon=0.2,\n",
    "    policy_network_lr=1e-4,\n",
    "    value_network_lr=5e-4,\n",
    "    batch_size=32,\n",
    "    gamma=0.99,\n",
    "    value_network_hidden_sizes=[env.observation_space.shape[0], 128, 128, 1],\n",
    "    max_trajectory_length=200,\n",
    ")"
   ]
  },
  {
   "cell_type": "code",
   "execution_count": 7,
   "id": "26f53985-f7b0-456f-9a89-128b41e9cdf7",
   "metadata": {
    "scrolled": true
   },
   "outputs": [
    {
     "name": "stderr",
     "output_type": "stream",
     "text": [
      "Layer Sequential(\n",
      "  (0): Linear(in_features=3, out_features=128, bias=True)\n",
      "  (1): ReLU()\n",
      "  (2): Linear(in_features=128, out_features=128, bias=True)\n",
      "  (3): ReLU()\n",
      "  (4): Linear(in_features=128, out_features=2, bias=True)\n",
      ") doesn't have reset_parameters method\n",
      "Layer ReLU() doesn't have reset_parameters method\n",
      "Layer ReLU() doesn't have reset_parameters method\n",
      "Episode №1\n"
     ]
    },
    {
     "data": {
      "application/vnd.jupyter.widget-view+json": {
       "model_id": "ad0ce386fe904c8cbf45bb703fa7a643",
       "version_major": 2,
       "version_minor": 0
      },
      "text/plain": [
       "Sampling trajectories:   0%|          | 0/20 [00:00<?, ?it/s]"
      ]
     },
     "metadata": {},
     "output_type": "display_data"
    },
    {
     "name": "stderr",
     "output_type": "stream",
     "text": [
      "Mean total reward: -1143.24\n"
     ]
    },
    {
     "data": {
      "application/vnd.jupyter.widget-view+json": {
       "model_id": "f9acba624a844394ba221704412dca85",
       "version_major": 2,
       "version_minor": 0
      },
      "text/plain": [
       "Iterating over epochs:   0%|          | 0/30 [00:00<?, ?it/s]"
      ]
     },
     "metadata": {},
     "output_type": "display_data"
    },
    {
     "name": "stderr",
     "output_type": "stream",
     "text": [
      "Mean policy network loss: 25.000066\n",
      "Mean value network loss: 27027.434165\n",
      "Episode №2\n"
     ]
    },
    {
     "data": {
      "application/vnd.jupyter.widget-view+json": {
       "model_id": "553da217cb664106847f6cb39bd1ce86",
       "version_major": 2,
       "version_minor": 0
      },
      "text/plain": [
       "Sampling trajectories:   0%|          | 0/20 [00:00<?, ?it/s]"
      ]
     },
     "metadata": {},
     "output_type": "display_data"
    },
    {
     "name": "stderr",
     "output_type": "stream",
     "text": [
      "Mean total reward: -1088.75\n"
     ]
    },
    {
     "data": {
      "application/vnd.jupyter.widget-view+json": {
       "model_id": "820bfcbc401b4c31a2ffd2c8c130a581",
       "version_major": 2,
       "version_minor": 0
      },
      "text/plain": [
       "Iterating over epochs:   0%|          | 0/30 [00:00<?, ?it/s]"
      ]
     },
     "metadata": {},
     "output_type": "display_data"
    },
    {
     "name": "stderr",
     "output_type": "stream",
     "text": [
      "Mean policy network loss: -0.912171\n",
      "Mean value network loss: 16964.503520\n",
      "Episode №3\n"
     ]
    },
    {
     "data": {
      "application/vnd.jupyter.widget-view+json": {
       "model_id": "4ed1dc305a21479d8d31b7ef778e0d28",
       "version_major": 2,
       "version_minor": 0
      },
      "text/plain": [
       "Sampling trajectories:   0%|          | 0/20 [00:00<?, ?it/s]"
      ]
     },
     "metadata": {},
     "output_type": "display_data"
    },
    {
     "name": "stderr",
     "output_type": "stream",
     "text": [
      "Mean total reward: -1195.48\n"
     ]
    },
    {
     "data": {
      "application/vnd.jupyter.widget-view+json": {
       "model_id": "c09cf02c28a0456f894b14b67811e05e",
       "version_major": 2,
       "version_minor": 0
      },
      "text/plain": [
       "Iterating over epochs:   0%|          | 0/30 [00:00<?, ?it/s]"
      ]
     },
     "metadata": {},
     "output_type": "display_data"
    },
    {
     "name": "stderr",
     "output_type": "stream",
     "text": [
      "Mean policy network loss: -0.714051\n",
      "Mean value network loss: 15863.059475\n",
      "Episode №4\n"
     ]
    },
    {
     "data": {
      "application/vnd.jupyter.widget-view+json": {
       "model_id": "56b3c8b71611457abef215283ccf621c",
       "version_major": 2,
       "version_minor": 0
      },
      "text/plain": [
       "Sampling trajectories:   0%|          | 0/20 [00:00<?, ?it/s]"
      ]
     },
     "metadata": {},
     "output_type": "display_data"
    },
    {
     "name": "stderr",
     "output_type": "stream",
     "text": [
      "Mean total reward: -1136.17\n"
     ]
    },
    {
     "data": {
      "application/vnd.jupyter.widget-view+json": {
       "model_id": "f765196964c2479199b1ef70dffc08b5",
       "version_major": 2,
       "version_minor": 0
      },
      "text/plain": [
       "Iterating over epochs:   0%|          | 0/30 [00:00<?, ?it/s]"
      ]
     },
     "metadata": {},
     "output_type": "display_data"
    },
    {
     "name": "stderr",
     "output_type": "stream",
     "text": [
      "Mean policy network loss: -0.967850\n",
      "Mean value network loss: 14813.125698\n",
      "Episode №5\n"
     ]
    },
    {
     "data": {
      "application/vnd.jupyter.widget-view+json": {
       "model_id": "3e9a5961ff2141cf83e3f3daca54938a",
       "version_major": 2,
       "version_minor": 0
      },
      "text/plain": [
       "Sampling trajectories:   0%|          | 0/20 [00:00<?, ?it/s]"
      ]
     },
     "metadata": {},
     "output_type": "display_data"
    },
    {
     "name": "stderr",
     "output_type": "stream",
     "text": [
      "Mean total reward: -1084.81\n"
     ]
    },
    {
     "data": {
      "application/vnd.jupyter.widget-view+json": {
       "model_id": "e3c1caca1266455299aa6aa6667ec924",
       "version_major": 2,
       "version_minor": 0
      },
      "text/plain": [
       "Iterating over epochs:   0%|          | 0/30 [00:00<?, ?it/s]"
      ]
     },
     "metadata": {},
     "output_type": "display_data"
    },
    {
     "name": "stderr",
     "output_type": "stream",
     "text": [
      "Mean policy network loss: -1.038601\n",
      "Mean value network loss: 13031.727688\n",
      "Episode №6\n"
     ]
    },
    {
     "data": {
      "application/vnd.jupyter.widget-view+json": {
       "model_id": "be5c24a65cfb4ac2ac4f6ab6cf2df91f",
       "version_major": 2,
       "version_minor": 0
      },
      "text/plain": [
       "Sampling trajectories:   0%|          | 0/20 [00:00<?, ?it/s]"
      ]
     },
     "metadata": {},
     "output_type": "display_data"
    },
    {
     "name": "stderr",
     "output_type": "stream",
     "text": [
      "Mean total reward: -1145.60\n"
     ]
    },
    {
     "data": {
      "application/vnd.jupyter.widget-view+json": {
       "model_id": "90af308c4e1f4709bea3ebf12c8ef621",
       "version_major": 2,
       "version_minor": 0
      },
      "text/plain": [
       "Iterating over epochs:   0%|          | 0/30 [00:00<?, ?it/s]"
      ]
     },
     "metadata": {},
     "output_type": "display_data"
    },
    {
     "name": "stderr",
     "output_type": "stream",
     "text": [
      "Mean policy network loss: -0.576166\n",
      "Mean value network loss: 10928.790155\n",
      "Episode №7\n"
     ]
    },
    {
     "data": {
      "application/vnd.jupyter.widget-view+json": {
       "model_id": "708d19e9f3824942a8e3afa03329343f",
       "version_major": 2,
       "version_minor": 0
      },
      "text/plain": [
       "Sampling trajectories:   0%|          | 0/20 [00:00<?, ?it/s]"
      ]
     },
     "metadata": {},
     "output_type": "display_data"
    },
    {
     "name": "stderr",
     "output_type": "stream",
     "text": [
      "Mean total reward: -1054.50\n"
     ]
    },
    {
     "data": {
      "application/vnd.jupyter.widget-view+json": {
       "model_id": "c11d4bd8fca14439a0f2c5f42cd6cdac",
       "version_major": 2,
       "version_minor": 0
      },
      "text/plain": [
       "Iterating over epochs:   0%|          | 0/30 [00:00<?, ?it/s]"
      ]
     },
     "metadata": {},
     "output_type": "display_data"
    },
    {
     "name": "stderr",
     "output_type": "stream",
     "text": [
      "Mean policy network loss: -0.078602\n",
      "Mean value network loss: 9822.939848\n",
      "Episode №8\n"
     ]
    },
    {
     "data": {
      "application/vnd.jupyter.widget-view+json": {
       "model_id": "c7e4361222864f8e9c03d89b84f3751c",
       "version_major": 2,
       "version_minor": 0
      },
      "text/plain": [
       "Sampling trajectories:   0%|          | 0/20 [00:00<?, ?it/s]"
      ]
     },
     "metadata": {},
     "output_type": "display_data"
    },
    {
     "name": "stderr",
     "output_type": "stream",
     "text": [
      "Mean total reward: -1018.51\n"
     ]
    },
    {
     "data": {
      "application/vnd.jupyter.widget-view+json": {
       "model_id": "c14096dd32a843bf9898e0acd822ee87",
       "version_major": 2,
       "version_minor": 0
      },
      "text/plain": [
       "Iterating over epochs:   0%|          | 0/30 [00:00<?, ?it/s]"
      ]
     },
     "metadata": {},
     "output_type": "display_data"
    },
    {
     "name": "stderr",
     "output_type": "stream",
     "text": [
      "Mean policy network loss: -0.585066\n",
      "Mean value network loss: 11668.419749\n",
      "Episode №9\n"
     ]
    },
    {
     "data": {
      "application/vnd.jupyter.widget-view+json": {
       "model_id": "a947935b16ec48739b951e20728d981a",
       "version_major": 2,
       "version_minor": 0
      },
      "text/plain": [
       "Sampling trajectories:   0%|          | 0/20 [00:00<?, ?it/s]"
      ]
     },
     "metadata": {},
     "output_type": "display_data"
    },
    {
     "name": "stderr",
     "output_type": "stream",
     "text": [
      "Mean total reward: -995.75\n"
     ]
    },
    {
     "data": {
      "application/vnd.jupyter.widget-view+json": {
       "model_id": "7a29e859c8f54038b23f143013c22683",
       "version_major": 2,
       "version_minor": 0
      },
      "text/plain": [
       "Iterating over epochs:   0%|          | 0/30 [00:00<?, ?it/s]"
      ]
     },
     "metadata": {},
     "output_type": "display_data"
    },
    {
     "name": "stderr",
     "output_type": "stream",
     "text": [
      "Mean policy network loss: -0.178365\n",
      "Mean value network loss: 9221.981663\n",
      "Episode №10\n"
     ]
    },
    {
     "data": {
      "application/vnd.jupyter.widget-view+json": {
       "model_id": "44e762a3bf544d6daf1bac0e0fbe63c6",
       "version_major": 2,
       "version_minor": 0
      },
      "text/plain": [
       "Sampling trajectories:   0%|          | 0/20 [00:00<?, ?it/s]"
      ]
     },
     "metadata": {},
     "output_type": "display_data"
    },
    {
     "name": "stderr",
     "output_type": "stream",
     "text": [
      "Mean total reward: -977.00\n"
     ]
    },
    {
     "data": {
      "application/vnd.jupyter.widget-view+json": {
       "model_id": "64ee230fddef4ef19be5c11de312514f",
       "version_major": 2,
       "version_minor": 0
      },
      "text/plain": [
       "Iterating over epochs:   0%|          | 0/30 [00:00<?, ?it/s]"
      ]
     },
     "metadata": {},
     "output_type": "display_data"
    },
    {
     "name": "stderr",
     "output_type": "stream",
     "text": [
      "Mean policy network loss: -0.328632\n",
      "Mean value network loss: 9198.323799\n",
      "Episode №11\n"
     ]
    },
    {
     "data": {
      "application/vnd.jupyter.widget-view+json": {
       "model_id": "cf8098dc1cc049e39b6ee09b2d5b96ad",
       "version_major": 2,
       "version_minor": 0
      },
      "text/plain": [
       "Sampling trajectories:   0%|          | 0/20 [00:00<?, ?it/s]"
      ]
     },
     "metadata": {},
     "output_type": "display_data"
    },
    {
     "name": "stderr",
     "output_type": "stream",
     "text": [
      "Mean total reward: -970.85\n"
     ]
    },
    {
     "data": {
      "application/vnd.jupyter.widget-view+json": {
       "model_id": "196c6ee00aac4b838156634bd2414b62",
       "version_major": 2,
       "version_minor": 0
      },
      "text/plain": [
       "Iterating over epochs:   0%|          | 0/30 [00:00<?, ?it/s]"
      ]
     },
     "metadata": {},
     "output_type": "display_data"
    },
    {
     "name": "stderr",
     "output_type": "stream",
     "text": [
      "Mean policy network loss: -0.490766\n",
      "Mean value network loss: 9107.097141\n",
      "Episode №12\n"
     ]
    },
    {
     "data": {
      "application/vnd.jupyter.widget-view+json": {
       "model_id": "324e190fb3bc4f139c53ad66fd48ab04",
       "version_major": 2,
       "version_minor": 0
      },
      "text/plain": [
       "Sampling trajectories:   0%|          | 0/20 [00:00<?, ?it/s]"
      ]
     },
     "metadata": {},
     "output_type": "display_data"
    },
    {
     "name": "stderr",
     "output_type": "stream",
     "text": [
      "Mean total reward: -892.29\n"
     ]
    },
    {
     "data": {
      "application/vnd.jupyter.widget-view+json": {
       "model_id": "6e71b674123848728b1c80bb44cb2e64",
       "version_major": 2,
       "version_minor": 0
      },
      "text/plain": [
       "Iterating over epochs:   0%|          | 0/30 [00:00<?, ?it/s]"
      ]
     },
     "metadata": {},
     "output_type": "display_data"
    },
    {
     "name": "stderr",
     "output_type": "stream",
     "text": [
      "Mean policy network loss: -0.759500\n",
      "Mean value network loss: 9314.687185\n",
      "Episode №13\n"
     ]
    },
    {
     "data": {
      "application/vnd.jupyter.widget-view+json": {
       "model_id": "81fc40a1250649fca569e303e8edf8ea",
       "version_major": 2,
       "version_minor": 0
      },
      "text/plain": [
       "Sampling trajectories:   0%|          | 0/20 [00:00<?, ?it/s]"
      ]
     },
     "metadata": {},
     "output_type": "display_data"
    },
    {
     "name": "stderr",
     "output_type": "stream",
     "text": [
      "Mean total reward: -865.68\n"
     ]
    },
    {
     "data": {
      "application/vnd.jupyter.widget-view+json": {
       "model_id": "0c2abf374d024ab5b167afbe671ebec9",
       "version_major": 2,
       "version_minor": 0
      },
      "text/plain": [
       "Iterating over epochs:   0%|          | 0/30 [00:00<?, ?it/s]"
      ]
     },
     "metadata": {},
     "output_type": "display_data"
    },
    {
     "name": "stderr",
     "output_type": "stream",
     "text": [
      "Mean policy network loss: -0.470003\n",
      "Mean value network loss: 10048.197629\n",
      "Episode №14\n"
     ]
    },
    {
     "data": {
      "application/vnd.jupyter.widget-view+json": {
       "model_id": "006273e44d034a8aa58eadb7197956f5",
       "version_major": 2,
       "version_minor": 0
      },
      "text/plain": [
       "Sampling trajectories:   0%|          | 0/20 [00:00<?, ?it/s]"
      ]
     },
     "metadata": {},
     "output_type": "display_data"
    },
    {
     "name": "stderr",
     "output_type": "stream",
     "text": [
      "Mean total reward: -861.46\n"
     ]
    },
    {
     "data": {
      "application/vnd.jupyter.widget-view+json": {
       "model_id": "607bef4d11444656a93bd904c2202655",
       "version_major": 2,
       "version_minor": 0
      },
      "text/plain": [
       "Iterating over epochs:   0%|          | 0/30 [00:00<?, ?it/s]"
      ]
     },
     "metadata": {},
     "output_type": "display_data"
    },
    {
     "name": "stderr",
     "output_type": "stream",
     "text": [
      "Mean policy network loss: -0.643943\n",
      "Mean value network loss: 7657.978388\n",
      "Episode №15\n"
     ]
    },
    {
     "data": {
      "application/vnd.jupyter.widget-view+json": {
       "model_id": "b6375297e4754506af853a79a9c81f06",
       "version_major": 2,
       "version_minor": 0
      },
      "text/plain": [
       "Sampling trajectories:   0%|          | 0/20 [00:00<?, ?it/s]"
      ]
     },
     "metadata": {},
     "output_type": "display_data"
    },
    {
     "name": "stderr",
     "output_type": "stream",
     "text": [
      "Mean total reward: -881.59\n"
     ]
    },
    {
     "data": {
      "application/vnd.jupyter.widget-view+json": {
       "model_id": "1f7a9a9643d44e7e9c7abe5ae66b9679",
       "version_major": 2,
       "version_minor": 0
      },
      "text/plain": [
       "Iterating over epochs:   0%|          | 0/30 [00:00<?, ?it/s]"
      ]
     },
     "metadata": {},
     "output_type": "display_data"
    },
    {
     "name": "stderr",
     "output_type": "stream",
     "text": [
      "Mean policy network loss: -0.440446\n",
      "Mean value network loss: 6537.367644\n",
      "Episode №16\n"
     ]
    },
    {
     "data": {
      "application/vnd.jupyter.widget-view+json": {
       "model_id": "672d5387c8ee4b26b523cb148f58855a",
       "version_major": 2,
       "version_minor": 0
      },
      "text/plain": [
       "Sampling trajectories:   0%|          | 0/20 [00:00<?, ?it/s]"
      ]
     },
     "metadata": {},
     "output_type": "display_data"
    },
    {
     "name": "stderr",
     "output_type": "stream",
     "text": [
      "Mean total reward: -854.35\n"
     ]
    },
    {
     "data": {
      "application/vnd.jupyter.widget-view+json": {
       "model_id": "27e2f4db03f94052a0ee6d6a9f8328ba",
       "version_major": 2,
       "version_minor": 0
      },
      "text/plain": [
       "Iterating over epochs:   0%|          | 0/30 [00:00<?, ?it/s]"
      ]
     },
     "metadata": {},
     "output_type": "display_data"
    },
    {
     "name": "stderr",
     "output_type": "stream",
     "text": [
      "Mean policy network loss: -0.400933\n",
      "Mean value network loss: 5771.995712\n",
      "Episode №17\n"
     ]
    },
    {
     "data": {
      "application/vnd.jupyter.widget-view+json": {
       "model_id": "ee5a7988ca364766ac4f89026af9beaa",
       "version_major": 2,
       "version_minor": 0
      },
      "text/plain": [
       "Sampling trajectories:   0%|          | 0/20 [00:00<?, ?it/s]"
      ]
     },
     "metadata": {},
     "output_type": "display_data"
    },
    {
     "name": "stderr",
     "output_type": "stream",
     "text": [
      "Mean total reward: -890.04\n"
     ]
    },
    {
     "data": {
      "application/vnd.jupyter.widget-view+json": {
       "model_id": "187edc4f4f374e2abf5cc13a9cc31f55",
       "version_major": 2,
       "version_minor": 0
      },
      "text/plain": [
       "Iterating over epochs:   0%|          | 0/30 [00:00<?, ?it/s]"
      ]
     },
     "metadata": {},
     "output_type": "display_data"
    },
    {
     "name": "stderr",
     "output_type": "stream",
     "text": [
      "Mean policy network loss: -0.362066\n",
      "Mean value network loss: 8755.162665\n",
      "Episode №18\n"
     ]
    },
    {
     "data": {
      "application/vnd.jupyter.widget-view+json": {
       "model_id": "d4e3bbd6efca47f387617a15e8563f3d",
       "version_major": 2,
       "version_minor": 0
      },
      "text/plain": [
       "Sampling trajectories:   0%|          | 0/20 [00:00<?, ?it/s]"
      ]
     },
     "metadata": {},
     "output_type": "display_data"
    },
    {
     "name": "stderr",
     "output_type": "stream",
     "text": [
      "Mean total reward: -875.49\n"
     ]
    },
    {
     "data": {
      "application/vnd.jupyter.widget-view+json": {
       "model_id": "f09fa470d3b542daac5cbd37cf02591a",
       "version_major": 2,
       "version_minor": 0
      },
      "text/plain": [
       "Iterating over epochs:   0%|          | 0/30 [00:00<?, ?it/s]"
      ]
     },
     "metadata": {},
     "output_type": "display_data"
    },
    {
     "name": "stderr",
     "output_type": "stream",
     "text": [
      "Mean policy network loss: -0.380083\n",
      "Mean value network loss: 6713.184058\n",
      "Episode №19\n"
     ]
    },
    {
     "data": {
      "application/vnd.jupyter.widget-view+json": {
       "model_id": "72cb80d1d52c4cd6aa552e4c4c15fc72",
       "version_major": 2,
       "version_minor": 0
      },
      "text/plain": [
       "Sampling trajectories:   0%|          | 0/20 [00:00<?, ?it/s]"
      ]
     },
     "metadata": {},
     "output_type": "display_data"
    },
    {
     "name": "stderr",
     "output_type": "stream",
     "text": [
      "Mean total reward: -819.44\n"
     ]
    },
    {
     "data": {
      "application/vnd.jupyter.widget-view+json": {
       "model_id": "fb3a86e069d24bde84f97de75f7a69ec",
       "version_major": 2,
       "version_minor": 0
      },
      "text/plain": [
       "Iterating over epochs:   0%|          | 0/30 [00:00<?, ?it/s]"
      ]
     },
     "metadata": {},
     "output_type": "display_data"
    },
    {
     "name": "stderr",
     "output_type": "stream",
     "text": [
      "Mean policy network loss: -0.524823\n",
      "Mean value network loss: 6007.015954\n",
      "Episode №20\n"
     ]
    },
    {
     "data": {
      "application/vnd.jupyter.widget-view+json": {
       "model_id": "b3ccac2c5ab046cc991be3dfc0822b6f",
       "version_major": 2,
       "version_minor": 0
      },
      "text/plain": [
       "Sampling trajectories:   0%|          | 0/20 [00:00<?, ?it/s]"
      ]
     },
     "metadata": {},
     "output_type": "display_data"
    },
    {
     "name": "stderr",
     "output_type": "stream",
     "text": [
      "Mean total reward: -821.32\n"
     ]
    },
    {
     "data": {
      "application/vnd.jupyter.widget-view+json": {
       "model_id": "7185aacea4b047ed98ca71b1ee6ab990",
       "version_major": 2,
       "version_minor": 0
      },
      "text/plain": [
       "Iterating over epochs:   0%|          | 0/30 [00:00<?, ?it/s]"
      ]
     },
     "metadata": {},
     "output_type": "display_data"
    },
    {
     "name": "stderr",
     "output_type": "stream",
     "text": [
      "Mean policy network loss: -0.629136\n",
      "Mean value network loss: 7036.433328\n",
      "Episode №21\n"
     ]
    },
    {
     "data": {
      "application/vnd.jupyter.widget-view+json": {
       "model_id": "5fb1ef0a9fab4902ba3b1f3934c0df9e",
       "version_major": 2,
       "version_minor": 0
      },
      "text/plain": [
       "Sampling trajectories:   0%|          | 0/20 [00:00<?, ?it/s]"
      ]
     },
     "metadata": {},
     "output_type": "display_data"
    },
    {
     "name": "stderr",
     "output_type": "stream",
     "text": [
      "Mean total reward: -794.20\n"
     ]
    },
    {
     "data": {
      "application/vnd.jupyter.widget-view+json": {
       "model_id": "12c3dc98d83245cab559c2edab49b1b8",
       "version_major": 2,
       "version_minor": 0
      },
      "text/plain": [
       "Iterating over epochs:   0%|          | 0/30 [00:00<?, ?it/s]"
      ]
     },
     "metadata": {},
     "output_type": "display_data"
    },
    {
     "name": "stderr",
     "output_type": "stream",
     "text": [
      "Mean policy network loss: -0.393306\n",
      "Mean value network loss: 6079.626120\n",
      "Episode №22\n"
     ]
    },
    {
     "data": {
      "application/vnd.jupyter.widget-view+json": {
       "model_id": "55efe11528914002bc7f5f1b877c81fb",
       "version_major": 2,
       "version_minor": 0
      },
      "text/plain": [
       "Sampling trajectories:   0%|          | 0/20 [00:00<?, ?it/s]"
      ]
     },
     "metadata": {},
     "output_type": "display_data"
    },
    {
     "name": "stderr",
     "output_type": "stream",
     "text": [
      "Mean total reward: -709.35\n"
     ]
    },
    {
     "data": {
      "application/vnd.jupyter.widget-view+json": {
       "model_id": "c52b8c9efe394e65a3c79fef9c31827f",
       "version_major": 2,
       "version_minor": 0
      },
      "text/plain": [
       "Iterating over epochs:   0%|          | 0/30 [00:00<?, ?it/s]"
      ]
     },
     "metadata": {},
     "output_type": "display_data"
    },
    {
     "name": "stderr",
     "output_type": "stream",
     "text": [
      "Mean policy network loss: -0.611103\n",
      "Mean value network loss: 5686.883635\n",
      "Episode №23\n"
     ]
    },
    {
     "data": {
      "application/vnd.jupyter.widget-view+json": {
       "model_id": "2be3bbdec2a7410794d904197f4e2eff",
       "version_major": 2,
       "version_minor": 0
      },
      "text/plain": [
       "Sampling trajectories:   0%|          | 0/20 [00:00<?, ?it/s]"
      ]
     },
     "metadata": {},
     "output_type": "display_data"
    },
    {
     "name": "stderr",
     "output_type": "stream",
     "text": [
      "Mean total reward: -718.93\n"
     ]
    },
    {
     "data": {
      "application/vnd.jupyter.widget-view+json": {
       "model_id": "2dc84fe97ec74fddbe8270185e40a514",
       "version_major": 2,
       "version_minor": 0
      },
      "text/plain": [
       "Iterating over epochs:   0%|          | 0/30 [00:00<?, ?it/s]"
      ]
     },
     "metadata": {},
     "output_type": "display_data"
    },
    {
     "name": "stderr",
     "output_type": "stream",
     "text": [
      "Mean policy network loss: -0.553977\n",
      "Mean value network loss: 7942.224462\n",
      "Episode №24\n"
     ]
    },
    {
     "data": {
      "application/vnd.jupyter.widget-view+json": {
       "model_id": "6fc7eb13d8c64b3c90b9e385f46e9b01",
       "version_major": 2,
       "version_minor": 0
      },
      "text/plain": [
       "Sampling trajectories:   0%|          | 0/20 [00:00<?, ?it/s]"
      ]
     },
     "metadata": {},
     "output_type": "display_data"
    },
    {
     "name": "stderr",
     "output_type": "stream",
     "text": [
      "Mean total reward: -703.53\n"
     ]
    },
    {
     "data": {
      "application/vnd.jupyter.widget-view+json": {
       "model_id": "df0d1d2ca68343feae28b5f1c1a29dbd",
       "version_major": 2,
       "version_minor": 0
      },
      "text/plain": [
       "Iterating over epochs:   0%|          | 0/30 [00:00<?, ?it/s]"
      ]
     },
     "metadata": {},
     "output_type": "display_data"
    },
    {
     "name": "stderr",
     "output_type": "stream",
     "text": [
      "Mean policy network loss: -0.602070\n",
      "Mean value network loss: 6866.291718\n",
      "Episode №25\n"
     ]
    },
    {
     "data": {
      "application/vnd.jupyter.widget-view+json": {
       "model_id": "4f727c9e58884737ab3eea66574e9a49",
       "version_major": 2,
       "version_minor": 0
      },
      "text/plain": [
       "Sampling trajectories:   0%|          | 0/20 [00:00<?, ?it/s]"
      ]
     },
     "metadata": {},
     "output_type": "display_data"
    },
    {
     "name": "stderr",
     "output_type": "stream",
     "text": [
      "Mean total reward: -492.23\n"
     ]
    },
    {
     "data": {
      "application/vnd.jupyter.widget-view+json": {
       "model_id": "112d37d4a91847fe861257fa29ec22c3",
       "version_major": 2,
       "version_minor": 0
      },
      "text/plain": [
       "Iterating over epochs:   0%|          | 0/30 [00:00<?, ?it/s]"
      ]
     },
     "metadata": {},
     "output_type": "display_data"
    },
    {
     "name": "stderr",
     "output_type": "stream",
     "text": [
      "Mean policy network loss: -0.774722\n",
      "Mean value network loss: 3349.427588\n",
      "Episode №26\n"
     ]
    },
    {
     "data": {
      "application/vnd.jupyter.widget-view+json": {
       "model_id": "01e0b8f1f5d34fe1b4e573667a7c4559",
       "version_major": 2,
       "version_minor": 0
      },
      "text/plain": [
       "Sampling trajectories:   0%|          | 0/20 [00:00<?, ?it/s]"
      ]
     },
     "metadata": {},
     "output_type": "display_data"
    },
    {
     "name": "stderr",
     "output_type": "stream",
     "text": [
      "Mean total reward: -477.16\n"
     ]
    },
    {
     "data": {
      "application/vnd.jupyter.widget-view+json": {
       "model_id": "4ec2c319599a4f5097fbd940d45b0dca",
       "version_major": 2,
       "version_minor": 0
      },
      "text/plain": [
       "Iterating over epochs:   0%|          | 0/30 [00:00<?, ?it/s]"
      ]
     },
     "metadata": {},
     "output_type": "display_data"
    },
    {
     "name": "stderr",
     "output_type": "stream",
     "text": [
      "Mean policy network loss: -0.714637\n",
      "Mean value network loss: 2966.254339\n",
      "Episode №27\n"
     ]
    },
    {
     "data": {
      "application/vnd.jupyter.widget-view+json": {
       "model_id": "2dc7da5509df418e95fa03a056db3728",
       "version_major": 2,
       "version_minor": 0
      },
      "text/plain": [
       "Sampling trajectories:   0%|          | 0/20 [00:00<?, ?it/s]"
      ]
     },
     "metadata": {},
     "output_type": "display_data"
    },
    {
     "name": "stderr",
     "output_type": "stream",
     "text": [
      "Mean total reward: -372.59\n"
     ]
    },
    {
     "data": {
      "application/vnd.jupyter.widget-view+json": {
       "model_id": "0a82f6c5362d4104810ffa16c6237b18",
       "version_major": 2,
       "version_minor": 0
      },
      "text/plain": [
       "Iterating over epochs:   0%|          | 0/30 [00:00<?, ?it/s]"
      ]
     },
     "metadata": {},
     "output_type": "display_data"
    },
    {
     "name": "stderr",
     "output_type": "stream",
     "text": [
      "Mean policy network loss: -0.385777\n",
      "Mean value network loss: 1216.925012\n",
      "Episode №28\n"
     ]
    },
    {
     "data": {
      "application/vnd.jupyter.widget-view+json": {
       "model_id": "887f03b07a0a4620ac0e862845ac9f1e",
       "version_major": 2,
       "version_minor": 0
      },
      "text/plain": [
       "Sampling trajectories:   0%|          | 0/20 [00:00<?, ?it/s]"
      ]
     },
     "metadata": {},
     "output_type": "display_data"
    },
    {
     "name": "stderr",
     "output_type": "stream",
     "text": [
      "Mean total reward: -292.27\n"
     ]
    },
    {
     "data": {
      "application/vnd.jupyter.widget-view+json": {
       "model_id": "e38798c06f5942f88c8d1dd65384b8a3",
       "version_major": 2,
       "version_minor": 0
      },
      "text/plain": [
       "Iterating over epochs:   0%|          | 0/30 [00:00<?, ?it/s]"
      ]
     },
     "metadata": {},
     "output_type": "display_data"
    },
    {
     "name": "stderr",
     "output_type": "stream",
     "text": [
      "Mean policy network loss: -0.339781\n",
      "Mean value network loss: 442.284521\n",
      "Episode №29\n"
     ]
    },
    {
     "data": {
      "application/vnd.jupyter.widget-view+json": {
       "model_id": "ddd4027c2f7e42748209beb7b7f70a67",
       "version_major": 2,
       "version_minor": 0
      },
      "text/plain": [
       "Sampling trajectories:   0%|          | 0/20 [00:00<?, ?it/s]"
      ]
     },
     "metadata": {},
     "output_type": "display_data"
    },
    {
     "name": "stderr",
     "output_type": "stream",
     "text": [
      "Mean total reward: -308.29\n"
     ]
    },
    {
     "data": {
      "application/vnd.jupyter.widget-view+json": {
       "model_id": "48c3b021d0a84a3785f32ad4f99e5041",
       "version_major": 2,
       "version_minor": 0
      },
      "text/plain": [
       "Iterating over epochs:   0%|          | 0/30 [00:00<?, ?it/s]"
      ]
     },
     "metadata": {},
     "output_type": "display_data"
    },
    {
     "name": "stderr",
     "output_type": "stream",
     "text": [
      "Mean policy network loss: -0.376540\n",
      "Mean value network loss: 1025.992419\n",
      "Episode №30\n"
     ]
    },
    {
     "data": {
      "application/vnd.jupyter.widget-view+json": {
       "model_id": "a259112b14134033a551257473de723b",
       "version_major": 2,
       "version_minor": 0
      },
      "text/plain": [
       "Sampling trajectories:   0%|          | 0/20 [00:00<?, ?it/s]"
      ]
     },
     "metadata": {},
     "output_type": "display_data"
    },
    {
     "name": "stderr",
     "output_type": "stream",
     "text": [
      "Mean total reward: -262.05\n"
     ]
    },
    {
     "data": {
      "application/vnd.jupyter.widget-view+json": {
       "model_id": "cccc615200a34ce39470b75cb7acdd0f",
       "version_major": 2,
       "version_minor": 0
      },
      "text/plain": [
       "Iterating over epochs:   0%|          | 0/30 [00:00<?, ?it/s]"
      ]
     },
     "metadata": {},
     "output_type": "display_data"
    },
    {
     "name": "stderr",
     "output_type": "stream",
     "text": [
      "Mean policy network loss: -0.245983\n",
      "Mean value network loss: 441.409432\n",
      "Episode №31\n"
     ]
    },
    {
     "data": {
      "application/vnd.jupyter.widget-view+json": {
       "model_id": "774bdb09f3994503baf65a93fc44751f",
       "version_major": 2,
       "version_minor": 0
      },
      "text/plain": [
       "Sampling trajectories:   0%|          | 0/20 [00:00<?, ?it/s]"
      ]
     },
     "metadata": {},
     "output_type": "display_data"
    },
    {
     "name": "stderr",
     "output_type": "stream",
     "text": [
      "Mean total reward: -233.87\n"
     ]
    },
    {
     "data": {
      "application/vnd.jupyter.widget-view+json": {
       "model_id": "86eb494b248d4377b136112eaa0686ee",
       "version_major": 2,
       "version_minor": 0
      },
      "text/plain": [
       "Iterating over epochs:   0%|          | 0/30 [00:00<?, ?it/s]"
      ]
     },
     "metadata": {},
     "output_type": "display_data"
    },
    {
     "name": "stderr",
     "output_type": "stream",
     "text": [
      "Mean policy network loss: -0.179229\n",
      "Mean value network loss: 165.615698\n",
      "Episode №32\n"
     ]
    },
    {
     "data": {
      "application/vnd.jupyter.widget-view+json": {
       "model_id": "02753882b0bc4c94a7f1c3b58a0f7722",
       "version_major": 2,
       "version_minor": 0
      },
      "text/plain": [
       "Sampling trajectories:   0%|          | 0/20 [00:00<?, ?it/s]"
      ]
     },
     "metadata": {},
     "output_type": "display_data"
    },
    {
     "name": "stderr",
     "output_type": "stream",
     "text": [
      "Mean total reward: -233.91\n"
     ]
    },
    {
     "data": {
      "application/vnd.jupyter.widget-view+json": {
       "model_id": "e6242e6467f1447fbaa05728cfa04efe",
       "version_major": 2,
       "version_minor": 0
      },
      "text/plain": [
       "Iterating over epochs:   0%|          | 0/30 [00:00<?, ?it/s]"
      ]
     },
     "metadata": {},
     "output_type": "display_data"
    },
    {
     "name": "stderr",
     "output_type": "stream",
     "text": [
      "Mean policy network loss: -0.080977\n",
      "Mean value network loss: 68.973209\n",
      "Episode №33\n"
     ]
    },
    {
     "data": {
      "application/vnd.jupyter.widget-view+json": {
       "model_id": "528f9d01435742b990ed7920778fe1c1",
       "version_major": 2,
       "version_minor": 0
      },
      "text/plain": [
       "Sampling trajectories:   0%|          | 0/20 [00:00<?, ?it/s]"
      ]
     },
     "metadata": {},
     "output_type": "display_data"
    },
    {
     "name": "stderr",
     "output_type": "stream",
     "text": [
      "Mean total reward: -211.15\n"
     ]
    },
    {
     "data": {
      "application/vnd.jupyter.widget-view+json": {
       "model_id": "a758ff3b46e641c88ca36f7f3f20eac2",
       "version_major": 2,
       "version_minor": 0
      },
      "text/plain": [
       "Iterating over epochs:   0%|          | 0/30 [00:00<?, ?it/s]"
      ]
     },
     "metadata": {},
     "output_type": "display_data"
    },
    {
     "name": "stderr",
     "output_type": "stream",
     "text": [
      "Mean policy network loss: -0.071779\n",
      "Mean value network loss: 60.035656\n",
      "Episode №34\n"
     ]
    },
    {
     "data": {
      "application/vnd.jupyter.widget-view+json": {
       "model_id": "dadcd3c98f9e4ad18cad44ed9f5467c0",
       "version_major": 2,
       "version_minor": 0
      },
      "text/plain": [
       "Sampling trajectories:   0%|          | 0/20 [00:00<?, ?it/s]"
      ]
     },
     "metadata": {},
     "output_type": "display_data"
    },
    {
     "name": "stderr",
     "output_type": "stream",
     "text": [
      "Mean total reward: -177.70\n"
     ]
    },
    {
     "data": {
      "application/vnd.jupyter.widget-view+json": {
       "model_id": "64190bab701b4c56a6924fac3950d060",
       "version_major": 2,
       "version_minor": 0
      },
      "text/plain": [
       "Iterating over epochs:   0%|          | 0/30 [00:00<?, ?it/s]"
      ]
     },
     "metadata": {},
     "output_type": "display_data"
    },
    {
     "name": "stderr",
     "output_type": "stream",
     "text": [
      "Mean policy network loss: -0.098659\n",
      "Mean value network loss: 73.414763\n",
      "Episode №35\n"
     ]
    },
    {
     "data": {
      "application/vnd.jupyter.widget-view+json": {
       "model_id": "2348a3adedea44ea81ebf86722c26c23",
       "version_major": 2,
       "version_minor": 0
      },
      "text/plain": [
       "Sampling trajectories:   0%|          | 0/20 [00:00<?, ?it/s]"
      ]
     },
     "metadata": {},
     "output_type": "display_data"
    },
    {
     "name": "stderr",
     "output_type": "stream",
     "text": [
      "Mean total reward: -315.92\n"
     ]
    },
    {
     "data": {
      "application/vnd.jupyter.widget-view+json": {
       "model_id": "8bc5ccb080a041789e46d558d28191c0",
       "version_major": 2,
       "version_minor": 0
      },
      "text/plain": [
       "Iterating over epochs:   0%|          | 0/30 [00:00<?, ?it/s]"
      ]
     },
     "metadata": {},
     "output_type": "display_data"
    },
    {
     "name": "stderr",
     "output_type": "stream",
     "text": [
      "Mean policy network loss: -0.265365\n",
      "Mean value network loss: 400.757985\n",
      "Episode №36\n"
     ]
    },
    {
     "data": {
      "application/vnd.jupyter.widget-view+json": {
       "model_id": "96da3eb723ce490dbd10a6e563e49b70",
       "version_major": 2,
       "version_minor": 0
      },
      "text/plain": [
       "Sampling trajectories:   0%|          | 0/20 [00:00<?, ?it/s]"
      ]
     },
     "metadata": {},
     "output_type": "display_data"
    },
    {
     "name": "stderr",
     "output_type": "stream",
     "text": [
      "Mean total reward: -255.17\n"
     ]
    },
    {
     "data": {
      "application/vnd.jupyter.widget-view+json": {
       "model_id": "c4b200c3a90f4c11a2603d9a09d9de45",
       "version_major": 2,
       "version_minor": 0
      },
      "text/plain": [
       "Iterating over epochs:   0%|          | 0/30 [00:00<?, ?it/s]"
      ]
     },
     "metadata": {},
     "output_type": "display_data"
    },
    {
     "name": "stderr",
     "output_type": "stream",
     "text": [
      "Mean policy network loss: -0.151918\n",
      "Mean value network loss: 141.110966\n",
      "Episode №37\n"
     ]
    },
    {
     "data": {
      "application/vnd.jupyter.widget-view+json": {
       "model_id": "e72a3b85da6442059b884c0d5f3471ea",
       "version_major": 2,
       "version_minor": 0
      },
      "text/plain": [
       "Sampling trajectories:   0%|          | 0/20 [00:00<?, ?it/s]"
      ]
     },
     "metadata": {},
     "output_type": "display_data"
    },
    {
     "name": "stderr",
     "output_type": "stream",
     "text": [
      "Mean total reward: -223.85\n"
     ]
    },
    {
     "data": {
      "application/vnd.jupyter.widget-view+json": {
       "model_id": "19ea119f74ce4bf0a2b6c2b986797e21",
       "version_major": 2,
       "version_minor": 0
      },
      "text/plain": [
       "Iterating over epochs:   0%|          | 0/30 [00:00<?, ?it/s]"
      ]
     },
     "metadata": {},
     "output_type": "display_data"
    },
    {
     "name": "stderr",
     "output_type": "stream",
     "text": [
      "Mean policy network loss: -0.115030\n",
      "Mean value network loss: 127.543716\n",
      "Episode №38\n"
     ]
    },
    {
     "data": {
      "application/vnd.jupyter.widget-view+json": {
       "model_id": "241eb742f9ab4ff5b4b569a4fbe0d3eb",
       "version_major": 2,
       "version_minor": 0
      },
      "text/plain": [
       "Sampling trajectories:   0%|          | 0/20 [00:00<?, ?it/s]"
      ]
     },
     "metadata": {},
     "output_type": "display_data"
    },
    {
     "name": "stderr",
     "output_type": "stream",
     "text": [
      "Mean total reward: -225.18\n"
     ]
    },
    {
     "data": {
      "application/vnd.jupyter.widget-view+json": {
       "model_id": "a4c955f8d3ea4908846052a1a6b213dc",
       "version_major": 2,
       "version_minor": 0
      },
      "text/plain": [
       "Iterating over epochs:   0%|          | 0/30 [00:00<?, ?it/s]"
      ]
     },
     "metadata": {},
     "output_type": "display_data"
    },
    {
     "name": "stderr",
     "output_type": "stream",
     "text": [
      "Mean policy network loss: -0.121019\n",
      "Mean value network loss: 102.407007\n",
      "Episode №39\n"
     ]
    },
    {
     "data": {
      "application/vnd.jupyter.widget-view+json": {
       "model_id": "d8b42f03dcdd418e884dde2a23b7105a",
       "version_major": 2,
       "version_minor": 0
      },
      "text/plain": [
       "Sampling trajectories:   0%|          | 0/20 [00:00<?, ?it/s]"
      ]
     },
     "metadata": {},
     "output_type": "display_data"
    },
    {
     "name": "stderr",
     "output_type": "stream",
     "text": [
      "Mean total reward: -215.34\n"
     ]
    },
    {
     "data": {
      "application/vnd.jupyter.widget-view+json": {
       "model_id": "19fb9825474943a3a27056270c13554a",
       "version_major": 2,
       "version_minor": 0
      },
      "text/plain": [
       "Iterating over epochs:   0%|          | 0/30 [00:00<?, ?it/s]"
      ]
     },
     "metadata": {},
     "output_type": "display_data"
    },
    {
     "name": "stderr",
     "output_type": "stream",
     "text": [
      "Mean policy network loss: -0.146566\n",
      "Mean value network loss: 135.749357\n",
      "Episode №40\n"
     ]
    },
    {
     "data": {
      "application/vnd.jupyter.widget-view+json": {
       "model_id": "e42898190e5741df91e9e96881d82faa",
       "version_major": 2,
       "version_minor": 0
      },
      "text/plain": [
       "Sampling trajectories:   0%|          | 0/20 [00:00<?, ?it/s]"
      ]
     },
     "metadata": {},
     "output_type": "display_data"
    },
    {
     "name": "stderr",
     "output_type": "stream",
     "text": [
      "Mean total reward: -234.23\n"
     ]
    },
    {
     "data": {
      "application/vnd.jupyter.widget-view+json": {
       "model_id": "6c92026259c8419784ff07d551225f33",
       "version_major": 2,
       "version_minor": 0
      },
      "text/plain": [
       "Iterating over epochs:   0%|          | 0/30 [00:00<?, ?it/s]"
      ]
     },
     "metadata": {},
     "output_type": "display_data"
    },
    {
     "name": "stderr",
     "output_type": "stream",
     "text": [
      "Mean policy network loss: -0.170006\n",
      "Mean value network loss: 785.820886\n",
      "Episode №41\n"
     ]
    },
    {
     "data": {
      "application/vnd.jupyter.widget-view+json": {
       "model_id": "d4033b8574c54e21826726f990716452",
       "version_major": 2,
       "version_minor": 0
      },
      "text/plain": [
       "Sampling trajectories:   0%|          | 0/20 [00:00<?, ?it/s]"
      ]
     },
     "metadata": {},
     "output_type": "display_data"
    },
    {
     "name": "stderr",
     "output_type": "stream",
     "text": [
      "Mean total reward: -193.43\n"
     ]
    },
    {
     "data": {
      "application/vnd.jupyter.widget-view+json": {
       "model_id": "d36856b838444ac4976b3471f703170c",
       "version_major": 2,
       "version_minor": 0
      },
      "text/plain": [
       "Iterating over epochs:   0%|          | 0/30 [00:00<?, ?it/s]"
      ]
     },
     "metadata": {},
     "output_type": "display_data"
    },
    {
     "name": "stderr",
     "output_type": "stream",
     "text": [
      "Mean policy network loss: -0.178559\n",
      "Mean value network loss: 153.486674\n",
      "Episode №42\n"
     ]
    },
    {
     "data": {
      "application/vnd.jupyter.widget-view+json": {
       "model_id": "3b30077506fc4dd3909c8be1be19d6d6",
       "version_major": 2,
       "version_minor": 0
      },
      "text/plain": [
       "Sampling trajectories:   0%|          | 0/20 [00:00<?, ?it/s]"
      ]
     },
     "metadata": {},
     "output_type": "display_data"
    },
    {
     "name": "stderr",
     "output_type": "stream",
     "text": [
      "Mean total reward: -203.06\n"
     ]
    },
    {
     "data": {
      "application/vnd.jupyter.widget-view+json": {
       "model_id": "e0b5a63915b7449d9367da2922837ef4",
       "version_major": 2,
       "version_minor": 0
      },
      "text/plain": [
       "Iterating over epochs:   0%|          | 0/30 [00:00<?, ?it/s]"
      ]
     },
     "metadata": {},
     "output_type": "display_data"
    },
    {
     "name": "stderr",
     "output_type": "stream",
     "text": [
      "Mean policy network loss: -0.095019\n",
      "Mean value network loss: 84.806154\n",
      "Episode №43\n"
     ]
    },
    {
     "data": {
      "application/vnd.jupyter.widget-view+json": {
       "model_id": "762e07f4e5db44c6bff753262a3425c6",
       "version_major": 2,
       "version_minor": 0
      },
      "text/plain": [
       "Sampling trajectories:   0%|          | 0/20 [00:00<?, ?it/s]"
      ]
     },
     "metadata": {},
     "output_type": "display_data"
    },
    {
     "name": "stderr",
     "output_type": "stream",
     "text": [
      "Mean total reward: -205.06\n"
     ]
    },
    {
     "data": {
      "application/vnd.jupyter.widget-view+json": {
       "model_id": "2c37f19c401644dd99b546129e98c31f",
       "version_major": 2,
       "version_minor": 0
      },
      "text/plain": [
       "Iterating over epochs:   0%|          | 0/30 [00:00<?, ?it/s]"
      ]
     },
     "metadata": {},
     "output_type": "display_data"
    },
    {
     "name": "stderr",
     "output_type": "stream",
     "text": [
      "Mean policy network loss: -0.183877\n",
      "Mean value network loss: 741.560057\n",
      "Episode №44\n"
     ]
    },
    {
     "data": {
      "application/vnd.jupyter.widget-view+json": {
       "model_id": "9e1c2a4c1d3e4453818ce679e2ec05c4",
       "version_major": 2,
       "version_minor": 0
      },
      "text/plain": [
       "Sampling trajectories:   0%|          | 0/20 [00:00<?, ?it/s]"
      ]
     },
     "metadata": {},
     "output_type": "display_data"
    },
    {
     "name": "stderr",
     "output_type": "stream",
     "text": [
      "Mean total reward: -159.90\n"
     ]
    },
    {
     "data": {
      "application/vnd.jupyter.widget-view+json": {
       "model_id": "2e7227a936254b709538b47295f33079",
       "version_major": 2,
       "version_minor": 0
      },
      "text/plain": [
       "Iterating over epochs:   0%|          | 0/30 [00:00<?, ?it/s]"
      ]
     },
     "metadata": {},
     "output_type": "display_data"
    },
    {
     "name": "stderr",
     "output_type": "stream",
     "text": [
      "Mean policy network loss: -0.051221\n",
      "Mean value network loss: 23.904282\n",
      "Episode №45\n"
     ]
    },
    {
     "data": {
      "application/vnd.jupyter.widget-view+json": {
       "model_id": "418064faaaa447c1ae179d20708c3139",
       "version_major": 2,
       "version_minor": 0
      },
      "text/plain": [
       "Sampling trajectories:   0%|          | 0/20 [00:00<?, ?it/s]"
      ]
     },
     "metadata": {},
     "output_type": "display_data"
    },
    {
     "name": "stderr",
     "output_type": "stream",
     "text": [
      "Mean total reward: -236.07\n"
     ]
    },
    {
     "data": {
      "application/vnd.jupyter.widget-view+json": {
       "model_id": "8e470b409df04d0bb742d52618af8358",
       "version_major": 2,
       "version_minor": 0
      },
      "text/plain": [
       "Iterating over epochs:   0%|          | 0/30 [00:00<?, ?it/s]"
      ]
     },
     "metadata": {},
     "output_type": "display_data"
    },
    {
     "name": "stderr",
     "output_type": "stream",
     "text": [
      "Mean policy network loss: -0.043357\n",
      "Mean value network loss: 32.973279\n",
      "Episode №46\n"
     ]
    },
    {
     "data": {
      "application/vnd.jupyter.widget-view+json": {
       "model_id": "b4a47acfb5bf44bd92c44fdcb8ce577d",
       "version_major": 2,
       "version_minor": 0
      },
      "text/plain": [
       "Sampling trajectories:   0%|          | 0/20 [00:00<?, ?it/s]"
      ]
     },
     "metadata": {},
     "output_type": "display_data"
    },
    {
     "name": "stderr",
     "output_type": "stream",
     "text": [
      "Mean total reward: -219.35\n"
     ]
    },
    {
     "data": {
      "application/vnd.jupyter.widget-view+json": {
       "model_id": "95973e1ebb364db983b9cdbd9ec3eb8c",
       "version_major": 2,
       "version_minor": 0
      },
      "text/plain": [
       "Iterating over epochs:   0%|          | 0/30 [00:00<?, ?it/s]"
      ]
     },
     "metadata": {},
     "output_type": "display_data"
    },
    {
     "name": "stderr",
     "output_type": "stream",
     "text": [
      "Mean policy network loss: -0.047795\n",
      "Mean value network loss: 40.430025\n",
      "Episode №47\n"
     ]
    },
    {
     "data": {
      "application/vnd.jupyter.widget-view+json": {
       "model_id": "7a3ea17e97c54b72bb31aa260f9e928e",
       "version_major": 2,
       "version_minor": 0
      },
      "text/plain": [
       "Sampling trajectories:   0%|          | 0/20 [00:00<?, ?it/s]"
      ]
     },
     "metadata": {},
     "output_type": "display_data"
    },
    {
     "name": "stderr",
     "output_type": "stream",
     "text": [
      "Mean total reward: -210.77\n"
     ]
    },
    {
     "data": {
      "application/vnd.jupyter.widget-view+json": {
       "model_id": "1c2f852ceb194c87b1323a418fc3caa0",
       "version_major": 2,
       "version_minor": 0
      },
      "text/plain": [
       "Iterating over epochs:   0%|          | 0/30 [00:00<?, ?it/s]"
      ]
     },
     "metadata": {},
     "output_type": "display_data"
    },
    {
     "name": "stderr",
     "output_type": "stream",
     "text": [
      "Mean policy network loss: -0.034629\n",
      "Mean value network loss: 22.910730\n",
      "Episode №48\n"
     ]
    },
    {
     "data": {
      "application/vnd.jupyter.widget-view+json": {
       "model_id": "e51adec7ad6e437b87207710a45f5665",
       "version_major": 2,
       "version_minor": 0
      },
      "text/plain": [
       "Sampling trajectories:   0%|          | 0/20 [00:00<?, ?it/s]"
      ]
     },
     "metadata": {},
     "output_type": "display_data"
    },
    {
     "name": "stderr",
     "output_type": "stream",
     "text": [
      "Mean total reward: -185.27\n"
     ]
    },
    {
     "data": {
      "application/vnd.jupyter.widget-view+json": {
       "model_id": "179e13db53cf4273950eda839bf43186",
       "version_major": 2,
       "version_minor": 0
      },
      "text/plain": [
       "Iterating over epochs:   0%|          | 0/30 [00:00<?, ?it/s]"
      ]
     },
     "metadata": {},
     "output_type": "display_data"
    },
    {
     "name": "stderr",
     "output_type": "stream",
     "text": [
      "Mean policy network loss: -0.022121\n",
      "Mean value network loss: 7.117635\n",
      "Episode №49\n"
     ]
    },
    {
     "data": {
      "application/vnd.jupyter.widget-view+json": {
       "model_id": "7a4f929f37544096bc4e362535284dfd",
       "version_major": 2,
       "version_minor": 0
      },
      "text/plain": [
       "Sampling trajectories:   0%|          | 0/20 [00:00<?, ?it/s]"
      ]
     },
     "metadata": {},
     "output_type": "display_data"
    },
    {
     "name": "stderr",
     "output_type": "stream",
     "text": [
      "Mean total reward: -184.61\n"
     ]
    },
    {
     "data": {
      "application/vnd.jupyter.widget-view+json": {
       "model_id": "4905eaf06f014a8cb538b661199517fb",
       "version_major": 2,
       "version_minor": 0
      },
      "text/plain": [
       "Iterating over epochs:   0%|          | 0/30 [00:00<?, ?it/s]"
      ]
     },
     "metadata": {},
     "output_type": "display_data"
    },
    {
     "name": "stderr",
     "output_type": "stream",
     "text": [
      "Mean policy network loss: -0.060625\n",
      "Mean value network loss: 86.621920\n",
      "Episode №50\n"
     ]
    },
    {
     "data": {
      "application/vnd.jupyter.widget-view+json": {
       "model_id": "7e63f16dd4e344028a986d11aeef683b",
       "version_major": 2,
       "version_minor": 0
      },
      "text/plain": [
       "Sampling trajectories:   0%|          | 0/20 [00:00<?, ?it/s]"
      ]
     },
     "metadata": {},
     "output_type": "display_data"
    },
    {
     "name": "stderr",
     "output_type": "stream",
     "text": [
      "Mean total reward: -238.55\n"
     ]
    },
    {
     "data": {
      "application/vnd.jupyter.widget-view+json": {
       "model_id": "72d4b50cea63495dab680adc16280c56",
       "version_major": 2,
       "version_minor": 0
      },
      "text/plain": [
       "Iterating over epochs:   0%|          | 0/30 [00:00<?, ?it/s]"
      ]
     },
     "metadata": {},
     "output_type": "display_data"
    },
    {
     "name": "stderr",
     "output_type": "stream",
     "text": [
      "Mean policy network loss: -0.047243\n",
      "Mean value network loss: 82.946684\n"
     ]
    }
   ],
   "source": [
    "returns_policy_network_losses, returns_value_network_losses, returns_history = trainer.train(\n",
    "    agent, env, history_file_path=\"histories/Pendulum-v1_ppo_returns.jsonl\"\n",
    ")"
   ]
  },
  {
   "cell_type": "code",
   "execution_count": 8,
   "id": "55b84d06-54eb-44fe-a1ef-4ab349b7a28b",
   "metadata": {},
   "outputs": [],
   "source": [
    "agent.save(\"agents/pendulum_returns.pth\")"
   ]
  },
  {
   "cell_type": "markdown",
   "id": "107af79b-f3e6-4beb-8483-2464e4314396",
   "metadata": {},
   "source": [
    "## BellmanEquationBasedPPOTrainer"
   ]
  },
  {
   "cell_type": "code",
   "execution_count": 9,
   "id": "ee3ed891-d9f1-49f1-833b-08b06a1a9d6c",
   "metadata": {},
   "outputs": [],
   "source": [
    "trainer = BellmanEquationBasedPPOTrainer(\n",
    "    n_episodes=50,\n",
    "    n_trajectories_per_episode=20,\n",
    "    n_epochs_per_episode=30,\n",
    "    epsilon=0.2,\n",
    "    policy_network_lr=1e-4,\n",
    "    value_network_lr=5e-4,\n",
    "    batch_size=32,\n",
    "    gamma=0.99,\n",
    "    value_network_hidden_sizes=[env.observation_space.shape[0], 128, 128, 1],\n",
    "    max_trajectory_length=200,\n",
    ")"
   ]
  },
  {
   "cell_type": "code",
   "execution_count": 10,
   "id": "42b331e8-b986-4bea-aa31-c76da4b79ab6",
   "metadata": {
    "scrolled": true
   },
   "outputs": [
    {
     "name": "stderr",
     "output_type": "stream",
     "text": [
      "Layer Sequential(\n",
      "  (0): Linear(in_features=3, out_features=128, bias=True)\n",
      "  (1): ReLU()\n",
      "  (2): Linear(in_features=128, out_features=128, bias=True)\n",
      "  (3): ReLU()\n",
      "  (4): Linear(in_features=128, out_features=2, bias=True)\n",
      ") doesn't have reset_parameters method\n",
      "Layer ReLU() doesn't have reset_parameters method\n",
      "Layer ReLU() doesn't have reset_parameters method\n",
      "Episode №1\n"
     ]
    },
    {
     "data": {
      "application/vnd.jupyter.widget-view+json": {
       "model_id": "abc4290bf4dc4deea870db6fa1f84359",
       "version_major": 2,
       "version_minor": 0
      },
      "text/plain": [
       "Sampling trajectories:   0%|          | 0/20 [00:00<?, ?it/s]"
      ]
     },
     "metadata": {},
     "output_type": "display_data"
    },
    {
     "name": "stderr",
     "output_type": "stream",
     "text": [
      "Mean total reward: -1314.45\n"
     ]
    },
    {
     "data": {
      "application/vnd.jupyter.widget-view+json": {
       "model_id": "3ab6ec343494464a826206373c82a0ef",
       "version_major": 2,
       "version_minor": 0
      },
      "text/plain": [
       "Iterating over epochs:   0%|          | 0/30 [00:00<?, ?it/s]"
      ]
     },
     "metadata": {},
     "output_type": "display_data"
    },
    {
     "name": "stderr",
     "output_type": "stream",
     "text": [
      "Mean policy network loss: 0.740421\n",
      "Mean value network loss: 867.779324\n",
      "Episode №2\n"
     ]
    },
    {
     "data": {
      "application/vnd.jupyter.widget-view+json": {
       "model_id": "12184e209d474ff5a7df45560120473f",
       "version_major": 2,
       "version_minor": 0
      },
      "text/plain": [
       "Sampling trajectories:   0%|          | 0/20 [00:00<?, ?it/s]"
      ]
     },
     "metadata": {},
     "output_type": "display_data"
    },
    {
     "name": "stderr",
     "output_type": "stream",
     "text": [
      "Mean total reward: -1114.91\n"
     ]
    },
    {
     "data": {
      "application/vnd.jupyter.widget-view+json": {
       "model_id": "d045c04d466745b5ba7b8df5d4995404",
       "version_major": 2,
       "version_minor": 0
      },
      "text/plain": [
       "Iterating over epochs:   0%|          | 0/30 [00:00<?, ?it/s]"
      ]
     },
     "metadata": {},
     "output_type": "display_data"
    },
    {
     "name": "stderr",
     "output_type": "stream",
     "text": [
      "Mean policy network loss: -0.575695\n",
      "Mean value network loss: 496.568233\n",
      "Episode №3\n"
     ]
    },
    {
     "data": {
      "application/vnd.jupyter.widget-view+json": {
       "model_id": "0a85e9d6812e444abd88262f2f5ce8cf",
       "version_major": 2,
       "version_minor": 0
      },
      "text/plain": [
       "Sampling trajectories:   0%|          | 0/20 [00:00<?, ?it/s]"
      ]
     },
     "metadata": {},
     "output_type": "display_data"
    },
    {
     "name": "stderr",
     "output_type": "stream",
     "text": [
      "Mean total reward: -1261.73\n"
     ]
    },
    {
     "data": {
      "application/vnd.jupyter.widget-view+json": {
       "model_id": "60de4efd19ca4a9b83c76cb79a844c17",
       "version_major": 2,
       "version_minor": 0
      },
      "text/plain": [
       "Iterating over epochs:   0%|          | 0/30 [00:00<?, ?it/s]"
      ]
     },
     "metadata": {},
     "output_type": "display_data"
    },
    {
     "name": "stderr",
     "output_type": "stream",
     "text": [
      "Mean policy network loss: -0.120588\n",
      "Mean value network loss: 734.934812\n",
      "Episode №4\n"
     ]
    },
    {
     "data": {
      "application/vnd.jupyter.widget-view+json": {
       "model_id": "4439e4b88ded481991f6dabfa420bc04",
       "version_major": 2,
       "version_minor": 0
      },
      "text/plain": [
       "Sampling trajectories:   0%|          | 0/20 [00:00<?, ?it/s]"
      ]
     },
     "metadata": {},
     "output_type": "display_data"
    },
    {
     "name": "stderr",
     "output_type": "stream",
     "text": [
      "Mean total reward: -1318.84\n"
     ]
    },
    {
     "data": {
      "application/vnd.jupyter.widget-view+json": {
       "model_id": "9110a8f836204d2d88467afd30310d06",
       "version_major": 2,
       "version_minor": 0
      },
      "text/plain": [
       "Iterating over epochs:   0%|          | 0/30 [00:00<?, ?it/s]"
      ]
     },
     "metadata": {},
     "output_type": "display_data"
    },
    {
     "name": "stderr",
     "output_type": "stream",
     "text": [
      "Mean policy network loss: 0.072667\n",
      "Mean value network loss: 878.666079\n",
      "Episode №5\n"
     ]
    },
    {
     "data": {
      "application/vnd.jupyter.widget-view+json": {
       "model_id": "0907e5983375475e9fdd8920c3d4bcd9",
       "version_major": 2,
       "version_minor": 0
      },
      "text/plain": [
       "Sampling trajectories:   0%|          | 0/20 [00:00<?, ?it/s]"
      ]
     },
     "metadata": {},
     "output_type": "display_data"
    },
    {
     "name": "stderr",
     "output_type": "stream",
     "text": [
      "Mean total reward: -1313.35\n"
     ]
    },
    {
     "data": {
      "application/vnd.jupyter.widget-view+json": {
       "model_id": "4d4d81290017483284b1f11ddd9b8dfc",
       "version_major": 2,
       "version_minor": 0
      },
      "text/plain": [
       "Iterating over epochs:   0%|          | 0/30 [00:00<?, ?it/s]"
      ]
     },
     "metadata": {},
     "output_type": "display_data"
    },
    {
     "name": "stderr",
     "output_type": "stream",
     "text": [
      "Mean policy network loss: -0.086171\n",
      "Mean value network loss: 894.442579\n",
      "Episode №6\n"
     ]
    },
    {
     "data": {
      "application/vnd.jupyter.widget-view+json": {
       "model_id": "4fd7ca14486849bc957ee6f567ed2755",
       "version_major": 2,
       "version_minor": 0
      },
      "text/plain": [
       "Sampling trajectories:   0%|          | 0/20 [00:00<?, ?it/s]"
      ]
     },
     "metadata": {},
     "output_type": "display_data"
    },
    {
     "name": "stderr",
     "output_type": "stream",
     "text": [
      "Mean total reward: -1279.39\n"
     ]
    },
    {
     "data": {
      "application/vnd.jupyter.widget-view+json": {
       "model_id": "046502e217f740fb9e54ff0fb17ef7a0",
       "version_major": 2,
       "version_minor": 0
      },
      "text/plain": [
       "Iterating over epochs:   0%|          | 0/30 [00:00<?, ?it/s]"
      ]
     },
     "metadata": {},
     "output_type": "display_data"
    },
    {
     "name": "stderr",
     "output_type": "stream",
     "text": [
      "Mean policy network loss: -0.124244\n",
      "Mean value network loss: 859.098736\n",
      "Episode №7\n"
     ]
    },
    {
     "data": {
      "application/vnd.jupyter.widget-view+json": {
       "model_id": "23f844b637e74d57816a762ce3f464a1",
       "version_major": 2,
       "version_minor": 0
      },
      "text/plain": [
       "Sampling trajectories:   0%|          | 0/20 [00:00<?, ?it/s]"
      ]
     },
     "metadata": {},
     "output_type": "display_data"
    },
    {
     "name": "stderr",
     "output_type": "stream",
     "text": [
      "Mean total reward: -1270.01\n"
     ]
    },
    {
     "data": {
      "application/vnd.jupyter.widget-view+json": {
       "model_id": "a80869575927459195038fde47ec218a",
       "version_major": 2,
       "version_minor": 0
      },
      "text/plain": [
       "Iterating over epochs:   0%|          | 0/30 [00:00<?, ?it/s]"
      ]
     },
     "metadata": {},
     "output_type": "display_data"
    },
    {
     "name": "stderr",
     "output_type": "stream",
     "text": [
      "Mean policy network loss: -0.066826\n",
      "Mean value network loss: 860.636224\n",
      "Episode №8\n"
     ]
    },
    {
     "data": {
      "application/vnd.jupyter.widget-view+json": {
       "model_id": "5aa0b0d304ac4c40babe4b1eaeb558ca",
       "version_major": 2,
       "version_minor": 0
      },
      "text/plain": [
       "Sampling trajectories:   0%|          | 0/20 [00:00<?, ?it/s]"
      ]
     },
     "metadata": {},
     "output_type": "display_data"
    },
    {
     "name": "stderr",
     "output_type": "stream",
     "text": [
      "Mean total reward: -1229.60\n"
     ]
    },
    {
     "data": {
      "application/vnd.jupyter.widget-view+json": {
       "model_id": "c337b1e361b14229ba70e9e921ac456e",
       "version_major": 2,
       "version_minor": 0
      },
      "text/plain": [
       "Iterating over epochs:   0%|          | 0/30 [00:00<?, ?it/s]"
      ]
     },
     "metadata": {},
     "output_type": "display_data"
    },
    {
     "name": "stderr",
     "output_type": "stream",
     "text": [
      "Mean policy network loss: -0.173745\n",
      "Mean value network loss: 874.453177\n",
      "Episode №9\n"
     ]
    },
    {
     "data": {
      "application/vnd.jupyter.widget-view+json": {
       "model_id": "c32f003e91c0473aacabda4d0f5c9b53",
       "version_major": 2,
       "version_minor": 0
      },
      "text/plain": [
       "Sampling trajectories:   0%|          | 0/20 [00:00<?, ?it/s]"
      ]
     },
     "metadata": {},
     "output_type": "display_data"
    },
    {
     "name": "stderr",
     "output_type": "stream",
     "text": [
      "Mean total reward: -1197.19\n"
     ]
    },
    {
     "data": {
      "application/vnd.jupyter.widget-view+json": {
       "model_id": "ea9ef0ff7de34744a319b2dd44290909",
       "version_major": 2,
       "version_minor": 0
      },
      "text/plain": [
       "Iterating over epochs:   0%|          | 0/30 [00:00<?, ?it/s]"
      ]
     },
     "metadata": {},
     "output_type": "display_data"
    },
    {
     "name": "stderr",
     "output_type": "stream",
     "text": [
      "Mean policy network loss: -0.139469\n",
      "Mean value network loss: 696.654857\n",
      "Episode №10\n"
     ]
    },
    {
     "data": {
      "application/vnd.jupyter.widget-view+json": {
       "model_id": "5a18b5d6349d4ed0b78cbdfd05cb0498",
       "version_major": 2,
       "version_minor": 0
      },
      "text/plain": [
       "Sampling trajectories:   0%|          | 0/20 [00:00<?, ?it/s]"
      ]
     },
     "metadata": {},
     "output_type": "display_data"
    },
    {
     "name": "stderr",
     "output_type": "stream",
     "text": [
      "Mean total reward: -1056.54\n"
     ]
    },
    {
     "data": {
      "application/vnd.jupyter.widget-view+json": {
       "model_id": "7ad03476bc544577b5d2e9addb38498f",
       "version_major": 2,
       "version_minor": 0
      },
      "text/plain": [
       "Iterating over epochs:   0%|          | 0/30 [00:00<?, ?it/s]"
      ]
     },
     "metadata": {},
     "output_type": "display_data"
    },
    {
     "name": "stderr",
     "output_type": "stream",
     "text": [
      "Mean policy network loss: -0.191046\n",
      "Mean value network loss: 608.124274\n",
      "Episode №11\n"
     ]
    },
    {
     "data": {
      "application/vnd.jupyter.widget-view+json": {
       "model_id": "156962fc735e4c4db05e8382b70d4dfb",
       "version_major": 2,
       "version_minor": 0
      },
      "text/plain": [
       "Sampling trajectories:   0%|          | 0/20 [00:00<?, ?it/s]"
      ]
     },
     "metadata": {},
     "output_type": "display_data"
    },
    {
     "name": "stderr",
     "output_type": "stream",
     "text": [
      "Mean total reward: -863.38\n"
     ]
    },
    {
     "data": {
      "application/vnd.jupyter.widget-view+json": {
       "model_id": "719bb41ae10c4724bd06d4ca623a54d5",
       "version_major": 2,
       "version_minor": 0
      },
      "text/plain": [
       "Iterating over epochs:   0%|          | 0/30 [00:00<?, ?it/s]"
      ]
     },
     "metadata": {},
     "output_type": "display_data"
    },
    {
     "name": "stderr",
     "output_type": "stream",
     "text": [
      "Mean policy network loss: -0.334710\n",
      "Mean value network loss: 439.505593\n",
      "Episode №12\n"
     ]
    },
    {
     "data": {
      "application/vnd.jupyter.widget-view+json": {
       "model_id": "599152cd1542410698176d41ac28c32e",
       "version_major": 2,
       "version_minor": 0
      },
      "text/plain": [
       "Sampling trajectories:   0%|          | 0/20 [00:00<?, ?it/s]"
      ]
     },
     "metadata": {},
     "output_type": "display_data"
    },
    {
     "name": "stderr",
     "output_type": "stream",
     "text": [
      "Mean total reward: -347.80\n"
     ]
    },
    {
     "data": {
      "application/vnd.jupyter.widget-view+json": {
       "model_id": "1f4c70eca8254657b0fbdbefd777fb1a",
       "version_major": 2,
       "version_minor": 0
      },
      "text/plain": [
       "Iterating over epochs:   0%|          | 0/30 [00:00<?, ?it/s]"
      ]
     },
     "metadata": {},
     "output_type": "display_data"
    },
    {
     "name": "stderr",
     "output_type": "stream",
     "text": [
      "Mean policy network loss: -0.423157\n",
      "Mean value network loss: 31.267488\n",
      "Episode №13\n"
     ]
    },
    {
     "data": {
      "application/vnd.jupyter.widget-view+json": {
       "model_id": "3026722f59894a85aea57d8be604255f",
       "version_major": 2,
       "version_minor": 0
      },
      "text/plain": [
       "Sampling trajectories:   0%|          | 0/20 [00:00<?, ?it/s]"
      ]
     },
     "metadata": {},
     "output_type": "display_data"
    },
    {
     "name": "stderr",
     "output_type": "stream",
     "text": [
      "Mean total reward: -244.97\n"
     ]
    },
    {
     "data": {
      "application/vnd.jupyter.widget-view+json": {
       "model_id": "9e9c46f0f7ec4c1782f36897bf991231",
       "version_major": 2,
       "version_minor": 0
      },
      "text/plain": [
       "Iterating over epochs:   0%|          | 0/30 [00:00<?, ?it/s]"
      ]
     },
     "metadata": {},
     "output_type": "display_data"
    },
    {
     "name": "stderr",
     "output_type": "stream",
     "text": [
      "Mean policy network loss: -0.074168\n",
      "Mean value network loss: 21.091275\n",
      "Episode №14\n"
     ]
    },
    {
     "data": {
      "application/vnd.jupyter.widget-view+json": {
       "model_id": "7af25b92e1744a868ed8c5041c6a4d0c",
       "version_major": 2,
       "version_minor": 0
      },
      "text/plain": [
       "Sampling trajectories:   0%|          | 0/20 [00:00<?, ?it/s]"
      ]
     },
     "metadata": {},
     "output_type": "display_data"
    },
    {
     "name": "stderr",
     "output_type": "stream",
     "text": [
      "Mean total reward: -152.39\n"
     ]
    },
    {
     "data": {
      "application/vnd.jupyter.widget-view+json": {
       "model_id": "41cf74aa14eb444ca53538cd24000607",
       "version_major": 2,
       "version_minor": 0
      },
      "text/plain": [
       "Iterating over epochs:   0%|          | 0/30 [00:00<?, ?it/s]"
      ]
     },
     "metadata": {},
     "output_type": "display_data"
    },
    {
     "name": "stderr",
     "output_type": "stream",
     "text": [
      "Mean policy network loss: -0.038128\n",
      "Mean value network loss: 4.649258\n",
      "Episode №15\n"
     ]
    },
    {
     "data": {
      "application/vnd.jupyter.widget-view+json": {
       "model_id": "691ab19ce44444e0bda20da42fc2d179",
       "version_major": 2,
       "version_minor": 0
      },
      "text/plain": [
       "Sampling trajectories:   0%|          | 0/20 [00:00<?, ?it/s]"
      ]
     },
     "metadata": {},
     "output_type": "display_data"
    },
    {
     "name": "stderr",
     "output_type": "stream",
     "text": [
      "Mean total reward: -189.92\n"
     ]
    },
    {
     "data": {
      "application/vnd.jupyter.widget-view+json": {
       "model_id": "abef8cdd2fe44ff5bf78c9658f2e20b0",
       "version_major": 2,
       "version_minor": 0
      },
      "text/plain": [
       "Iterating over epochs:   0%|          | 0/30 [00:00<?, ?it/s]"
      ]
     },
     "metadata": {},
     "output_type": "display_data"
    },
    {
     "name": "stderr",
     "output_type": "stream",
     "text": [
      "Mean policy network loss: -0.027892\n",
      "Mean value network loss: 10.471776\n",
      "Episode №16\n"
     ]
    },
    {
     "data": {
      "application/vnd.jupyter.widget-view+json": {
       "model_id": "095da0415e684246a86ba3362fa79b55",
       "version_major": 2,
       "version_minor": 0
      },
      "text/plain": [
       "Sampling trajectories:   0%|          | 0/20 [00:00<?, ?it/s]"
      ]
     },
     "metadata": {},
     "output_type": "display_data"
    },
    {
     "name": "stderr",
     "output_type": "stream",
     "text": [
      "Mean total reward: -164.79\n"
     ]
    },
    {
     "data": {
      "application/vnd.jupyter.widget-view+json": {
       "model_id": "127f2d52e917444cb0a01cb510232923",
       "version_major": 2,
       "version_minor": 0
      },
      "text/plain": [
       "Iterating over epochs:   0%|          | 0/30 [00:00<?, ?it/s]"
      ]
     },
     "metadata": {},
     "output_type": "display_data"
    },
    {
     "name": "stderr",
     "output_type": "stream",
     "text": [
      "Mean policy network loss: -0.015282\n",
      "Mean value network loss: 6.693777\n",
      "Episode №17\n"
     ]
    },
    {
     "data": {
      "application/vnd.jupyter.widget-view+json": {
       "model_id": "f71734cf2b8d4fde9b6b0da020f7292b",
       "version_major": 2,
       "version_minor": 0
      },
      "text/plain": [
       "Sampling trajectories:   0%|          | 0/20 [00:00<?, ?it/s]"
      ]
     },
     "metadata": {},
     "output_type": "display_data"
    },
    {
     "name": "stderr",
     "output_type": "stream",
     "text": [
      "Mean total reward: -169.07\n"
     ]
    },
    {
     "data": {
      "application/vnd.jupyter.widget-view+json": {
       "model_id": "5dc48f791b1b43d185bc0e88ec4ea522",
       "version_major": 2,
       "version_minor": 0
      },
      "text/plain": [
       "Iterating over epochs:   0%|          | 0/30 [00:00<?, ?it/s]"
      ]
     },
     "metadata": {},
     "output_type": "display_data"
    },
    {
     "name": "stderr",
     "output_type": "stream",
     "text": [
      "Mean policy network loss: -0.025421\n",
      "Mean value network loss: 11.084673\n",
      "Episode №18\n"
     ]
    },
    {
     "data": {
      "application/vnd.jupyter.widget-view+json": {
       "model_id": "fa23599d4a5f4ef9ae6cd540b259529a",
       "version_major": 2,
       "version_minor": 0
      },
      "text/plain": [
       "Sampling trajectories:   0%|          | 0/20 [00:00<?, ?it/s]"
      ]
     },
     "metadata": {},
     "output_type": "display_data"
    },
    {
     "name": "stderr",
     "output_type": "stream",
     "text": [
      "Mean total reward: -144.36\n"
     ]
    },
    {
     "data": {
      "application/vnd.jupyter.widget-view+json": {
       "model_id": "d2e9331de6e944da90e68ae33eaa804d",
       "version_major": 2,
       "version_minor": 0
      },
      "text/plain": [
       "Iterating over epochs:   0%|          | 0/30 [00:00<?, ?it/s]"
      ]
     },
     "metadata": {},
     "output_type": "display_data"
    },
    {
     "name": "stderr",
     "output_type": "stream",
     "text": [
      "Mean policy network loss: -0.034540\n",
      "Mean value network loss: 5.930810\n",
      "Episode №19\n"
     ]
    },
    {
     "data": {
      "application/vnd.jupyter.widget-view+json": {
       "model_id": "6ee5b3b6ac4f4bf983974fae7ad7ecd9",
       "version_major": 2,
       "version_minor": 0
      },
      "text/plain": [
       "Sampling trajectories:   0%|          | 0/20 [00:00<?, ?it/s]"
      ]
     },
     "metadata": {},
     "output_type": "display_data"
    },
    {
     "name": "stderr",
     "output_type": "stream",
     "text": [
      "Mean total reward: -290.46\n"
     ]
    },
    {
     "data": {
      "application/vnd.jupyter.widget-view+json": {
       "model_id": "8bda2695c6d64f36a13341294b1e17c3",
       "version_major": 2,
       "version_minor": 0
      },
      "text/plain": [
       "Iterating over epochs:   0%|          | 0/30 [00:00<?, ?it/s]"
      ]
     },
     "metadata": {},
     "output_type": "display_data"
    },
    {
     "name": "stderr",
     "output_type": "stream",
     "text": [
      "Mean policy network loss: -0.128623\n",
      "Mean value network loss: 75.498067\n",
      "Episode №20\n"
     ]
    },
    {
     "data": {
      "application/vnd.jupyter.widget-view+json": {
       "model_id": "d20d819911b6447596aa1cb91afac270",
       "version_major": 2,
       "version_minor": 0
      },
      "text/plain": [
       "Sampling trajectories:   0%|          | 0/20 [00:00<?, ?it/s]"
      ]
     },
     "metadata": {},
     "output_type": "display_data"
    },
    {
     "name": "stderr",
     "output_type": "stream",
     "text": [
      "Mean total reward: -440.32\n"
     ]
    },
    {
     "data": {
      "application/vnd.jupyter.widget-view+json": {
       "model_id": "eaf64e3bddb74b62b9e0c613d2c12a61",
       "version_major": 2,
       "version_minor": 0
      },
      "text/plain": [
       "Iterating over epochs:   0%|          | 0/30 [00:00<?, ?it/s]"
      ]
     },
     "metadata": {},
     "output_type": "display_data"
    },
    {
     "name": "stderr",
     "output_type": "stream",
     "text": [
      "Mean policy network loss: 0.077715\n",
      "Mean value network loss: 220.299702\n",
      "Episode №21\n"
     ]
    },
    {
     "data": {
      "application/vnd.jupyter.widget-view+json": {
       "model_id": "ce24c2612ceb471eafa74e0b054427f3",
       "version_major": 2,
       "version_minor": 0
      },
      "text/plain": [
       "Sampling trajectories:   0%|          | 0/20 [00:00<?, ?it/s]"
      ]
     },
     "metadata": {},
     "output_type": "display_data"
    },
    {
     "name": "stderr",
     "output_type": "stream",
     "text": [
      "Mean total reward: -826.18\n"
     ]
    },
    {
     "data": {
      "application/vnd.jupyter.widget-view+json": {
       "model_id": "48205f21a214429dab43e0c3abf9c693",
       "version_major": 2,
       "version_minor": 0
      },
      "text/plain": [
       "Iterating over epochs:   0%|          | 0/30 [00:00<?, ?it/s]"
      ]
     },
     "metadata": {},
     "output_type": "display_data"
    },
    {
     "name": "stderr",
     "output_type": "stream",
     "text": [
      "Mean policy network loss: -0.059778\n",
      "Mean value network loss: 607.902252\n",
      "Episode №22\n"
     ]
    },
    {
     "data": {
      "application/vnd.jupyter.widget-view+json": {
       "model_id": "570a2634227a490da08262281cc2678f",
       "version_major": 2,
       "version_minor": 0
      },
      "text/plain": [
       "Sampling trajectories:   0%|          | 0/20 [00:00<?, ?it/s]"
      ]
     },
     "metadata": {},
     "output_type": "display_data"
    },
    {
     "name": "stderr",
     "output_type": "stream",
     "text": [
      "Mean total reward: -644.64\n"
     ]
    },
    {
     "data": {
      "application/vnd.jupyter.widget-view+json": {
       "model_id": "e3a6b374912146cba2dbdae477e66572",
       "version_major": 2,
       "version_minor": 0
      },
      "text/plain": [
       "Iterating over epochs:   0%|          | 0/30 [00:00<?, ?it/s]"
      ]
     },
     "metadata": {},
     "output_type": "display_data"
    },
    {
     "name": "stderr",
     "output_type": "stream",
     "text": [
      "Mean policy network loss: -0.154493\n",
      "Mean value network loss: 452.742675\n",
      "Episode №23\n"
     ]
    },
    {
     "data": {
      "application/vnd.jupyter.widget-view+json": {
       "model_id": "aff5b45b65264647a3e36fe2ec340982",
       "version_major": 2,
       "version_minor": 0
      },
      "text/plain": [
       "Sampling trajectories:   0%|          | 0/20 [00:00<?, ?it/s]"
      ]
     },
     "metadata": {},
     "output_type": "display_data"
    },
    {
     "name": "stderr",
     "output_type": "stream",
     "text": [
      "Mean total reward: -439.70\n"
     ]
    },
    {
     "data": {
      "application/vnd.jupyter.widget-view+json": {
       "model_id": "378f3ee49c2141a587d9281a969ff04a",
       "version_major": 2,
       "version_minor": 0
      },
      "text/plain": [
       "Iterating over epochs:   0%|          | 0/30 [00:00<?, ?it/s]"
      ]
     },
     "metadata": {},
     "output_type": "display_data"
    },
    {
     "name": "stderr",
     "output_type": "stream",
     "text": [
      "Mean policy network loss: -0.161516\n",
      "Mean value network loss: 212.420361\n",
      "Episode №24\n"
     ]
    },
    {
     "data": {
      "application/vnd.jupyter.widget-view+json": {
       "model_id": "3dd3eb615261411cb46040631ca19d61",
       "version_major": 2,
       "version_minor": 0
      },
      "text/plain": [
       "Sampling trajectories:   0%|          | 0/20 [00:00<?, ?it/s]"
      ]
     },
     "metadata": {},
     "output_type": "display_data"
    },
    {
     "name": "stderr",
     "output_type": "stream",
     "text": [
      "Mean total reward: -424.25\n"
     ]
    },
    {
     "data": {
      "application/vnd.jupyter.widget-view+json": {
       "model_id": "95d3802bccbf4702be5f711a3c789470",
       "version_major": 2,
       "version_minor": 0
      },
      "text/plain": [
       "Iterating over epochs:   0%|          | 0/30 [00:00<?, ?it/s]"
      ]
     },
     "metadata": {},
     "output_type": "display_data"
    },
    {
     "name": "stderr",
     "output_type": "stream",
     "text": [
      "Mean policy network loss: -0.079341\n",
      "Mean value network loss: 215.893968\n",
      "Episode №25\n"
     ]
    },
    {
     "data": {
      "application/vnd.jupyter.widget-view+json": {
       "model_id": "1d49b76f5d674c9d8f670825a3c28c63",
       "version_major": 2,
       "version_minor": 0
      },
      "text/plain": [
       "Sampling trajectories:   0%|          | 0/20 [00:00<?, ?it/s]"
      ]
     },
     "metadata": {},
     "output_type": "display_data"
    },
    {
     "name": "stderr",
     "output_type": "stream",
     "text": [
      "Mean total reward: -452.73\n"
     ]
    },
    {
     "data": {
      "application/vnd.jupyter.widget-view+json": {
       "model_id": "e33be97aacf24dcdb1ad68b403ca3e9f",
       "version_major": 2,
       "version_minor": 0
      },
      "text/plain": [
       "Iterating over epochs:   0%|          | 0/30 [00:00<?, ?it/s]"
      ]
     },
     "metadata": {},
     "output_type": "display_data"
    },
    {
     "name": "stderr",
     "output_type": "stream",
     "text": [
      "Mean policy network loss: -0.082354\n",
      "Mean value network loss: 178.499902\n",
      "Episode №26\n"
     ]
    },
    {
     "data": {
      "application/vnd.jupyter.widget-view+json": {
       "model_id": "219243395368436abe2f3ad27376943b",
       "version_major": 2,
       "version_minor": 0
      },
      "text/plain": [
       "Sampling trajectories:   0%|          | 0/20 [00:00<?, ?it/s]"
      ]
     },
     "metadata": {},
     "output_type": "display_data"
    },
    {
     "name": "stderr",
     "output_type": "stream",
     "text": [
      "Mean total reward: -214.01\n"
     ]
    },
    {
     "data": {
      "application/vnd.jupyter.widget-view+json": {
       "model_id": "e7828834dfdb423aa62efdef505c215a",
       "version_major": 2,
       "version_minor": 0
      },
      "text/plain": [
       "Iterating over epochs:   0%|          | 0/30 [00:00<?, ?it/s]"
      ]
     },
     "metadata": {},
     "output_type": "display_data"
    },
    {
     "name": "stderr",
     "output_type": "stream",
     "text": [
      "Mean policy network loss: -0.131764\n",
      "Mean value network loss: 44.189123\n",
      "Episode №27\n"
     ]
    },
    {
     "data": {
      "application/vnd.jupyter.widget-view+json": {
       "model_id": "2684d38e63e84e979167a0d143e55f92",
       "version_major": 2,
       "version_minor": 0
      },
      "text/plain": [
       "Sampling trajectories:   0%|          | 0/20 [00:00<?, ?it/s]"
      ]
     },
     "metadata": {},
     "output_type": "display_data"
    },
    {
     "name": "stderr",
     "output_type": "stream",
     "text": [
      "Mean total reward: -159.52\n"
     ]
    },
    {
     "data": {
      "application/vnd.jupyter.widget-view+json": {
       "model_id": "d9708a67b08040d2b17252e5befc8dcd",
       "version_major": 2,
       "version_minor": 0
      },
      "text/plain": [
       "Iterating over epochs:   0%|          | 0/30 [00:00<?, ?it/s]"
      ]
     },
     "metadata": {},
     "output_type": "display_data"
    },
    {
     "name": "stderr",
     "output_type": "stream",
     "text": [
      "Mean policy network loss: -0.093298\n",
      "Mean value network loss: 17.704156\n",
      "Episode №28\n"
     ]
    },
    {
     "data": {
      "application/vnd.jupyter.widget-view+json": {
       "model_id": "1a7949fc754247d28f510de26e8304a5",
       "version_major": 2,
       "version_minor": 0
      },
      "text/plain": [
       "Sampling trajectories:   0%|          | 0/20 [00:00<?, ?it/s]"
      ]
     },
     "metadata": {},
     "output_type": "display_data"
    },
    {
     "name": "stderr",
     "output_type": "stream",
     "text": [
      "Mean total reward: -177.39\n"
     ]
    },
    {
     "data": {
      "application/vnd.jupyter.widget-view+json": {
       "model_id": "feff5b65d1cc41ad823d4a24ff5d6736",
       "version_major": 2,
       "version_minor": 0
      },
      "text/plain": [
       "Iterating over epochs:   0%|          | 0/30 [00:00<?, ?it/s]"
      ]
     },
     "metadata": {},
     "output_type": "display_data"
    },
    {
     "name": "stderr",
     "output_type": "stream",
     "text": [
      "Mean policy network loss: -0.061671\n",
      "Mean value network loss: 18.472301\n",
      "Episode №29\n"
     ]
    },
    {
     "data": {
      "application/vnd.jupyter.widget-view+json": {
       "model_id": "4250eb14989e48838b1e1b9975c8c743",
       "version_major": 2,
       "version_minor": 0
      },
      "text/plain": [
       "Sampling trajectories:   0%|          | 0/20 [00:00<?, ?it/s]"
      ]
     },
     "metadata": {},
     "output_type": "display_data"
    },
    {
     "name": "stderr",
     "output_type": "stream",
     "text": [
      "Mean total reward: -287.05\n"
     ]
    },
    {
     "data": {
      "application/vnd.jupyter.widget-view+json": {
       "model_id": "189425aa89f64341908d6e9d26e7f550",
       "version_major": 2,
       "version_minor": 0
      },
      "text/plain": [
       "Iterating over epochs:   0%|          | 0/30 [00:00<?, ?it/s]"
      ]
     },
     "metadata": {},
     "output_type": "display_data"
    },
    {
     "name": "stderr",
     "output_type": "stream",
     "text": [
      "Mean policy network loss: -0.040227\n",
      "Mean value network loss: 87.451143\n",
      "Episode №30\n"
     ]
    },
    {
     "data": {
      "application/vnd.jupyter.widget-view+json": {
       "model_id": "d51bb678b3764914a7d9a4b52cae8dad",
       "version_major": 2,
       "version_minor": 0
      },
      "text/plain": [
       "Sampling trajectories:   0%|          | 0/20 [00:00<?, ?it/s]"
      ]
     },
     "metadata": {},
     "output_type": "display_data"
    },
    {
     "name": "stderr",
     "output_type": "stream",
     "text": [
      "Mean total reward: -189.65\n"
     ]
    },
    {
     "data": {
      "application/vnd.jupyter.widget-view+json": {
       "model_id": "86b275d6dcf94bebbe3b6dd07a44306e",
       "version_major": 2,
       "version_minor": 0
      },
      "text/plain": [
       "Iterating over epochs:   0%|          | 0/30 [00:00<?, ?it/s]"
      ]
     },
     "metadata": {},
     "output_type": "display_data"
    },
    {
     "name": "stderr",
     "output_type": "stream",
     "text": [
      "Mean policy network loss: -0.068783\n",
      "Mean value network loss: 29.630997\n",
      "Episode №31\n"
     ]
    },
    {
     "data": {
      "application/vnd.jupyter.widget-view+json": {
       "model_id": "0a511d2dfe2844cdb44c7a359506f35b",
       "version_major": 2,
       "version_minor": 0
      },
      "text/plain": [
       "Sampling trajectories:   0%|          | 0/20 [00:00<?, ?it/s]"
      ]
     },
     "metadata": {},
     "output_type": "display_data"
    },
    {
     "name": "stderr",
     "output_type": "stream",
     "text": [
      "Mean total reward: -150.96\n"
     ]
    },
    {
     "data": {
      "application/vnd.jupyter.widget-view+json": {
       "model_id": "13732a1d2d34403e962a2f8006636a1c",
       "version_major": 2,
       "version_minor": 0
      },
      "text/plain": [
       "Iterating over epochs:   0%|          | 0/30 [00:00<?, ?it/s]"
      ]
     },
     "metadata": {},
     "output_type": "display_data"
    },
    {
     "name": "stderr",
     "output_type": "stream",
     "text": [
      "Mean policy network loss: -0.070443\n",
      "Mean value network loss: 11.667188\n",
      "Episode №32\n"
     ]
    },
    {
     "data": {
      "application/vnd.jupyter.widget-view+json": {
       "model_id": "71303ac5773f41be8999013799676c67",
       "version_major": 2,
       "version_minor": 0
      },
      "text/plain": [
       "Sampling trajectories:   0%|          | 0/20 [00:00<?, ?it/s]"
      ]
     },
     "metadata": {},
     "output_type": "display_data"
    },
    {
     "name": "stderr",
     "output_type": "stream",
     "text": [
      "Mean total reward: -206.51\n"
     ]
    },
    {
     "data": {
      "application/vnd.jupyter.widget-view+json": {
       "model_id": "33764d0c506843e3a24624e4b8689e90",
       "version_major": 2,
       "version_minor": 0
      },
      "text/plain": [
       "Iterating over epochs:   0%|          | 0/30 [00:00<?, ?it/s]"
      ]
     },
     "metadata": {},
     "output_type": "display_data"
    },
    {
     "name": "stderr",
     "output_type": "stream",
     "text": [
      "Mean policy network loss: -0.060046\n",
      "Mean value network loss: 16.512570\n",
      "Episode №33\n"
     ]
    },
    {
     "data": {
      "application/vnd.jupyter.widget-view+json": {
       "model_id": "e5ee0163cad44be8b49e4ed6a0d8ce78",
       "version_major": 2,
       "version_minor": 0
      },
      "text/plain": [
       "Sampling trajectories:   0%|          | 0/20 [00:00<?, ?it/s]"
      ]
     },
     "metadata": {},
     "output_type": "display_data"
    },
    {
     "name": "stderr",
     "output_type": "stream",
     "text": [
      "Mean total reward: -214.66\n"
     ]
    },
    {
     "data": {
      "application/vnd.jupyter.widget-view+json": {
       "model_id": "6321f67416bc4c22b0562804abf2b82a",
       "version_major": 2,
       "version_minor": 0
      },
      "text/plain": [
       "Iterating over epochs:   0%|          | 0/30 [00:00<?, ?it/s]"
      ]
     },
     "metadata": {},
     "output_type": "display_data"
    },
    {
     "name": "stderr",
     "output_type": "stream",
     "text": [
      "Mean policy network loss: 0.078164\n",
      "Mean value network loss: 33.514804\n",
      "Episode №34\n"
     ]
    },
    {
     "data": {
      "application/vnd.jupyter.widget-view+json": {
       "model_id": "00680443daef4b29a8cb220204428833",
       "version_major": 2,
       "version_minor": 0
      },
      "text/plain": [
       "Sampling trajectories:   0%|          | 0/20 [00:00<?, ?it/s]"
      ]
     },
     "metadata": {},
     "output_type": "display_data"
    },
    {
     "name": "stderr",
     "output_type": "stream",
     "text": [
      "Mean total reward: -236.26\n"
     ]
    },
    {
     "data": {
      "application/vnd.jupyter.widget-view+json": {
       "model_id": "a7838b09f8724ac7a051982ac0a2d5bd",
       "version_major": 2,
       "version_minor": 0
      },
      "text/plain": [
       "Iterating over epochs:   0%|          | 0/30 [00:00<?, ?it/s]"
      ]
     },
     "metadata": {},
     "output_type": "display_data"
    },
    {
     "name": "stderr",
     "output_type": "stream",
     "text": [
      "Mean policy network loss: 0.048039\n",
      "Mean value network loss: 19.726830\n",
      "Episode №35\n"
     ]
    },
    {
     "data": {
      "application/vnd.jupyter.widget-view+json": {
       "model_id": "6287b3fb336e486ba5e7512fa092e75b",
       "version_major": 2,
       "version_minor": 0
      },
      "text/plain": [
       "Sampling trajectories:   0%|          | 0/20 [00:00<?, ?it/s]"
      ]
     },
     "metadata": {},
     "output_type": "display_data"
    },
    {
     "name": "stderr",
     "output_type": "stream",
     "text": [
      "Mean total reward: -218.09\n"
     ]
    },
    {
     "data": {
      "application/vnd.jupyter.widget-view+json": {
       "model_id": "f5954d3e707842ebababfadf937e0d90",
       "version_major": 2,
       "version_minor": 0
      },
      "text/plain": [
       "Iterating over epochs:   0%|          | 0/30 [00:00<?, ?it/s]"
      ]
     },
     "metadata": {},
     "output_type": "display_data"
    },
    {
     "name": "stderr",
     "output_type": "stream",
     "text": [
      "Mean policy network loss: -0.023852\n",
      "Mean value network loss: 16.656708\n",
      "Episode №36\n"
     ]
    },
    {
     "data": {
      "application/vnd.jupyter.widget-view+json": {
       "model_id": "b0f06c09e699482784a320165a0adb0c",
       "version_major": 2,
       "version_minor": 0
      },
      "text/plain": [
       "Sampling trajectories:   0%|          | 0/20 [00:00<?, ?it/s]"
      ]
     },
     "metadata": {},
     "output_type": "display_data"
    },
    {
     "name": "stderr",
     "output_type": "stream",
     "text": [
      "Mean total reward: -152.25\n"
     ]
    },
    {
     "data": {
      "application/vnd.jupyter.widget-view+json": {
       "model_id": "59f7dd0cdcd44e1cb76ba38a7036f0df",
       "version_major": 2,
       "version_minor": 0
      },
      "text/plain": [
       "Iterating over epochs:   0%|          | 0/30 [00:00<?, ?it/s]"
      ]
     },
     "metadata": {},
     "output_type": "display_data"
    },
    {
     "name": "stderr",
     "output_type": "stream",
     "text": [
      "Mean policy network loss: 0.023375\n",
      "Mean value network loss: 7.467313\n",
      "Episode №37\n"
     ]
    },
    {
     "data": {
      "application/vnd.jupyter.widget-view+json": {
       "model_id": "27b13f2cb40645e3855e5dc4938081be",
       "version_major": 2,
       "version_minor": 0
      },
      "text/plain": [
       "Sampling trajectories:   0%|          | 0/20 [00:00<?, ?it/s]"
      ]
     },
     "metadata": {},
     "output_type": "display_data"
    },
    {
     "name": "stderr",
     "output_type": "stream",
     "text": [
      "Mean total reward: -204.13\n"
     ]
    },
    {
     "data": {
      "application/vnd.jupyter.widget-view+json": {
       "model_id": "df8f156696f84e178ace0158740e0e10",
       "version_major": 2,
       "version_minor": 0
      },
      "text/plain": [
       "Iterating over epochs:   0%|          | 0/30 [00:00<?, ?it/s]"
      ]
     },
     "metadata": {},
     "output_type": "display_data"
    },
    {
     "name": "stderr",
     "output_type": "stream",
     "text": [
      "Mean policy network loss: 0.029315\n",
      "Mean value network loss: 19.376938\n",
      "Episode №38\n"
     ]
    },
    {
     "data": {
      "application/vnd.jupyter.widget-view+json": {
       "model_id": "a2a27ca30d6f4e218802b1808bd1d727",
       "version_major": 2,
       "version_minor": 0
      },
      "text/plain": [
       "Sampling trajectories:   0%|          | 0/20 [00:00<?, ?it/s]"
      ]
     },
     "metadata": {},
     "output_type": "display_data"
    },
    {
     "name": "stderr",
     "output_type": "stream",
     "text": [
      "Mean total reward: -178.09\n"
     ]
    },
    {
     "data": {
      "application/vnd.jupyter.widget-view+json": {
       "model_id": "3a9334fec73f4e6c9128edc691a94d99",
       "version_major": 2,
       "version_minor": 0
      },
      "text/plain": [
       "Iterating over epochs:   0%|          | 0/30 [00:00<?, ?it/s]"
      ]
     },
     "metadata": {},
     "output_type": "display_data"
    },
    {
     "name": "stderr",
     "output_type": "stream",
     "text": [
      "Mean policy network loss: 0.042824\n",
      "Mean value network loss: 10.423016\n",
      "Episode №39\n"
     ]
    },
    {
     "data": {
      "application/vnd.jupyter.widget-view+json": {
       "model_id": "b8776a48ebc44d979682bada4b004969",
       "version_major": 2,
       "version_minor": 0
      },
      "text/plain": [
       "Sampling trajectories:   0%|          | 0/20 [00:00<?, ?it/s]"
      ]
     },
     "metadata": {},
     "output_type": "display_data"
    },
    {
     "name": "stderr",
     "output_type": "stream",
     "text": [
      "Mean total reward: -354.65\n"
     ]
    },
    {
     "data": {
      "application/vnd.jupyter.widget-view+json": {
       "model_id": "e70f4a33285d4c7987568e9315829ade",
       "version_major": 2,
       "version_minor": 0
      },
      "text/plain": [
       "Iterating over epochs:   0%|          | 0/30 [00:00<?, ?it/s]"
      ]
     },
     "metadata": {},
     "output_type": "display_data"
    },
    {
     "name": "stderr",
     "output_type": "stream",
     "text": [
      "Mean policy network loss: -0.152431\n",
      "Mean value network loss: 112.594402\n",
      "Episode №40\n"
     ]
    },
    {
     "data": {
      "application/vnd.jupyter.widget-view+json": {
       "model_id": "748f5d90508a4c67ae979c89ce5a39db",
       "version_major": 2,
       "version_minor": 0
      },
      "text/plain": [
       "Sampling trajectories:   0%|          | 0/20 [00:00<?, ?it/s]"
      ]
     },
     "metadata": {},
     "output_type": "display_data"
    },
    {
     "name": "stderr",
     "output_type": "stream",
     "text": [
      "Mean total reward: -214.69\n"
     ]
    },
    {
     "data": {
      "application/vnd.jupyter.widget-view+json": {
       "model_id": "b1fc96d00e614fa785cd1e169c375e16",
       "version_major": 2,
       "version_minor": 0
      },
      "text/plain": [
       "Iterating over epochs:   0%|          | 0/30 [00:00<?, ?it/s]"
      ]
     },
     "metadata": {},
     "output_type": "display_data"
    },
    {
     "name": "stderr",
     "output_type": "stream",
     "text": [
      "Mean policy network loss: -0.083237\n",
      "Mean value network loss: 38.251386\n",
      "Episode №41\n"
     ]
    },
    {
     "data": {
      "application/vnd.jupyter.widget-view+json": {
       "model_id": "e6d584e9a4da4452bb2343b23200ce50",
       "version_major": 2,
       "version_minor": 0
      },
      "text/plain": [
       "Sampling trajectories:   0%|          | 0/20 [00:00<?, ?it/s]"
      ]
     },
     "metadata": {},
     "output_type": "display_data"
    },
    {
     "name": "stderr",
     "output_type": "stream",
     "text": [
      "Mean total reward: -169.14\n"
     ]
    },
    {
     "data": {
      "application/vnd.jupyter.widget-view+json": {
       "model_id": "2881cbd16a90440c95e915982ef41698",
       "version_major": 2,
       "version_minor": 0
      },
      "text/plain": [
       "Iterating over epochs:   0%|          | 0/30 [00:00<?, ?it/s]"
      ]
     },
     "metadata": {},
     "output_type": "display_data"
    },
    {
     "name": "stderr",
     "output_type": "stream",
     "text": [
      "Mean policy network loss: 0.019057\n",
      "Mean value network loss: 10.607354\n",
      "Episode №42\n"
     ]
    },
    {
     "data": {
      "application/vnd.jupyter.widget-view+json": {
       "model_id": "d6f30d6bfd1445f4a9bd6046ae92b31b",
       "version_major": 2,
       "version_minor": 0
      },
      "text/plain": [
       "Sampling trajectories:   0%|          | 0/20 [00:00<?, ?it/s]"
      ]
     },
     "metadata": {},
     "output_type": "display_data"
    },
    {
     "name": "stderr",
     "output_type": "stream",
     "text": [
      "Mean total reward: -149.46\n"
     ]
    },
    {
     "data": {
      "application/vnd.jupyter.widget-view+json": {
       "model_id": "cf18bd97d05b43e193cfac7bdd4e4515",
       "version_major": 2,
       "version_minor": 0
      },
      "text/plain": [
       "Iterating over epochs:   0%|          | 0/30 [00:00<?, ?it/s]"
      ]
     },
     "metadata": {},
     "output_type": "display_data"
    },
    {
     "name": "stderr",
     "output_type": "stream",
     "text": [
      "Mean policy network loss: -0.016056\n",
      "Mean value network loss: 9.167275\n",
      "Episode №43\n"
     ]
    },
    {
     "data": {
      "application/vnd.jupyter.widget-view+json": {
       "model_id": "9950324f70e040aa935461f941c86cf7",
       "version_major": 2,
       "version_minor": 0
      },
      "text/plain": [
       "Sampling trajectories:   0%|          | 0/20 [00:00<?, ?it/s]"
      ]
     },
     "metadata": {},
     "output_type": "display_data"
    },
    {
     "name": "stderr",
     "output_type": "stream",
     "text": [
      "Mean total reward: -174.02\n"
     ]
    },
    {
     "data": {
      "application/vnd.jupyter.widget-view+json": {
       "model_id": "a0fc2a89d1fd46b0955790c21bb8c9ca",
       "version_major": 2,
       "version_minor": 0
      },
      "text/plain": [
       "Iterating over epochs:   0%|          | 0/30 [00:00<?, ?it/s]"
      ]
     },
     "metadata": {},
     "output_type": "display_data"
    },
    {
     "name": "stderr",
     "output_type": "stream",
     "text": [
      "Mean policy network loss: -0.017117\n",
      "Mean value network loss: 13.586980\n",
      "Episode №44\n"
     ]
    },
    {
     "data": {
      "application/vnd.jupyter.widget-view+json": {
       "model_id": "df9bef454d0d45a19c0901af94b10c47",
       "version_major": 2,
       "version_minor": 0
      },
      "text/plain": [
       "Sampling trajectories:   0%|          | 0/20 [00:00<?, ?it/s]"
      ]
     },
     "metadata": {},
     "output_type": "display_data"
    },
    {
     "name": "stderr",
     "output_type": "stream",
     "text": [
      "Mean total reward: -223.59\n"
     ]
    },
    {
     "data": {
      "application/vnd.jupyter.widget-view+json": {
       "model_id": "3430cb1fecbc4e6f89c8f4ae48b02839",
       "version_major": 2,
       "version_minor": 0
      },
      "text/plain": [
       "Iterating over epochs:   0%|          | 0/30 [00:00<?, ?it/s]"
      ]
     },
     "metadata": {},
     "output_type": "display_data"
    },
    {
     "name": "stderr",
     "output_type": "stream",
     "text": [
      "Mean policy network loss: 0.069265\n",
      "Mean value network loss: 11.272303\n",
      "Episode №45\n"
     ]
    },
    {
     "data": {
      "application/vnd.jupyter.widget-view+json": {
       "model_id": "d3d0d1dccc864776b9e445bb895fa4fb",
       "version_major": 2,
       "version_minor": 0
      },
      "text/plain": [
       "Sampling trajectories:   0%|          | 0/20 [00:00<?, ?it/s]"
      ]
     },
     "metadata": {},
     "output_type": "display_data"
    },
    {
     "name": "stderr",
     "output_type": "stream",
     "text": [
      "Mean total reward: -180.24\n"
     ]
    },
    {
     "data": {
      "application/vnd.jupyter.widget-view+json": {
       "model_id": "77f81535f54b4b2197fa70f9ba5ef3e0",
       "version_major": 2,
       "version_minor": 0
      },
      "text/plain": [
       "Iterating over epochs:   0%|          | 0/30 [00:00<?, ?it/s]"
      ]
     },
     "metadata": {},
     "output_type": "display_data"
    },
    {
     "name": "stderr",
     "output_type": "stream",
     "text": [
      "Mean policy network loss: 0.013677\n",
      "Mean value network loss: 11.561026\n",
      "Episode №46\n"
     ]
    },
    {
     "data": {
      "application/vnd.jupyter.widget-view+json": {
       "model_id": "b4ffe601a56f42a08685995685210d37",
       "version_major": 2,
       "version_minor": 0
      },
      "text/plain": [
       "Sampling trajectories:   0%|          | 0/20 [00:00<?, ?it/s]"
      ]
     },
     "metadata": {},
     "output_type": "display_data"
    },
    {
     "name": "stderr",
     "output_type": "stream",
     "text": [
      "Mean total reward: -167.55\n"
     ]
    },
    {
     "data": {
      "application/vnd.jupyter.widget-view+json": {
       "model_id": "28d2f5294431458cab604bcf27b2b0e6",
       "version_major": 2,
       "version_minor": 0
      },
      "text/plain": [
       "Iterating over epochs:   0%|          | 0/30 [00:00<?, ?it/s]"
      ]
     },
     "metadata": {},
     "output_type": "display_data"
    },
    {
     "name": "stderr",
     "output_type": "stream",
     "text": [
      "Mean policy network loss: -0.012931\n",
      "Mean value network loss: 7.768638\n",
      "Episode №47\n"
     ]
    },
    {
     "data": {
      "application/vnd.jupyter.widget-view+json": {
       "model_id": "8af8081b5a314036b2c4fa597ce7608d",
       "version_major": 2,
       "version_minor": 0
      },
      "text/plain": [
       "Sampling trajectories:   0%|          | 0/20 [00:00<?, ?it/s]"
      ]
     },
     "metadata": {},
     "output_type": "display_data"
    },
    {
     "name": "stderr",
     "output_type": "stream",
     "text": [
      "Mean total reward: -166.43\n"
     ]
    },
    {
     "data": {
      "application/vnd.jupyter.widget-view+json": {
       "model_id": "492ee154513c4a24b9daf75833e78be9",
       "version_major": 2,
       "version_minor": 0
      },
      "text/plain": [
       "Iterating over epochs:   0%|          | 0/30 [00:00<?, ?it/s]"
      ]
     },
     "metadata": {},
     "output_type": "display_data"
    },
    {
     "name": "stderr",
     "output_type": "stream",
     "text": [
      "Mean policy network loss: -0.007066\n",
      "Mean value network loss: 8.594066\n",
      "Episode №48\n"
     ]
    },
    {
     "data": {
      "application/vnd.jupyter.widget-view+json": {
       "model_id": "3380f8a7a7b941faa03c1c7b470cc5df",
       "version_major": 2,
       "version_minor": 0
      },
      "text/plain": [
       "Sampling trajectories:   0%|          | 0/20 [00:00<?, ?it/s]"
      ]
     },
     "metadata": {},
     "output_type": "display_data"
    },
    {
     "name": "stderr",
     "output_type": "stream",
     "text": [
      "Mean total reward: -167.73\n"
     ]
    },
    {
     "data": {
      "application/vnd.jupyter.widget-view+json": {
       "model_id": "7a47e317c66a4605aea5be9c916e7b8b",
       "version_major": 2,
       "version_minor": 0
      },
      "text/plain": [
       "Iterating over epochs:   0%|          | 0/30 [00:00<?, ?it/s]"
      ]
     },
     "metadata": {},
     "output_type": "display_data"
    },
    {
     "name": "stderr",
     "output_type": "stream",
     "text": [
      "Mean policy network loss: 0.072917\n",
      "Mean value network loss: 9.832961\n",
      "Episode №49\n"
     ]
    },
    {
     "data": {
      "application/vnd.jupyter.widget-view+json": {
       "model_id": "c13ca94cce2540aba9c09a41ea1a4f92",
       "version_major": 2,
       "version_minor": 0
      },
      "text/plain": [
       "Sampling trajectories:   0%|          | 0/20 [00:00<?, ?it/s]"
      ]
     },
     "metadata": {},
     "output_type": "display_data"
    },
    {
     "name": "stderr",
     "output_type": "stream",
     "text": [
      "Mean total reward: -108.95\n"
     ]
    },
    {
     "data": {
      "application/vnd.jupyter.widget-view+json": {
       "model_id": "466547dd4ac94b15aeacd9d346caa0dd",
       "version_major": 2,
       "version_minor": 0
      },
      "text/plain": [
       "Iterating over epochs:   0%|          | 0/30 [00:00<?, ?it/s]"
      ]
     },
     "metadata": {},
     "output_type": "display_data"
    },
    {
     "name": "stderr",
     "output_type": "stream",
     "text": [
      "Mean policy network loss: -0.012754\n",
      "Mean value network loss: 3.159189\n",
      "Episode №50\n"
     ]
    },
    {
     "data": {
      "application/vnd.jupyter.widget-view+json": {
       "model_id": "8954fb0de8c44cf7a44c479b3e621924",
       "version_major": 2,
       "version_minor": 0
      },
      "text/plain": [
       "Sampling trajectories:   0%|          | 0/20 [00:00<?, ?it/s]"
      ]
     },
     "metadata": {},
     "output_type": "display_data"
    },
    {
     "name": "stderr",
     "output_type": "stream",
     "text": [
      "Mean total reward: -174.28\n"
     ]
    },
    {
     "data": {
      "application/vnd.jupyter.widget-view+json": {
       "model_id": "8845d7fbe6084b98aaee69c84707b421",
       "version_major": 2,
       "version_minor": 0
      },
      "text/plain": [
       "Iterating over epochs:   0%|          | 0/30 [00:00<?, ?it/s]"
      ]
     },
     "metadata": {},
     "output_type": "display_data"
    },
    {
     "name": "stderr",
     "output_type": "stream",
     "text": [
      "Mean policy network loss: 0.064704\n",
      "Mean value network loss: 7.149060\n"
     ]
    }
   ],
   "source": [
    "bellman_policy_network_losses, bellman_value_network_losses, bellman_history = trainer.train(\n",
    "    agent, env, history_file_path=\"histories/Pendulum-v1_ppo_bellman_equation.jsonl\"\n",
    ")"
   ]
  },
  {
   "cell_type": "code",
   "execution_count": 11,
   "id": "78295ec9-39b7-4cc4-a050-0ef999bf48b1",
   "metadata": {},
   "outputs": [],
   "source": [
    "agent.save(\"agents/pendulum_bellman_equation.pth\")"
   ]
  },
  {
   "cell_type": "markdown",
   "id": "e5ee7bed-df1f-4bb4-9490-9ce8a0e7b483",
   "metadata": {},
   "source": [
    "## Make plots"
   ]
  },
  {
   "cell_type": "code",
   "execution_count": 15,
   "id": "02aff47f-6b82-46b2-af81-708e59a09f86",
   "metadata": {},
   "outputs": [
    {
     "data": {
      "text/plain": [
       "<matplotlib.legend.Legend at 0x74afc97db2b0>"
      ]
     },
     "execution_count": 15,
     "metadata": {},
     "output_type": "execute_result"
    },
    {
     "data": {
      "image/png": "[encoded data removed]",
      "text/plain": [
       "<Figure size 640x480 with 1 Axes>"
      ]
     },
     "metadata": {},
     "output_type": "display_data"
    }
   ],
   "source": [
    "plt.plot(returns_policy_network_losses, label=\"returns\")\n",
    "plt.plot(bellman_policy_network_losses, label=\"bellman equation\")\n",
    "plt.legend()"
   ]
  },
  {
   "cell_type": "code",
   "execution_count": 16,
   "id": "7b155918-fa1d-447c-9440-812533952fa1",
   "metadata": {},
   "outputs": [
    {
     "data": {
      "text/plain": [
       "<matplotlib.legend.Legend at 0x74afc892b430>"
      ]
     },
     "execution_count": 16,
     "metadata": {},
     "output_type": "execute_result"
    },
    {
     "data": {
      "image/png": "[encoded data removed]",
      "text/plain": [
       "<Figure size 640x480 with 1 Axes>"
      ]
     },
     "metadata": {},
     "output_type": "display_data"
    }
   ],
   "source": [
    "plt.plot(returns_value_network_losses, label=\"returns\")\n",
    "plt.plot(bellman_value_network_losses, label=\"bellman equation\")\n",
    "plt.legend()"
   ]
  },
  {
   "cell_type": "code",
   "execution_count": 17,
   "id": "35e36693-1945-4c63-9f96-fadf105a096b",
   "metadata": {},
   "outputs": [
    {
     "data": {
      "text/plain": [
       "<matplotlib.legend.Legend at 0x74afc881e2f0>"
      ]
     },
     "execution_count": 17,
     "metadata": {},
     "output_type": "execute_result"
    },
    {
     "data": {
      "image/png": "[encoded data removed]",
      "text/plain": [
       "<Figure size 640x480 with 1 Axes>"
      ]
     },
     "metadata": {},
     "output_type": "display_data"
    }
   ],
   "source": [
    "plt.plot([sum(trajectory[\"rewards\"]) for trajectory in returns_history], label=\"returns\")\n",
    "plt.plot([sum(trajectory[\"rewards\"]) for trajectory in bellman_history], label=\"bellman equation\")\n",
    "plt.legend()"
   ]
  },
  {
   "cell_type": "markdown",
   "id": "2699228f-9eb2-4cbb-a3df-77bad0023503",
   "metadata": {},
   "source": [
    "# Continuous LunarLander"
   ]
  },
  {
   "cell_type": "code",
   "execution_count": 18,
   "id": "76ab291f-2b6d-4a38-84ce-a3e48d89d9ef",
   "metadata": {},
   "outputs": [
    {
     "data": {
      "text/plain": [
       "(8, 2)"
      ]
     },
     "execution_count": 18,
     "metadata": {},
     "output_type": "execute_result"
    }
   ],
   "source": [
    "env = gym.make(\"LunarLander-v2\", continuous=True)\n",
    "env.observation_space.shape[0], env.action_space.shape[0]"
   ]
  },
  {
   "cell_type": "code",
   "execution_count": 19,
   "id": "a8a1cd65-bfea-4807-a347-2d44daa8e719",
   "metadata": {},
   "outputs": [],
   "source": [
    "agent = ContinuousDistributionAgent(\n",
    "    Network([env.observation_space.shape[0], 128, 128, env.action_space.shape[0] * 2]),\n",
    "    min_action=torch.tensor([-1.0, -1.0]),\n",
    "    max_action=torch.tensor([1.0, 1.0]),\n",
    ")"
   ]
  },
  {
   "cell_type": "code",
   "execution_count": 21,
   "id": "a48787a8-a3fb-4183-bedb-c938c1a9f5e8",
   "metadata": {},
   "outputs": [],
   "source": [
    "trainer = BellmanEquationBasedPPOTrainer(\n",
    "    n_episodes=50,\n",
    "    n_trajectories_per_episode=20,\n",
    "    n_epochs_per_episode=30,\n",
    "    epsilon=0.2,\n",
    "    policy_network_lr=1e-4,\n",
    "    value_network_lr=5e-4,\n",
    "    batch_size=32,\n",
    "    gamma=0.99,\n",
    "    value_network_hidden_sizes=[env.observation_space.shape[0], 128, 128, 1],\n",
    "    max_trajectory_length=1000,\n",
    ")"
   ]
  },
  {
   "cell_type": "code",
   "execution_count": 22,
   "id": "04e38a06-5eb0-4473-ae61-048e90f18232",
   "metadata": {
    "scrolled": true
   },
   "outputs": [
    {
     "name": "stderr",
     "output_type": "stream",
     "text": [
      "Layer Sequential(\n",
      "  (0): Linear(in_features=8, out_features=128, bias=True)\n",
      "  (1): ReLU()\n",
      "  (2): Linear(in_features=128, out_features=128, bias=True)\n",
      "  (3): ReLU()\n",
      "  (4): Linear(in_features=128, out_features=4, bias=True)\n",
      ") doesn't have reset_parameters method\n",
      "Layer ReLU() doesn't have reset_parameters method\n",
      "Layer ReLU() doesn't have reset_parameters method\n",
      "Episode №1\n"
     ]
    },
    {
     "data": {
      "application/vnd.jupyter.widget-view+json": {
       "model_id": "02c22da4180f45619ab546f464f6acbe",
       "version_major": 2,
       "version_minor": 0
      },
      "text/plain": [
       "Sampling trajectories:   0%|          | 0/20 [00:00<?, ?it/s]"
      ]
     },
     "metadata": {},
     "output_type": "display_data"
    },
    {
     "name": "stderr",
     "output_type": "stream",
     "text": [
      "Mean total reward: -282.45\n"
     ]
    },
    {
     "data": {
      "application/vnd.jupyter.widget-view+json": {
       "model_id": "07ad742c6ba0401cbd9c3ca63a12630f",
       "version_major": 2,
       "version_minor": 0
      },
      "text/plain": [
       "Iterating over epochs:   0%|          | 0/30 [00:00<?, ?it/s]"
      ]
     },
     "metadata": {},
     "output_type": "display_data"
    },
    {
     "name": "stderr",
     "output_type": "stream",
     "text": [
      "Mean policy network loss: -0.015970\n",
      "Mean value network loss: 79.538258\n",
      "Episode №2\n"
     ]
    },
    {
     "data": {
      "application/vnd.jupyter.widget-view+json": {
       "model_id": "bcc9a46b5d44444bb38712e37de9c244",
       "version_major": 2,
       "version_minor": 0
      },
      "text/plain": [
       "Sampling trajectories:   0%|          | 0/20 [00:00<?, ?it/s]"
      ]
     },
     "metadata": {},
     "output_type": "display_data"
    },
    {
     "name": "stderr",
     "output_type": "stream",
     "text": [
      "Mean total reward: -171.21\n"
     ]
    },
    {
     "data": {
      "application/vnd.jupyter.widget-view+json": {
       "model_id": "dca01b75df4049c69ebca05893609c33",
       "version_major": 2,
       "version_minor": 0
      },
      "text/plain": [
       "Iterating over epochs:   0%|          | 0/30 [00:00<?, ?it/s]"
      ]
     },
     "metadata": {},
     "output_type": "display_data"
    },
    {
     "name": "stderr",
     "output_type": "stream",
     "text": [
      "Mean policy network loss: -0.253748\n",
      "Mean value network loss: 64.618055\n",
      "Episode №3\n"
     ]
    },
    {
     "data": {
      "application/vnd.jupyter.widget-view+json": {
       "model_id": "b2303975066d4c68bbd9ea50ec8bf623",
       "version_major": 2,
       "version_minor": 0
      },
      "text/plain": [
       "Sampling trajectories:   0%|          | 0/20 [00:00<?, ?it/s]"
      ]
     },
     "metadata": {},
     "output_type": "display_data"
    },
    {
     "name": "stderr",
     "output_type": "stream",
     "text": [
      "Mean total reward: -91.85\n"
     ]
    },
    {
     "data": {
      "application/vnd.jupyter.widget-view+json": {
       "model_id": "3cf5bcf6f5414b3abb67227bf69edb69",
       "version_major": 2,
       "version_minor": 0
      },
      "text/plain": [
       "Iterating over epochs:   0%|          | 0/30 [00:00<?, ?it/s]"
      ]
     },
     "metadata": {},
     "output_type": "display_data"
    },
    {
     "name": "stderr",
     "output_type": "stream",
     "text": [
      "Mean policy network loss: -0.301371\n",
      "Mean value network loss: 33.038670\n",
      "Episode №4\n"
     ]
    },
    {
     "data": {
      "application/vnd.jupyter.widget-view+json": {
       "model_id": "f827a87471704a9eab8687d111727711",
       "version_major": 2,
       "version_minor": 0
      },
      "text/plain": [
       "Sampling trajectories:   0%|          | 0/20 [00:00<?, ?it/s]"
      ]
     },
     "metadata": {},
     "output_type": "display_data"
    },
    {
     "name": "stderr",
     "output_type": "stream",
     "text": [
      "Mean total reward: -25.88\n"
     ]
    },
    {
     "data": {
      "application/vnd.jupyter.widget-view+json": {
       "model_id": "11d35f44ff1344578cfa7d23ddaf17f0",
       "version_major": 2,
       "version_minor": 0
      },
      "text/plain": [
       "Iterating over epochs:   0%|          | 0/30 [00:00<?, ?it/s]"
      ]
     },
     "metadata": {},
     "output_type": "display_data"
    },
    {
     "name": "stderr",
     "output_type": "stream",
     "text": [
      "Mean policy network loss: -0.284501\n",
      "Mean value network loss: 16.074724\n",
      "Episode №5\n"
     ]
    },
    {
     "data": {
      "application/vnd.jupyter.widget-view+json": {
       "model_id": "075b4db128ce4534a3ba7340576c4e2e",
       "version_major": 2,
       "version_minor": 0
      },
      "text/plain": [
       "Sampling trajectories:   0%|          | 0/20 [00:00<?, ?it/s]"
      ]
     },
     "metadata": {},
     "output_type": "display_data"
    },
    {
     "name": "stderr",
     "output_type": "stream",
     "text": [
      "Mean total reward: -22.97\n"
     ]
    },
    {
     "data": {
      "application/vnd.jupyter.widget-view+json": {
       "model_id": "80dece79970649749b730cc02fc50ab0",
       "version_major": 2,
       "version_minor": 0
      },
      "text/plain": [
       "Iterating over epochs:   0%|          | 0/30 [00:00<?, ?it/s]"
      ]
     },
     "metadata": {},
     "output_type": "display_data"
    },
    {
     "name": "stderr",
     "output_type": "stream",
     "text": [
      "Mean policy network loss: -0.189560\n",
      "Mean value network loss: 10.610993\n",
      "Episode №6\n"
     ]
    },
    {
     "data": {
      "application/vnd.jupyter.widget-view+json": {
       "model_id": "8009fbd0bdce40a29ecde1d6a67dc9d8",
       "version_major": 2,
       "version_minor": 0
      },
      "text/plain": [
       "Sampling trajectories:   0%|          | 0/20 [00:00<?, ?it/s]"
      ]
     },
     "metadata": {},
     "output_type": "display_data"
    },
    {
     "name": "stderr",
     "output_type": "stream",
     "text": [
      "Mean total reward: 11.93\n"
     ]
    },
    {
     "data": {
      "application/vnd.jupyter.widget-view+json": {
       "model_id": "1c7c4aa62dc04d88a169afb914cdaa4b",
       "version_major": 2,
       "version_minor": 0
      },
      "text/plain": [
       "Iterating over epochs:   0%|          | 0/30 [00:00<?, ?it/s]"
      ]
     },
     "metadata": {},
     "output_type": "display_data"
    },
    {
     "name": "stderr",
     "output_type": "stream",
     "text": [
      "Mean policy network loss: -0.130266\n",
      "Mean value network loss: 4.246864\n",
      "Episode №7\n"
     ]
    },
    {
     "data": {
      "application/vnd.jupyter.widget-view+json": {
       "model_id": "57660014142e498dad41a9cfe1df1b21",
       "version_major": 2,
       "version_minor": 0
      },
      "text/plain": [
       "Sampling trajectories:   0%|          | 0/20 [00:00<?, ?it/s]"
      ]
     },
     "metadata": {},
     "output_type": "display_data"
    },
    {
     "name": "stderr",
     "output_type": "stream",
     "text": [
      "Mean total reward: 11.96\n"
     ]
    },
    {
     "data": {
      "application/vnd.jupyter.widget-view+json": {
       "model_id": "d3fccfff7be24b43bb90b2fd57ff0432",
       "version_major": 2,
       "version_minor": 0
      },
      "text/plain": [
       "Iterating over epochs:   0%|          | 0/30 [00:00<?, ?it/s]"
      ]
     },
     "metadata": {},
     "output_type": "display_data"
    },
    {
     "name": "stderr",
     "output_type": "stream",
     "text": [
      "Mean policy network loss: -0.104951\n",
      "Mean value network loss: 6.426275\n",
      "Episode №8\n"
     ]
    },
    {
     "data": {
      "application/vnd.jupyter.widget-view+json": {
       "model_id": "0970a1e99200426db79e33e9d1c9d933",
       "version_major": 2,
       "version_minor": 0
      },
      "text/plain": [
       "Sampling trajectories:   0%|          | 0/20 [00:00<?, ?it/s]"
      ]
     },
     "metadata": {},
     "output_type": "display_data"
    },
    {
     "name": "stderr",
     "output_type": "stream",
     "text": [
      "Mean total reward: 63.17\n"
     ]
    },
    {
     "data": {
      "application/vnd.jupyter.widget-view+json": {
       "model_id": "073fa71e3b6b4755932e938c3a8ca7c8",
       "version_major": 2,
       "version_minor": 0
      },
      "text/plain": [
       "Iterating over epochs:   0%|          | 0/30 [00:00<?, ?it/s]"
      ]
     },
     "metadata": {},
     "output_type": "display_data"
    },
    {
     "name": "stderr",
     "output_type": "stream",
     "text": [
      "Mean policy network loss: -0.060097\n",
      "Mean value network loss: 1.789369\n",
      "Episode №9\n"
     ]
    },
    {
     "data": {
      "application/vnd.jupyter.widget-view+json": {
       "model_id": "e79640a17f4941ea875c0b27aa1e1b0b",
       "version_major": 2,
       "version_minor": 0
      },
      "text/plain": [
       "Sampling trajectories:   0%|          | 0/20 [00:00<?, ?it/s]"
      ]
     },
     "metadata": {},
     "output_type": "display_data"
    },
    {
     "name": "stderr",
     "output_type": "stream",
     "text": [
      "Mean total reward: 65.83\n"
     ]
    },
    {
     "data": {
      "application/vnd.jupyter.widget-view+json": {
       "model_id": "c3aa1d33f75e4ca998930c028b7f74f7",
       "version_major": 2,
       "version_minor": 0
      },
      "text/plain": [
       "Iterating over epochs:   0%|          | 0/30 [00:00<?, ?it/s]"
      ]
     },
     "metadata": {},
     "output_type": "display_data"
    },
    {
     "name": "stderr",
     "output_type": "stream",
     "text": [
      "Mean policy network loss: -0.051641\n",
      "Mean value network loss: 2.536988\n",
      "Episode №10\n"
     ]
    },
    {
     "data": {
      "application/vnd.jupyter.widget-view+json": {
       "model_id": "8c9a158cd4ed409590817f7de08b1909",
       "version_major": 2,
       "version_minor": 0
      },
      "text/plain": [
       "Sampling trajectories:   0%|          | 0/20 [00:00<?, ?it/s]"
      ]
     },
     "metadata": {},
     "output_type": "display_data"
    },
    {
     "name": "stderr",
     "output_type": "stream",
     "text": [
      "Mean total reward: 86.28\n"
     ]
    },
    {
     "data": {
      "application/vnd.jupyter.widget-view+json": {
       "model_id": "bd0c06a89c7f435f9f124a0ee7edb9fd",
       "version_major": 2,
       "version_minor": 0
      },
      "text/plain": [
       "Iterating over epochs:   0%|          | 0/30 [00:00<?, ?it/s]"
      ]
     },
     "metadata": {},
     "output_type": "display_data"
    },
    {
     "name": "stderr",
     "output_type": "stream",
     "text": [
      "Mean policy network loss: -0.041515\n",
      "Mean value network loss: 3.893385\n",
      "Episode №11\n"
     ]
    },
    {
     "data": {
      "application/vnd.jupyter.widget-view+json": {
       "model_id": "e263b1e1d8f246bc80a95379747c86e9",
       "version_major": 2,
       "version_minor": 0
      },
      "text/plain": [
       "Sampling trajectories:   0%|          | 0/20 [00:00<?, ?it/s]"
      ]
     },
     "metadata": {},
     "output_type": "display_data"
    },
    {
     "name": "stderr",
     "output_type": "stream",
     "text": [
      "Mean total reward: 105.89\n"
     ]
    },
    {
     "data": {
      "application/vnd.jupyter.widget-view+json": {
       "model_id": "763881f9348a4a19943d32c17e01df51",
       "version_major": 2,
       "version_minor": 0
      },
      "text/plain": [
       "Iterating over epochs:   0%|          | 0/30 [00:00<?, ?it/s]"
      ]
     },
     "metadata": {},
     "output_type": "display_data"
    },
    {
     "name": "stderr",
     "output_type": "stream",
     "text": [
      "Mean policy network loss: -0.042803\n",
      "Mean value network loss: 2.700697\n",
      "Episode №12\n"
     ]
    },
    {
     "data": {
      "application/vnd.jupyter.widget-view+json": {
       "model_id": "e1b8a7847eec4787a69fbbda9578aa41",
       "version_major": 2,
       "version_minor": 0
      },
      "text/plain": [
       "Sampling trajectories:   0%|          | 0/20 [00:00<?, ?it/s]"
      ]
     },
     "metadata": {},
     "output_type": "display_data"
    },
    {
     "name": "stderr",
     "output_type": "stream",
     "text": [
      "Mean total reward: 109.98\n"
     ]
    },
    {
     "data": {
      "application/vnd.jupyter.widget-view+json": {
       "model_id": "386985afd609458793f4c61595349c19",
       "version_major": 2,
       "version_minor": 0
      },
      "text/plain": [
       "Iterating over epochs:   0%|          | 0/30 [00:00<?, ?it/s]"
      ]
     },
     "metadata": {},
     "output_type": "display_data"
    },
    {
     "name": "stderr",
     "output_type": "stream",
     "text": [
      "Mean policy network loss: -0.024484\n",
      "Mean value network loss: 0.660810\n",
      "Episode №13\n"
     ]
    },
    {
     "data": {
      "application/vnd.jupyter.widget-view+json": {
       "model_id": "100d3262bd1340f197e24adcaa50f0da",
       "version_major": 2,
       "version_minor": 0
      },
      "text/plain": [
       "Sampling trajectories:   0%|          | 0/20 [00:00<?, ?it/s]"
      ]
     },
     "metadata": {},
     "output_type": "display_data"
    },
    {
     "name": "stderr",
     "output_type": "stream",
     "text": [
      "Mean total reward: 126.94\n"
     ]
    },
    {
     "data": {
      "application/vnd.jupyter.widget-view+json": {
       "model_id": "21ff223bbf72458bbaedb080d9138550",
       "version_major": 2,
       "version_minor": 0
      },
      "text/plain": [
       "Iterating over epochs:   0%|          | 0/30 [00:00<?, ?it/s]"
      ]
     },
     "metadata": {},
     "output_type": "display_data"
    },
    {
     "name": "stderr",
     "output_type": "stream",
     "text": [
      "Mean policy network loss: -0.025584\n",
      "Mean value network loss: 0.901530\n",
      "Episode №14\n"
     ]
    },
    {
     "data": {
      "application/vnd.jupyter.widget-view+json": {
       "model_id": "1a68156d80284250b5362b567f69d65c",
       "version_major": 2,
       "version_minor": 0
      },
      "text/plain": [
       "Sampling trajectories:   0%|          | 0/20 [00:00<?, ?it/s]"
      ]
     },
     "metadata": {},
     "output_type": "display_data"
    },
    {
     "name": "stderr",
     "output_type": "stream",
     "text": [
      "Mean total reward: 131.29\n"
     ]
    },
    {
     "data": {
      "application/vnd.jupyter.widget-view+json": {
       "model_id": "263ae2134cf242adb9976dd83917069b",
       "version_major": 2,
       "version_minor": 0
      },
      "text/plain": [
       "Iterating over epochs:   0%|          | 0/30 [00:00<?, ?it/s]"
      ]
     },
     "metadata": {},
     "output_type": "display_data"
    },
    {
     "name": "stderr",
     "output_type": "stream",
     "text": [
      "Mean policy network loss: -0.017210\n",
      "Mean value network loss: 3.831987\n",
      "Episode №15\n"
     ]
    },
    {
     "data": {
      "application/vnd.jupyter.widget-view+json": {
       "model_id": "9671f3f01de7469d917bd667e710c166",
       "version_major": 2,
       "version_minor": 0
      },
      "text/plain": [
       "Sampling trajectories:   0%|          | 0/20 [00:00<?, ?it/s]"
      ]
     },
     "metadata": {},
     "output_type": "display_data"
    },
    {
     "name": "stderr",
     "output_type": "stream",
     "text": [
      "Mean total reward: 127.27\n"
     ]
    },
    {
     "data": {
      "application/vnd.jupyter.widget-view+json": {
       "model_id": "e3ea0667c31244afaf1f8db4415541c9",
       "version_major": 2,
       "version_minor": 0
      },
      "text/plain": [
       "Iterating over epochs:   0%|          | 0/30 [00:00<?, ?it/s]"
      ]
     },
     "metadata": {},
     "output_type": "display_data"
    },
    {
     "name": "stderr",
     "output_type": "stream",
     "text": [
      "Mean policy network loss: -0.016134\n",
      "Mean value network loss: 4.819639\n",
      "Episode №16\n"
     ]
    },
    {
     "data": {
      "application/vnd.jupyter.widget-view+json": {
       "model_id": "4a20ffd1418f4ce886ff4b8504baf785",
       "version_major": 2,
       "version_minor": 0
      },
      "text/plain": [
       "Sampling trajectories:   0%|          | 0/20 [00:00<?, ?it/s]"
      ]
     },
     "metadata": {},
     "output_type": "display_data"
    },
    {
     "name": "stderr",
     "output_type": "stream",
     "text": [
      "Mean total reward: 135.14\n"
     ]
    },
    {
     "data": {
      "application/vnd.jupyter.widget-view+json": {
       "model_id": "ce0ad96ab998490fa8bf046bce20ab42",
       "version_major": 2,
       "version_minor": 0
      },
      "text/plain": [
       "Iterating over epochs:   0%|          | 0/30 [00:00<?, ?it/s]"
      ]
     },
     "metadata": {},
     "output_type": "display_data"
    },
    {
     "name": "stderr",
     "output_type": "stream",
     "text": [
      "Mean policy network loss: -0.017968\n",
      "Mean value network loss: 3.413007\n",
      "Episode №17\n"
     ]
    },
    {
     "data": {
      "application/vnd.jupyter.widget-view+json": {
       "model_id": "89e5ea2e60634cf2bf88bc2d81b1dc4f",
       "version_major": 2,
       "version_minor": 0
      },
      "text/plain": [
       "Sampling trajectories:   0%|          | 0/20 [00:00<?, ?it/s]"
      ]
     },
     "metadata": {},
     "output_type": "display_data"
    },
    {
     "name": "stderr",
     "output_type": "stream",
     "text": [
      "Mean total reward: 145.16\n"
     ]
    },
    {
     "data": {
      "application/vnd.jupyter.widget-view+json": {
       "model_id": "95a53ff8735b4b4bb311884e31f2b910",
       "version_major": 2,
       "version_minor": 0
      },
      "text/plain": [
       "Iterating over epochs:   0%|          | 0/30 [00:00<?, ?it/s]"
      ]
     },
     "metadata": {},
     "output_type": "display_data"
    },
    {
     "name": "stderr",
     "output_type": "stream",
     "text": [
      "Mean policy network loss: -0.021799\n",
      "Mean value network loss: 6.021490\n",
      "Episode №18\n"
     ]
    },
    {
     "data": {
      "application/vnd.jupyter.widget-view+json": {
       "model_id": "e22a3cb6219f4830a76230c66a07bdab",
       "version_major": 2,
       "version_minor": 0
      },
      "text/plain": [
       "Sampling trajectories:   0%|          | 0/20 [00:00<?, ?it/s]"
      ]
     },
     "metadata": {},
     "output_type": "display_data"
    },
    {
     "name": "stderr",
     "output_type": "stream",
     "text": [
      "Mean total reward: 162.84\n"
     ]
    },
    {
     "data": {
      "application/vnd.jupyter.widget-view+json": {
       "model_id": "bd5566378988433ba75599064266493a",
       "version_major": 2,
       "version_minor": 0
      },
      "text/plain": [
       "Iterating over epochs:   0%|          | 0/30 [00:00<?, ?it/s]"
      ]
     },
     "metadata": {},
     "output_type": "display_data"
    },
    {
     "name": "stderr",
     "output_type": "stream",
     "text": [
      "Mean policy network loss: -0.035123\n",
      "Mean value network loss: 9.096028\n",
      "Episode №19\n"
     ]
    },
    {
     "data": {
      "application/vnd.jupyter.widget-view+json": {
       "model_id": "9f35e72387854125948efb3ef05c162f",
       "version_major": 2,
       "version_minor": 0
      },
      "text/plain": [
       "Sampling trajectories:   0%|          | 0/20 [00:00<?, ?it/s]"
      ]
     },
     "metadata": {},
     "output_type": "display_data"
    },
    {
     "name": "stderr",
     "output_type": "stream",
     "text": [
      "Mean total reward: 163.97\n"
     ]
    },
    {
     "data": {
      "application/vnd.jupyter.widget-view+json": {
       "model_id": "852e59be9b774b0b8c4f48697bbbf855",
       "version_major": 2,
       "version_minor": 0
      },
      "text/plain": [
       "Iterating over epochs:   0%|          | 0/30 [00:00<?, ?it/s]"
      ]
     },
     "metadata": {},
     "output_type": "display_data"
    },
    {
     "name": "stderr",
     "output_type": "stream",
     "text": [
      "Mean policy network loss: -0.017162\n",
      "Mean value network loss: 9.308729\n",
      "Episode №20\n"
     ]
    },
    {
     "data": {
      "application/vnd.jupyter.widget-view+json": {
       "model_id": "c1079fd95bcc41bfa2b0adc665a766c9",
       "version_major": 2,
       "version_minor": 0
      },
      "text/plain": [
       "Sampling trajectories:   0%|          | 0/20 [00:00<?, ?it/s]"
      ]
     },
     "metadata": {},
     "output_type": "display_data"
    },
    {
     "name": "stderr",
     "output_type": "stream",
     "text": [
      "Mean total reward: 207.40\n"
     ]
    },
    {
     "data": {
      "application/vnd.jupyter.widget-view+json": {
       "model_id": "da854420cbba4ab8b8af7cd03c024175",
       "version_major": 2,
       "version_minor": 0
      },
      "text/plain": [
       "Iterating over epochs:   0%|          | 0/30 [00:00<?, ?it/s]"
      ]
     },
     "metadata": {},
     "output_type": "display_data"
    },
    {
     "name": "stderr",
     "output_type": "stream",
     "text": [
      "Mean policy network loss: -0.039638\n",
      "Mean value network loss: 9.566035\n",
      "Episode №21\n"
     ]
    },
    {
     "data": {
      "application/vnd.jupyter.widget-view+json": {
       "model_id": "15307df0107a43b68539edf205a08223",
       "version_major": 2,
       "version_minor": 0
      },
      "text/plain": [
       "Sampling trajectories:   0%|          | 0/20 [00:00<?, ?it/s]"
      ]
     },
     "metadata": {},
     "output_type": "display_data"
    },
    {
     "name": "stderr",
     "output_type": "stream",
     "text": [
      "Mean total reward: 188.04\n"
     ]
    },
    {
     "data": {
      "application/vnd.jupyter.widget-view+json": {
       "model_id": "502bf9c784c24b3bb172906f85ba9419",
       "version_major": 2,
       "version_minor": 0
      },
      "text/plain": [
       "Iterating over epochs:   0%|          | 0/30 [00:00<?, ?it/s]"
      ]
     },
     "metadata": {},
     "output_type": "display_data"
    },
    {
     "name": "stderr",
     "output_type": "stream",
     "text": [
      "Mean policy network loss: -0.021332\n",
      "Mean value network loss: 9.313460\n",
      "Episode №22\n"
     ]
    },
    {
     "data": {
      "application/vnd.jupyter.widget-view+json": {
       "model_id": "461f210d62234c4eb594574f1eb4f708",
       "version_major": 2,
       "version_minor": 0
      },
      "text/plain": [
       "Sampling trajectories:   0%|          | 0/20 [00:00<?, ?it/s]"
      ]
     },
     "metadata": {},
     "output_type": "display_data"
    },
    {
     "name": "stderr",
     "output_type": "stream",
     "text": [
      "Mean total reward: 171.43\n"
     ]
    },
    {
     "data": {
      "application/vnd.jupyter.widget-view+json": {
       "model_id": "0264637e51a14f1999aacab44fea4859",
       "version_major": 2,
       "version_minor": 0
      },
      "text/plain": [
       "Iterating over epochs:   0%|          | 0/30 [00:00<?, ?it/s]"
      ]
     },
     "metadata": {},
     "output_type": "display_data"
    },
    {
     "name": "stderr",
     "output_type": "stream",
     "text": [
      "Mean policy network loss: -0.034685\n",
      "Mean value network loss: 12.537483\n",
      "Episode №23\n"
     ]
    },
    {
     "data": {
      "application/vnd.jupyter.widget-view+json": {
       "model_id": "8c69118a32fe4e71b07257ccdfab87c3",
       "version_major": 2,
       "version_minor": 0
      },
      "text/plain": [
       "Sampling trajectories:   0%|          | 0/20 [00:00<?, ?it/s]"
      ]
     },
     "metadata": {},
     "output_type": "display_data"
    },
    {
     "name": "stderr",
     "output_type": "stream",
     "text": [
      "Mean total reward: 185.07\n"
     ]
    },
    {
     "data": {
      "application/vnd.jupyter.widget-view+json": {
       "model_id": "d2ba196e4d6c476693b3722bcf47522d",
       "version_major": 2,
       "version_minor": 0
      },
      "text/plain": [
       "Iterating over epochs:   0%|          | 0/30 [00:00<?, ?it/s]"
      ]
     },
     "metadata": {},
     "output_type": "display_data"
    },
    {
     "name": "stderr",
     "output_type": "stream",
     "text": [
      "Mean policy network loss: -0.027006\n",
      "Mean value network loss: 6.110024\n",
      "Episode №24\n"
     ]
    },
    {
     "data": {
      "application/vnd.jupyter.widget-view+json": {
       "model_id": "ea05cf19a0f548a9acd7e941cd366512",
       "version_major": 2,
       "version_minor": 0
      },
      "text/plain": [
       "Sampling trajectories:   0%|          | 0/20 [00:00<?, ?it/s]"
      ]
     },
     "metadata": {},
     "output_type": "display_data"
    },
    {
     "name": "stderr",
     "output_type": "stream",
     "text": [
      "Mean total reward: 205.05\n"
     ]
    },
    {
     "data": {
      "application/vnd.jupyter.widget-view+json": {
       "model_id": "08ed62feccbf477b9151c2ac9520c17c",
       "version_major": 2,
       "version_minor": 0
      },
      "text/plain": [
       "Iterating over epochs:   0%|          | 0/30 [00:00<?, ?it/s]"
      ]
     },
     "metadata": {},
     "output_type": "display_data"
    },
    {
     "name": "stderr",
     "output_type": "stream",
     "text": [
      "Mean policy network loss: -0.016777\n",
      "Mean value network loss: 7.013183\n",
      "Episode №25\n"
     ]
    },
    {
     "data": {
      "application/vnd.jupyter.widget-view+json": {
       "model_id": "df64c35309b04615bf6233bb98886e22",
       "version_major": 2,
       "version_minor": 0
      },
      "text/plain": [
       "Sampling trajectories:   0%|          | 0/20 [00:00<?, ?it/s]"
      ]
     },
     "metadata": {},
     "output_type": "display_data"
    },
    {
     "name": "stderr",
     "output_type": "stream",
     "text": [
      "Mean total reward: 213.35\n"
     ]
    },
    {
     "data": {
      "application/vnd.jupyter.widget-view+json": {
       "model_id": "10c52093e3504b7b8761378f0cbadcdd",
       "version_major": 2,
       "version_minor": 0
      },
      "text/plain": [
       "Iterating over epochs:   0%|          | 0/30 [00:00<?, ?it/s]"
      ]
     },
     "metadata": {},
     "output_type": "display_data"
    },
    {
     "name": "stderr",
     "output_type": "stream",
     "text": [
      "Mean policy network loss: 0.036988\n",
      "Mean value network loss: 8.379554\n",
      "Episode №26\n"
     ]
    },
    {
     "data": {
      "application/vnd.jupyter.widget-view+json": {
       "model_id": "fa5def4db14e432bbe915c1ce631de40",
       "version_major": 2,
       "version_minor": 0
      },
      "text/plain": [
       "Sampling trajectories:   0%|          | 0/20 [00:00<?, ?it/s]"
      ]
     },
     "metadata": {},
     "output_type": "display_data"
    },
    {
     "name": "stderr",
     "output_type": "stream",
     "text": [
      "Mean total reward: 206.13\n"
     ]
    },
    {
     "data": {
      "application/vnd.jupyter.widget-view+json": {
       "model_id": "755a248e7e9c4a139e270dfd42934015",
       "version_major": 2,
       "version_minor": 0
      },
      "text/plain": [
       "Iterating over epochs:   0%|          | 0/30 [00:00<?, ?it/s]"
      ]
     },
     "metadata": {},
     "output_type": "display_data"
    },
    {
     "name": "stderr",
     "output_type": "stream",
     "text": [
      "Mean policy network loss: 0.068861\n",
      "Mean value network loss: 12.584871\n",
      "Episode №27\n"
     ]
    },
    {
     "data": {
      "application/vnd.jupyter.widget-view+json": {
       "model_id": "74565557a33448518064f422bdf3878d",
       "version_major": 2,
       "version_minor": 0
      },
      "text/plain": [
       "Sampling trajectories:   0%|          | 0/20 [00:00<?, ?it/s]"
      ]
     },
     "metadata": {},
     "output_type": "display_data"
    },
    {
     "name": "stderr",
     "output_type": "stream",
     "text": [
      "Mean total reward: 206.98\n"
     ]
    },
    {
     "data": {
      "application/vnd.jupyter.widget-view+json": {
       "model_id": "634fb6dbf94442deb0e19e1881743885",
       "version_major": 2,
       "version_minor": 0
      },
      "text/plain": [
       "Iterating over epochs:   0%|          | 0/30 [00:00<?, ?it/s]"
      ]
     },
     "metadata": {},
     "output_type": "display_data"
    },
    {
     "name": "stderr",
     "output_type": "stream",
     "text": [
      "Mean policy network loss: -0.044501\n",
      "Mean value network loss: 7.799242\n",
      "Episode №28\n"
     ]
    },
    {
     "data": {
      "application/vnd.jupyter.widget-view+json": {
       "model_id": "fd04ed07a5fb40e0b7fe2878220a8bcf",
       "version_major": 2,
       "version_minor": 0
      },
      "text/plain": [
       "Sampling trajectories:   0%|          | 0/20 [00:00<?, ?it/s]"
      ]
     },
     "metadata": {},
     "output_type": "display_data"
    },
    {
     "name": "stderr",
     "output_type": "stream",
     "text": [
      "Mean total reward: 199.39\n"
     ]
    },
    {
     "data": {
      "application/vnd.jupyter.widget-view+json": {
       "model_id": "0ec411a9854645c59f1654d201a67da1",
       "version_major": 2,
       "version_minor": 0
      },
      "text/plain": [
       "Iterating over epochs:   0%|          | 0/30 [00:00<?, ?it/s]"
      ]
     },
     "metadata": {},
     "output_type": "display_data"
    },
    {
     "name": "stderr",
     "output_type": "stream",
     "text": [
      "Mean policy network loss: -0.027886\n",
      "Mean value network loss: 6.672434\n",
      "Episode №29\n"
     ]
    },
    {
     "data": {
      "application/vnd.jupyter.widget-view+json": {
       "model_id": "074fc12fcaa94a74ac046efd76b6c4d6",
       "version_major": 2,
       "version_minor": 0
      },
      "text/plain": [
       "Sampling trajectories:   0%|          | 0/20 [00:00<?, ?it/s]"
      ]
     },
     "metadata": {},
     "output_type": "display_data"
    },
    {
     "name": "stderr",
     "output_type": "stream",
     "text": [
      "Mean total reward: 197.56\n"
     ]
    },
    {
     "data": {
      "application/vnd.jupyter.widget-view+json": {
       "model_id": "211a0db7b4b5498b978cb3e508f68639",
       "version_major": 2,
       "version_minor": 0
      },
      "text/plain": [
       "Iterating over epochs:   0%|          | 0/30 [00:00<?, ?it/s]"
      ]
     },
     "metadata": {},
     "output_type": "display_data"
    },
    {
     "name": "stderr",
     "output_type": "stream",
     "text": [
      "Mean policy network loss: -0.036848\n",
      "Mean value network loss: 11.516896\n",
      "Episode №30\n"
     ]
    },
    {
     "data": {
      "application/vnd.jupyter.widget-view+json": {
       "model_id": "4b2b41dd11534cbc81c1002a232f4b7c",
       "version_major": 2,
       "version_minor": 0
      },
      "text/plain": [
       "Sampling trajectories:   0%|          | 0/20 [00:00<?, ?it/s]"
      ]
     },
     "metadata": {},
     "output_type": "display_data"
    },
    {
     "name": "stderr",
     "output_type": "stream",
     "text": [
      "Mean total reward: 177.31\n"
     ]
    },
    {
     "data": {
      "application/vnd.jupyter.widget-view+json": {
       "model_id": "1b737a93a3614b26a2df53816f9a1665",
       "version_major": 2,
       "version_minor": 0
      },
      "text/plain": [
       "Iterating over epochs:   0%|          | 0/30 [00:00<?, ?it/s]"
      ]
     },
     "metadata": {},
     "output_type": "display_data"
    },
    {
     "name": "stderr",
     "output_type": "stream",
     "text": [
      "Mean policy network loss: -0.024976\n",
      "Mean value network loss: 13.204257\n",
      "Episode №31\n"
     ]
    },
    {
     "data": {
      "application/vnd.jupyter.widget-view+json": {
       "model_id": "ae7d643e5a2a4e8f91f55884239730a6",
       "version_major": 2,
       "version_minor": 0
      },
      "text/plain": [
       "Sampling trajectories:   0%|          | 0/20 [00:00<?, ?it/s]"
      ]
     },
     "metadata": {},
     "output_type": "display_data"
    },
    {
     "name": "stderr",
     "output_type": "stream",
     "text": [
      "Mean total reward: 214.72\n"
     ]
    },
    {
     "data": {
      "application/vnd.jupyter.widget-view+json": {
       "model_id": "c89bfc130ff34a2c990a873d8d8d7e62",
       "version_major": 2,
       "version_minor": 0
      },
      "text/plain": [
       "Iterating over epochs:   0%|          | 0/30 [00:00<?, ?it/s]"
      ]
     },
     "metadata": {},
     "output_type": "display_data"
    },
    {
     "name": "stderr",
     "output_type": "stream",
     "text": [
      "Mean policy network loss: -0.015259\n",
      "Mean value network loss: 11.921721\n",
      "Episode №32\n"
     ]
    },
    {
     "data": {
      "application/vnd.jupyter.widget-view+json": {
       "model_id": "5076b5e995cd4c2e86c68d0ef0b6c7a6",
       "version_major": 2,
       "version_minor": 0
      },
      "text/plain": [
       "Sampling trajectories:   0%|          | 0/20 [00:00<?, ?it/s]"
      ]
     },
     "metadata": {},
     "output_type": "display_data"
    },
    {
     "name": "stderr",
     "output_type": "stream",
     "text": [
      "Mean total reward: 221.90\n"
     ]
    },
    {
     "data": {
      "application/vnd.jupyter.widget-view+json": {
       "model_id": "02c737516aac4af9bddbafa761eb2ea0",
       "version_major": 2,
       "version_minor": 0
      },
      "text/plain": [
       "Iterating over epochs:   0%|          | 0/30 [00:00<?, ?it/s]"
      ]
     },
     "metadata": {},
     "output_type": "display_data"
    },
    {
     "name": "stderr",
     "output_type": "stream",
     "text": [
      "Mean policy network loss: -0.030571\n",
      "Mean value network loss: 14.936172\n",
      "Episode №33\n"
     ]
    },
    {
     "data": {
      "application/vnd.jupyter.widget-view+json": {
       "model_id": "74994b552356488b83b5880a04cf3ca3",
       "version_major": 2,
       "version_minor": 0
      },
      "text/plain": [
       "Sampling trajectories:   0%|          | 0/20 [00:00<?, ?it/s]"
      ]
     },
     "metadata": {},
     "output_type": "display_data"
    },
    {
     "name": "stderr",
     "output_type": "stream",
     "text": [
      "Mean total reward: 214.42\n"
     ]
    },
    {
     "data": {
      "application/vnd.jupyter.widget-view+json": {
       "model_id": "7f485bbeb3834f35a65ba3f12c65dee2",
       "version_major": 2,
       "version_minor": 0
      },
      "text/plain": [
       "Iterating over epochs:   0%|          | 0/30 [00:00<?, ?it/s]"
      ]
     },
     "metadata": {},
     "output_type": "display_data"
    },
    {
     "name": "stderr",
     "output_type": "stream",
     "text": [
      "Mean policy network loss: -0.020050\n",
      "Mean value network loss: 16.392019\n",
      "Episode №34\n"
     ]
    },
    {
     "data": {
      "application/vnd.jupyter.widget-view+json": {
       "model_id": "e6d02d81f5774fb0ac0f4565e5659651",
       "version_major": 2,
       "version_minor": 0
      },
      "text/plain": [
       "Sampling trajectories:   0%|          | 0/20 [00:00<?, ?it/s]"
      ]
     },
     "metadata": {},
     "output_type": "display_data"
    },
    {
     "name": "stderr",
     "output_type": "stream",
     "text": [
      "Mean total reward: 202.61\n"
     ]
    },
    {
     "data": {
      "application/vnd.jupyter.widget-view+json": {
       "model_id": "7960963c0b104448a4cde7cfb8c6beae",
       "version_major": 2,
       "version_minor": 0
      },
      "text/plain": [
       "Iterating over epochs:   0%|          | 0/30 [00:00<?, ?it/s]"
      ]
     },
     "metadata": {},
     "output_type": "display_data"
    },
    {
     "name": "stderr",
     "output_type": "stream",
     "text": [
      "Mean policy network loss: -0.031529\n",
      "Mean value network loss: 9.095094\n",
      "Episode №35\n"
     ]
    },
    {
     "data": {
      "application/vnd.jupyter.widget-view+json": {
       "model_id": "f7efdf0ded0d45e4bb0099de42fffad7",
       "version_major": 2,
       "version_minor": 0
      },
      "text/plain": [
       "Sampling trajectories:   0%|          | 0/20 [00:00<?, ?it/s]"
      ]
     },
     "metadata": {},
     "output_type": "display_data"
    },
    {
     "name": "stderr",
     "output_type": "stream",
     "text": [
      "Mean total reward: 197.74\n"
     ]
    },
    {
     "data": {
      "application/vnd.jupyter.widget-view+json": {
       "model_id": "d5951841801b4261bd6c55a62bdf4353",
       "version_major": 2,
       "version_minor": 0
      },
      "text/plain": [
       "Iterating over epochs:   0%|          | 0/30 [00:00<?, ?it/s]"
      ]
     },
     "metadata": {},
     "output_type": "display_data"
    },
    {
     "name": "stderr",
     "output_type": "stream",
     "text": [
      "Mean policy network loss: -0.043121\n",
      "Mean value network loss: 6.125687\n",
      "Episode №36\n"
     ]
    },
    {
     "data": {
      "application/vnd.jupyter.widget-view+json": {
       "model_id": "5a86d918983b49749511f72a6c15a9d9",
       "version_major": 2,
       "version_minor": 0
      },
      "text/plain": [
       "Sampling trajectories:   0%|          | 0/20 [00:00<?, ?it/s]"
      ]
     },
     "metadata": {},
     "output_type": "display_data"
    },
    {
     "name": "stderr",
     "output_type": "stream",
     "text": [
      "Mean total reward: 229.81\n"
     ]
    },
    {
     "data": {
      "application/vnd.jupyter.widget-view+json": {
       "model_id": "33682db2cabf4f2292ea89e7eeac11f8",
       "version_major": 2,
       "version_minor": 0
      },
      "text/plain": [
       "Iterating over epochs:   0%|          | 0/30 [00:00<?, ?it/s]"
      ]
     },
     "metadata": {},
     "output_type": "display_data"
    },
    {
     "name": "stderr",
     "output_type": "stream",
     "text": [
      "Mean policy network loss: 0.001622\n",
      "Mean value network loss: 7.264028\n",
      "Episode №37\n"
     ]
    },
    {
     "data": {
      "application/vnd.jupyter.widget-view+json": {
       "model_id": "af9e2361f04d45c189821c3fcf52c559",
       "version_major": 2,
       "version_minor": 0
      },
      "text/plain": [
       "Sampling trajectories:   0%|          | 0/20 [00:00<?, ?it/s]"
      ]
     },
     "metadata": {},
     "output_type": "display_data"
    },
    {
     "name": "stderr",
     "output_type": "stream",
     "text": [
      "Mean total reward: 196.28\n"
     ]
    },
    {
     "data": {
      "application/vnd.jupyter.widget-view+json": {
       "model_id": "a01b32967ea04dfbb608d401d76f54c0",
       "version_major": 2,
       "version_minor": 0
      },
      "text/plain": [
       "Iterating over epochs:   0%|          | 0/30 [00:00<?, ?it/s]"
      ]
     },
     "metadata": {},
     "output_type": "display_data"
    },
    {
     "name": "stderr",
     "output_type": "stream",
     "text": [
      "Mean policy network loss: -0.030683\n",
      "Mean value network loss: 12.462166\n",
      "Episode №38\n"
     ]
    },
    {
     "data": {
      "application/vnd.jupyter.widget-view+json": {
       "model_id": "7777a5496c7d42f89b6b57b657b02985",
       "version_major": 2,
       "version_minor": 0
      },
      "text/plain": [
       "Sampling trajectories:   0%|          | 0/20 [00:00<?, ?it/s]"
      ]
     },
     "metadata": {},
     "output_type": "display_data"
    },
    {
     "name": "stderr",
     "output_type": "stream",
     "text": [
      "Mean total reward: 202.93\n"
     ]
    },
    {
     "data": {
      "application/vnd.jupyter.widget-view+json": {
       "model_id": "12736ca3e95c4d4c93a4609e4754678e",
       "version_major": 2,
       "version_minor": 0
      },
      "text/plain": [
       "Iterating over epochs:   0%|          | 0/30 [00:00<?, ?it/s]"
      ]
     },
     "metadata": {},
     "output_type": "display_data"
    },
    {
     "name": "stderr",
     "output_type": "stream",
     "text": [
      "Mean policy network loss: -0.041323\n",
      "Mean value network loss: 12.964755\n",
      "Episode №39\n"
     ]
    },
    {
     "data": {
      "application/vnd.jupyter.widget-view+json": {
       "model_id": "dd58a9b6ece64fafbeb80e4aed79f100",
       "version_major": 2,
       "version_minor": 0
      },
      "text/plain": [
       "Sampling trajectories:   0%|          | 0/20 [00:00<?, ?it/s]"
      ]
     },
     "metadata": {},
     "output_type": "display_data"
    },
    {
     "name": "stderr",
     "output_type": "stream",
     "text": [
      "Mean total reward: 188.59\n"
     ]
    },
    {
     "data": {
      "application/vnd.jupyter.widget-view+json": {
       "model_id": "63f4e0f3e48a4b56bc10bfb115708af6",
       "version_major": 2,
       "version_minor": 0
      },
      "text/plain": [
       "Iterating over epochs:   0%|          | 0/30 [00:00<?, ?it/s]"
      ]
     },
     "metadata": {},
     "output_type": "display_data"
    },
    {
     "name": "stderr",
     "output_type": "stream",
     "text": [
      "Mean policy network loss: -0.014159\n",
      "Mean value network loss: 7.735788\n",
      "Episode №40\n"
     ]
    },
    {
     "data": {
      "application/vnd.jupyter.widget-view+json": {
       "model_id": "5e5d30a2df6a4772afa5c7a3d04c6921",
       "version_major": 2,
       "version_minor": 0
      },
      "text/plain": [
       "Sampling trajectories:   0%|          | 0/20 [00:00<?, ?it/s]"
      ]
     },
     "metadata": {},
     "output_type": "display_data"
    },
    {
     "name": "stderr",
     "output_type": "stream",
     "text": [
      "Mean total reward: 225.91\n"
     ]
    },
    {
     "data": {
      "application/vnd.jupyter.widget-view+json": {
       "model_id": "3bc6133138ce42ea91b376d733444d11",
       "version_major": 2,
       "version_minor": 0
      },
      "text/plain": [
       "Iterating over epochs:   0%|          | 0/30 [00:00<?, ?it/s]"
      ]
     },
     "metadata": {},
     "output_type": "display_data"
    },
    {
     "name": "stderr",
     "output_type": "stream",
     "text": [
      "Mean policy network loss: -0.023833\n",
      "Mean value network loss: 15.598444\n",
      "Episode №41\n"
     ]
    },
    {
     "data": {
      "application/vnd.jupyter.widget-view+json": {
       "model_id": "86d68a14aad94b2fa0cba278208fd9b2",
       "version_major": 2,
       "version_minor": 0
      },
      "text/plain": [
       "Sampling trajectories:   0%|          | 0/20 [00:00<?, ?it/s]"
      ]
     },
     "metadata": {},
     "output_type": "display_data"
    },
    {
     "name": "stderr",
     "output_type": "stream",
     "text": [
      "Mean total reward: 225.85\n"
     ]
    },
    {
     "data": {
      "application/vnd.jupyter.widget-view+json": {
       "model_id": "88c85862b84b46519d50e2ad35e9722d",
       "version_major": 2,
       "version_minor": 0
      },
      "text/plain": [
       "Iterating over epochs:   0%|          | 0/30 [00:00<?, ?it/s]"
      ]
     },
     "metadata": {},
     "output_type": "display_data"
    },
    {
     "name": "stderr",
     "output_type": "stream",
     "text": [
      "Mean policy network loss: -0.036424\n",
      "Mean value network loss: 10.413940\n",
      "Episode №42\n"
     ]
    },
    {
     "data": {
      "application/vnd.jupyter.widget-view+json": {
       "model_id": "2074bbb84b434b209b6a7d3b5639eaba",
       "version_major": 2,
       "version_minor": 0
      },
      "text/plain": [
       "Sampling trajectories:   0%|          | 0/20 [00:00<?, ?it/s]"
      ]
     },
     "metadata": {},
     "output_type": "display_data"
    },
    {
     "name": "stderr",
     "output_type": "stream",
     "text": [
      "Mean total reward: 212.19\n"
     ]
    },
    {
     "data": {
      "application/vnd.jupyter.widget-view+json": {
       "model_id": "99c6f4a964b540ea9a85cffe87c40b68",
       "version_major": 2,
       "version_minor": 0
      },
      "text/plain": [
       "Iterating over epochs:   0%|          | 0/30 [00:00<?, ?it/s]"
      ]
     },
     "metadata": {},
     "output_type": "display_data"
    },
    {
     "name": "stderr",
     "output_type": "stream",
     "text": [
      "Mean policy network loss: -0.022176\n",
      "Mean value network loss: 8.082516\n",
      "Episode №43\n"
     ]
    },
    {
     "data": {
      "application/vnd.jupyter.widget-view+json": {
       "model_id": "f3c605107a1b4a76abf8edc2d0e35791",
       "version_major": 2,
       "version_minor": 0
      },
      "text/plain": [
       "Sampling trajectories:   0%|          | 0/20 [00:00<?, ?it/s]"
      ]
     },
     "metadata": {},
     "output_type": "display_data"
    },
    {
     "name": "stderr",
     "output_type": "stream",
     "text": [
      "Mean total reward: 232.06\n"
     ]
    },
    {
     "data": {
      "application/vnd.jupyter.widget-view+json": {
       "model_id": "d8660535348b420986d645f02cbe6895",
       "version_major": 2,
       "version_minor": 0
      },
      "text/plain": [
       "Iterating over epochs:   0%|          | 0/30 [00:00<?, ?it/s]"
      ]
     },
     "metadata": {},
     "output_type": "display_data"
    },
    {
     "name": "stderr",
     "output_type": "stream",
     "text": [
      "Mean policy network loss: -0.009263\n",
      "Mean value network loss: 9.796081\n",
      "Episode №44\n"
     ]
    },
    {
     "data": {
      "application/vnd.jupyter.widget-view+json": {
       "model_id": "caf12eedc2fe449c8f62a77d403b7b51",
       "version_major": 2,
       "version_minor": 0
      },
      "text/plain": [
       "Sampling trajectories:   0%|          | 0/20 [00:00<?, ?it/s]"
      ]
     },
     "metadata": {},
     "output_type": "display_data"
    },
    {
     "name": "stderr",
     "output_type": "stream",
     "text": [
      "Mean total reward: 232.34\n"
     ]
    },
    {
     "data": {
      "application/vnd.jupyter.widget-view+json": {
       "model_id": "399c452dd4ff4c259f830f22509f9284",
       "version_major": 2,
       "version_minor": 0
      },
      "text/plain": [
       "Iterating over epochs:   0%|          | 0/30 [00:00<?, ?it/s]"
      ]
     },
     "metadata": {},
     "output_type": "display_data"
    },
    {
     "name": "stderr",
     "output_type": "stream",
     "text": [
      "Mean policy network loss: -0.039654\n",
      "Mean value network loss: 12.601088\n",
      "Episode №45\n"
     ]
    },
    {
     "data": {
      "application/vnd.jupyter.widget-view+json": {
       "model_id": "b765c1603cec4b3daa261644e0cb6758",
       "version_major": 2,
       "version_minor": 0
      },
      "text/plain": [
       "Sampling trajectories:   0%|          | 0/20 [00:00<?, ?it/s]"
      ]
     },
     "metadata": {},
     "output_type": "display_data"
    },
    {
     "name": "stderr",
     "output_type": "stream",
     "text": [
      "Mean total reward: 227.53\n"
     ]
    },
    {
     "data": {
      "application/vnd.jupyter.widget-view+json": {
       "model_id": "16fa5486583a4644b6caf2b08dae9bb3",
       "version_major": 2,
       "version_minor": 0
      },
      "text/plain": [
       "Iterating over epochs:   0%|          | 0/30 [00:00<?, ?it/s]"
      ]
     },
     "metadata": {},
     "output_type": "display_data"
    },
    {
     "name": "stderr",
     "output_type": "stream",
     "text": [
      "Mean policy network loss: 0.000963\n",
      "Mean value network loss: 9.554073\n",
      "Episode №46\n"
     ]
    },
    {
     "data": {
      "application/vnd.jupyter.widget-view+json": {
       "model_id": "1525a60aafb44d698fe610ea7dfd9a75",
       "version_major": 2,
       "version_minor": 0
      },
      "text/plain": [
       "Sampling trajectories:   0%|          | 0/20 [00:00<?, ?it/s]"
      ]
     },
     "metadata": {},
     "output_type": "display_data"
    },
    {
     "name": "stderr",
     "output_type": "stream",
     "text": [
      "Mean total reward: 225.18\n"
     ]
    },
    {
     "data": {
      "application/vnd.jupyter.widget-view+json": {
       "model_id": "4270da589054468f9322dce28dffe8b7",
       "version_major": 2,
       "version_minor": 0
      },
      "text/plain": [
       "Iterating over epochs:   0%|          | 0/30 [00:00<?, ?it/s]"
      ]
     },
     "metadata": {},
     "output_type": "display_data"
    },
    {
     "name": "stderr",
     "output_type": "stream",
     "text": [
      "Mean policy network loss: -0.001819\n",
      "Mean value network loss: 9.204876\n",
      "Episode №47\n"
     ]
    },
    {
     "data": {
      "application/vnd.jupyter.widget-view+json": {
       "model_id": "f18315cae7684080a2090bb4c4041044",
       "version_major": 2,
       "version_minor": 0
      },
      "text/plain": [
       "Sampling trajectories:   0%|          | 0/20 [00:00<?, ?it/s]"
      ]
     },
     "metadata": {},
     "output_type": "display_data"
    },
    {
     "name": "stderr",
     "output_type": "stream",
     "text": [
      "Mean total reward: 205.25\n"
     ]
    },
    {
     "data": {
      "application/vnd.jupyter.widget-view+json": {
       "model_id": "b1ac6a2d528d42a7bfbea2f1c2c4aca2",
       "version_major": 2,
       "version_minor": 0
      },
      "text/plain": [
       "Iterating over epochs:   0%|          | 0/30 [00:00<?, ?it/s]"
      ]
     },
     "metadata": {},
     "output_type": "display_data"
    },
    {
     "name": "stderr",
     "output_type": "stream",
     "text": [
      "Mean policy network loss: -0.026217\n",
      "Mean value network loss: 7.685974\n",
      "Episode №48\n"
     ]
    },
    {
     "data": {
      "application/vnd.jupyter.widget-view+json": {
       "model_id": "04bf4ec2bd314f3b98268eef9628c90f",
       "version_major": 2,
       "version_minor": 0
      },
      "text/plain": [
       "Sampling trajectories:   0%|          | 0/20 [00:00<?, ?it/s]"
      ]
     },
     "metadata": {},
     "output_type": "display_data"
    },
    {
     "name": "stderr",
     "output_type": "stream",
     "text": [
      "Mean total reward: 215.80\n"
     ]
    },
    {
     "data": {
      "application/vnd.jupyter.widget-view+json": {
       "model_id": "8b6c92fc205c425da4df4f27f588c981",
       "version_major": 2,
       "version_minor": 0
      },
      "text/plain": [
       "Iterating over epochs:   0%|          | 0/30 [00:00<?, ?it/s]"
      ]
     },
     "metadata": {},
     "output_type": "display_data"
    },
    {
     "name": "stderr",
     "output_type": "stream",
     "text": [
      "Mean policy network loss: -0.050501\n",
      "Mean value network loss: 14.437433\n",
      "Episode №49\n"
     ]
    },
    {
     "data": {
      "application/vnd.jupyter.widget-view+json": {
       "model_id": "8d43d311e3e64da98f0ad72298b28a1c",
       "version_major": 2,
       "version_minor": 0
      },
      "text/plain": [
       "Sampling trajectories:   0%|          | 0/20 [00:00<?, ?it/s]"
      ]
     },
     "metadata": {},
     "output_type": "display_data"
    },
    {
     "name": "stderr",
     "output_type": "stream",
     "text": [
      "Mean total reward: 223.79\n"
     ]
    },
    {
     "data": {
      "application/vnd.jupyter.widget-view+json": {
       "model_id": "74584abc6ad0443da7de56c7df96de62",
       "version_major": 2,
       "version_minor": 0
      },
      "text/plain": [
       "Iterating over epochs:   0%|          | 0/30 [00:00<?, ?it/s]"
      ]
     },
     "metadata": {},
     "output_type": "display_data"
    },
    {
     "name": "stderr",
     "output_type": "stream",
     "text": [
      "Mean policy network loss: -0.031478\n",
      "Mean value network loss: 12.681067\n",
      "Episode №50\n"
     ]
    },
    {
     "data": {
      "application/vnd.jupyter.widget-view+json": {
       "model_id": "e7dd2da3a6514de8bfc3437b64e3fa2d",
       "version_major": 2,
       "version_minor": 0
      },
      "text/plain": [
       "Sampling trajectories:   0%|          | 0/20 [00:00<?, ?it/s]"
      ]
     },
     "metadata": {},
     "output_type": "display_data"
    },
    {
     "name": "stderr",
     "output_type": "stream",
     "text": [
      "Mean total reward: 225.94\n"
     ]
    },
    {
     "data": {
      "application/vnd.jupyter.widget-view+json": {
       "model_id": "2b6bb33a59c8426eb95232c36809a698",
       "version_major": 2,
       "version_minor": 0
      },
      "text/plain": [
       "Iterating over epochs:   0%|          | 0/30 [00:00<?, ?it/s]"
      ]
     },
     "metadata": {},
     "output_type": "display_data"
    },
    {
     "name": "stderr",
     "output_type": "stream",
     "text": [
      "Mean policy network loss: -0.015855\n",
      "Mean value network loss: 7.251529\n"
     ]
    }
   ],
   "source": [
    "policy_network_losses, value_network_losses, history = trainer.train(\n",
    "    agent, env, history_file_path=\"histories/ContinuousLunarLander-v2_ppo_bellman_equation.jsonl\"\n",
    ")"
   ]
  },
  {
   "cell_type": "code",
   "execution_count": 23,
   "id": "215e9a3c-4e18-4a0a-a275-bf6cab53364a",
   "metadata": {},
   "outputs": [
    {
     "data": {
      "text/plain": [
       "[<matplotlib.lines.Line2D at 0x74afbc2bcac0>]"
      ]
     },
     "execution_count": 23,
     "metadata": {},
     "output_type": "execute_result"
    },
    {
     "data": {
      "image/png": "[encoded data removed]",
      "text/plain": [
       "<Figure size 640x480 with 1 Axes>"
      ]
     },
     "metadata": {},
     "output_type": "display_data"
    }
   ],
   "source": [
    "plt.plot(policy_network_losses)"
   ]
  },
  {
   "cell_type": "code",
   "execution_count": 24,
   "id": "bc5ce36f-2744-4b66-b299-e6ac2450a9a3",
   "metadata": {},
   "outputs": [
    {
     "data": {
      "text/plain": [
       "[<matplotlib.lines.Line2D at 0x74afbcf480a0>]"
      ]
     },
     "execution_count": 24,
     "metadata": {},
     "output_type": "execute_result"
    },
    {
     "data": {
      "image/png": "[encoded data removed]",
      "text/plain": [
       "<Figure size 640x480 with 1 Axes>"
      ]
     },
     "metadata": {},
     "output_type": "display_data"
    }
   ],
   "source": [
    "plt.plot(value_network_losses)"
   ]
  },
  {
   "cell_type": "code",
   "execution_count": 25,
   "id": "07e16d2d-ed9a-4007-beb3-eafc588b63a8",
   "metadata": {},
   "outputs": [
    {
     "data": {
      "text/plain": [
       "[<matplotlib.lines.Line2D at 0x74afbc3d2410>]"
      ]
     },
     "execution_count": 25,
     "metadata": {},
     "output_type": "execute_result"
    },
    {
     "data": {
      "image/png": "[encoded data removed]",
      "text/plain": [
       "<Figure size 640x480 with 1 Axes>"
      ]
     },
     "metadata": {},
     "output_type": "display_data"
    }
   ],
   "source": [
    "plt.plot([sum(trajectory[\"rewards\"]) for trajectory in history])"
   ]
  },
  {
   "cell_type": "code",
   "execution_count": 27,
   "id": "34fa0348-c149-4563-b0b0-463e1d50f4df",
   "metadata": {},
   "outputs": [],
   "source": [
    "agent.save(\"agents/continuous_lunar_lander_bellman_equation.pth\")"
   ]
  },
  {
   "cell_type": "markdown",
   "id": "ab6df2ea-ef6a-428b-a346-6af8a8aeee01",
   "metadata": {},
   "source": [
    "# Discrete LunarLander"
   ]
  },
  {
   "cell_type": "code",
   "execution_count": 28,
   "id": "44119c33-9d53-4fb7-9000-fd3cdff233ef",
   "metadata": {},
   "outputs": [],
   "source": [
    "env = gym.make(\"LunarLander-v2\")"
   ]
  },
  {
   "cell_type": "code",
   "execution_count": 31,
   "id": "431a5610-dcb6-4374-b850-ffb6e34fa8d7",
   "metadata": {},
   "outputs": [],
   "source": [
    "agent = DiscreteDistributionAgent(\n",
    "    Network([env.observation_space.shape[0], 128, 128, env.action_space.n]),\n",
    ")"
   ]
  },
  {
   "cell_type": "code",
   "execution_count": 32,
   "id": "92b07868-6806-4f5e-b4fd-42d3149e0b95",
   "metadata": {},
   "outputs": [],
   "source": [
    "trainer = BellmanEquationBasedPPOTrainer(\n",
    "    n_episodes=50,\n",
    "    n_trajectories_per_episode=20,\n",
    "    n_epochs_per_episode=30,\n",
    "    epsilon=0.2,\n",
    "    policy_network_lr=1e-4,\n",
    "    value_network_lr=5e-4,\n",
    "    batch_size=32,\n",
    "    gamma=0.99,\n",
    "    value_network_hidden_sizes=[env.observation_space.shape[0], 128, 128, 1],\n",
    "    max_trajectory_length=1000,\n",
    ")"
   ]
  },
  {
   "cell_type": "code",
   "execution_count": 33,
   "id": "b9978e26-b897-4b75-8167-84bf32d23ae1",
   "metadata": {
    "scrolled": true
   },
   "outputs": [
    {
     "name": "stderr",
     "output_type": "stream",
     "text": [
      "Layer Sequential(\n",
      "  (0): Linear(in_features=8, out_features=128, bias=True)\n",
      "  (1): ReLU()\n",
      "  (2): Linear(in_features=128, out_features=128, bias=True)\n",
      "  (3): ReLU()\n",
      "  (4): Linear(in_features=128, out_features=4, bias=True)\n",
      ") doesn't have reset_parameters method\n",
      "Layer ReLU() doesn't have reset_parameters method\n",
      "Layer ReLU() doesn't have reset_parameters method\n",
      "Episode №1\n"
     ]
    },
    {
     "data": {
      "application/vnd.jupyter.widget-view+json": {
       "model_id": "c9842a802ef443ba81992dc14a4733de",
       "version_major": 2,
       "version_minor": 0
      },
      "text/plain": [
       "Sampling trajectories:   0%|          | 0/20 [00:00<?, ?it/s]"
      ]
     },
     "metadata": {},
     "output_type": "display_data"
    },
    {
     "name": "stderr",
     "output_type": "stream",
     "text": [
      "Mean total reward: -181.79\n"
     ]
    },
    {
     "data": {
      "application/vnd.jupyter.widget-view+json": {
       "model_id": "2fb80a35aaa44da6a487bb6bb18f1a57",
       "version_major": 2,
       "version_minor": 0
      },
      "text/plain": [
       "Iterating over epochs:   0%|          | 0/30 [00:00<?, ?it/s]"
      ]
     },
     "metadata": {},
     "output_type": "display_data"
    },
    {
     "name": "stderr",
     "output_type": "stream",
     "text": [
      "Mean policy network loss: -0.108592\n",
      "Mean value network loss: 70.027934\n",
      "Episode №2\n"
     ]
    },
    {
     "data": {
      "application/vnd.jupyter.widget-view+json": {
       "model_id": "44718750830a4c4ebddd82a40c4ab67d",
       "version_major": 2,
       "version_minor": 0
      },
      "text/plain": [
       "Sampling trajectories:   0%|          | 0/20 [00:00<?, ?it/s]"
      ]
     },
     "metadata": {},
     "output_type": "display_data"
    },
    {
     "name": "stderr",
     "output_type": "stream",
     "text": [
      "Mean total reward: -124.58\n"
     ]
    },
    {
     "data": {
      "application/vnd.jupyter.widget-view+json": {
       "model_id": "bd7f224d5da146dd8e8efd5f30212d02",
       "version_major": 2,
       "version_minor": 0
      },
      "text/plain": [
       "Iterating over epochs:   0%|          | 0/30 [00:00<?, ?it/s]"
      ]
     },
     "metadata": {},
     "output_type": "display_data"
    },
    {
     "name": "stderr",
     "output_type": "stream",
     "text": [
      "Mean policy network loss: -0.333805\n",
      "Mean value network loss: 48.240327\n",
      "Episode №3\n"
     ]
    },
    {
     "data": {
      "application/vnd.jupyter.widget-view+json": {
       "model_id": "1c9ead171721411d9bb9dc1314c41787",
       "version_major": 2,
       "version_minor": 0
      },
      "text/plain": [
       "Sampling trajectories:   0%|          | 0/20 [00:00<?, ?it/s]"
      ]
     },
     "metadata": {},
     "output_type": "display_data"
    },
    {
     "name": "stderr",
     "output_type": "stream",
     "text": [
      "Mean total reward: -109.62\n"
     ]
    },
    {
     "data": {
      "application/vnd.jupyter.widget-view+json": {
       "model_id": "a3461cdf58b2428ebf661d1c5646c71b",
       "version_major": 2,
       "version_minor": 0
      },
      "text/plain": [
       "Iterating over epochs:   0%|          | 0/30 [00:00<?, ?it/s]"
      ]
     },
     "metadata": {},
     "output_type": "display_data"
    },
    {
     "name": "stderr",
     "output_type": "stream",
     "text": [
      "Mean policy network loss: -0.322152\n",
      "Mean value network loss: 25.539653\n",
      "Episode №4\n"
     ]
    },
    {
     "data": {
      "application/vnd.jupyter.widget-view+json": {
       "model_id": "d26b9fd94dcd4da7bbee69f773a7b368",
       "version_major": 2,
       "version_minor": 0
      },
      "text/plain": [
       "Sampling trajectories:   0%|          | 0/20 [00:00<?, ?it/s]"
      ]
     },
     "metadata": {},
     "output_type": "display_data"
    },
    {
     "name": "stderr",
     "output_type": "stream",
     "text": [
      "Mean total reward: -81.15\n"
     ]
    },
    {
     "data": {
      "application/vnd.jupyter.widget-view+json": {
       "model_id": "5be15c1dd20b48fa9dcefcae3dbff670",
       "version_major": 2,
       "version_minor": 0
      },
      "text/plain": [
       "Iterating over epochs:   0%|          | 0/30 [00:00<?, ?it/s]"
      ]
     },
     "metadata": {},
     "output_type": "display_data"
    },
    {
     "name": "stderr",
     "output_type": "stream",
     "text": [
      "Mean policy network loss: -0.285189\n",
      "Mean value network loss: 25.726621\n",
      "Episode №5\n"
     ]
    },
    {
     "data": {
      "application/vnd.jupyter.widget-view+json": {
       "model_id": "f2f73955448e469e8e37f2230f515e23",
       "version_major": 2,
       "version_minor": 0
      },
      "text/plain": [
       "Sampling trajectories:   0%|          | 0/20 [00:00<?, ?it/s]"
      ]
     },
     "metadata": {},
     "output_type": "display_data"
    },
    {
     "name": "stderr",
     "output_type": "stream",
     "text": [
      "Mean total reward: -78.14\n"
     ]
    },
    {
     "data": {
      "application/vnd.jupyter.widget-view+json": {
       "model_id": "a685f06aad594cc589850455316f2aed",
       "version_major": 2,
       "version_minor": 0
      },
      "text/plain": [
       "Iterating over epochs:   0%|          | 0/30 [00:00<?, ?it/s]"
      ]
     },
     "metadata": {},
     "output_type": "display_data"
    },
    {
     "name": "stderr",
     "output_type": "stream",
     "text": [
      "Mean policy network loss: -0.240710\n",
      "Mean value network loss: 27.495628\n",
      "Episode №6\n"
     ]
    },
    {
     "data": {
      "application/vnd.jupyter.widget-view+json": {
       "model_id": "8b1b812c002344c792e0d081538912ee",
       "version_major": 2,
       "version_minor": 0
      },
      "text/plain": [
       "Sampling trajectories:   0%|          | 0/20 [00:00<?, ?it/s]"
      ]
     },
     "metadata": {},
     "output_type": "display_data"
    },
    {
     "name": "stderr",
     "output_type": "stream",
     "text": [
      "Mean total reward: -131.96\n"
     ]
    },
    {
     "data": {
      "application/vnd.jupyter.widget-view+json": {
       "model_id": "dff6ec8a3b174a368439264e7400c6b4",
       "version_major": 2,
       "version_minor": 0
      },
      "text/plain": [
       "Iterating over epochs:   0%|          | 0/30 [00:00<?, ?it/s]"
      ]
     },
     "metadata": {},
     "output_type": "display_data"
    },
    {
     "name": "stderr",
     "output_type": "stream",
     "text": [
      "Mean policy network loss: -0.205312\n",
      "Mean value network loss: 17.938910\n",
      "Episode №7\n"
     ]
    },
    {
     "data": {
      "application/vnd.jupyter.widget-view+json": {
       "model_id": "5334758eb6f34236b6824073898f4ee5",
       "version_major": 2,
       "version_minor": 0
      },
      "text/plain": [
       "Sampling trajectories:   0%|          | 0/20 [00:00<?, ?it/s]"
      ]
     },
     "metadata": {},
     "output_type": "display_data"
    },
    {
     "name": "stderr",
     "output_type": "stream",
     "text": [
      "Mean total reward: -45.39\n"
     ]
    },
    {
     "data": {
      "application/vnd.jupyter.widget-view+json": {
       "model_id": "8ed0156b6f274a0a8c864af884bcdca1",
       "version_major": 2,
       "version_minor": 0
      },
      "text/plain": [
       "Iterating over epochs:   0%|          | 0/30 [00:00<?, ?it/s]"
      ]
     },
     "metadata": {},
     "output_type": "display_data"
    },
    {
     "name": "stderr",
     "output_type": "stream",
     "text": [
      "Mean policy network loss: -0.141617\n",
      "Mean value network loss: 9.141633\n",
      "Episode №8\n"
     ]
    },
    {
     "data": {
      "application/vnd.jupyter.widget-view+json": {
       "model_id": "3c9dd89d8d984ba9b22fd2a30a1c634a",
       "version_major": 2,
       "version_minor": 0
      },
      "text/plain": [
       "Sampling trajectories:   0%|          | 0/20 [00:00<?, ?it/s]"
      ]
     },
     "metadata": {},
     "output_type": "display_data"
    },
    {
     "name": "stderr",
     "output_type": "stream",
     "text": [
      "Mean total reward: 13.75\n"
     ]
    },
    {
     "data": {
      "application/vnd.jupyter.widget-view+json": {
       "model_id": "0a2c0478581d42ba9b6d33e8c9875d8f",
       "version_major": 2,
       "version_minor": 0
      },
      "text/plain": [
       "Iterating over epochs:   0%|          | 0/30 [00:00<?, ?it/s]"
      ]
     },
     "metadata": {},
     "output_type": "display_data"
    },
    {
     "name": "stderr",
     "output_type": "stream",
     "text": [
      "Mean policy network loss: -0.084647\n",
      "Mean value network loss: 2.807901\n",
      "Episode №9\n"
     ]
    },
    {
     "data": {
      "application/vnd.jupyter.widget-view+json": {
       "model_id": "bb0d02726e064e4383f2e67fbd575878",
       "version_major": 2,
       "version_minor": 0
      },
      "text/plain": [
       "Sampling trajectories:   0%|          | 0/20 [00:00<?, ?it/s]"
      ]
     },
     "metadata": {},
     "output_type": "display_data"
    },
    {
     "name": "stderr",
     "output_type": "stream",
     "text": [
      "Mean total reward: 43.55\n"
     ]
    },
    {
     "data": {
      "application/vnd.jupyter.widget-view+json": {
       "model_id": "3c4fa5e2a6a444d9b9aee22dfaada563",
       "version_major": 2,
       "version_minor": 0
      },
      "text/plain": [
       "Iterating over epochs:   0%|          | 0/30 [00:00<?, ?it/s]"
      ]
     },
     "metadata": {},
     "output_type": "display_data"
    },
    {
     "name": "stderr",
     "output_type": "stream",
     "text": [
      "Mean policy network loss: -0.045476\n",
      "Mean value network loss: 0.720712\n",
      "Episode №10\n"
     ]
    },
    {
     "data": {
      "application/vnd.jupyter.widget-view+json": {
       "model_id": "c2f197045c484d8589c19919b427417e",
       "version_major": 2,
       "version_minor": 0
      },
      "text/plain": [
       "Sampling trajectories:   0%|          | 0/20 [00:00<?, ?it/s]"
      ]
     },
     "metadata": {},
     "output_type": "display_data"
    },
    {
     "name": "stderr",
     "output_type": "stream",
     "text": [
      "Mean total reward: 92.44\n"
     ]
    },
    {
     "data": {
      "application/vnd.jupyter.widget-view+json": {
       "model_id": "203e8eb78583480d95214f86b9d41b04",
       "version_major": 2,
       "version_minor": 0
      },
      "text/plain": [
       "Iterating over epochs:   0%|          | 0/30 [00:00<?, ?it/s]"
      ]
     },
     "metadata": {},
     "output_type": "display_data"
    },
    {
     "name": "stderr",
     "output_type": "stream",
     "text": [
      "Mean policy network loss: -0.031101\n",
      "Mean value network loss: 1.309456\n",
      "Episode №11\n"
     ]
    },
    {
     "data": {
      "application/vnd.jupyter.widget-view+json": {
       "model_id": "a3007e381c3e4f568642bb67eee995cd",
       "version_major": 2,
       "version_minor": 0
      },
      "text/plain": [
       "Sampling trajectories:   0%|          | 0/20 [00:00<?, ?it/s]"
      ]
     },
     "metadata": {},
     "output_type": "display_data"
    },
    {
     "name": "stderr",
     "output_type": "stream",
     "text": [
      "Mean total reward: 173.96\n"
     ]
    },
    {
     "data": {
      "application/vnd.jupyter.widget-view+json": {
       "model_id": "4d78b8ae65124348ac212db0c7dc7f3d",
       "version_major": 2,
       "version_minor": 0
      },
      "text/plain": [
       "Iterating over epochs:   0%|          | 0/30 [00:00<?, ?it/s]"
      ]
     },
     "metadata": {},
     "output_type": "display_data"
    },
    {
     "name": "stderr",
     "output_type": "stream",
     "text": [
      "Mean policy network loss: -0.043685\n",
      "Mean value network loss: 10.902107\n",
      "Episode №12\n"
     ]
    },
    {
     "data": {
      "application/vnd.jupyter.widget-view+json": {
       "model_id": "4c53b772306d4042a616ea863e49b9ba",
       "version_major": 2,
       "version_minor": 0
      },
      "text/plain": [
       "Sampling trajectories:   0%|          | 0/20 [00:00<?, ?it/s]"
      ]
     },
     "metadata": {},
     "output_type": "display_data"
    },
    {
     "name": "stderr",
     "output_type": "stream",
     "text": [
      "Mean total reward: 221.83\n"
     ]
    },
    {
     "data": {
      "application/vnd.jupyter.widget-view+json": {
       "model_id": "e8f3ad971aa34d6eb227c7297d082835",
       "version_major": 2,
       "version_minor": 0
      },
      "text/plain": [
       "Iterating over epochs:   0%|          | 0/30 [00:00<?, ?it/s]"
      ]
     },
     "metadata": {},
     "output_type": "display_data"
    },
    {
     "name": "stderr",
     "output_type": "stream",
     "text": [
      "Mean policy network loss: -0.043880\n",
      "Mean value network loss: 3.086511\n",
      "Episode №13\n"
     ]
    },
    {
     "data": {
      "application/vnd.jupyter.widget-view+json": {
       "model_id": "b1ac3271762f455593ef37652a7663d8",
       "version_major": 2,
       "version_minor": 0
      },
      "text/plain": [
       "Sampling trajectories:   0%|          | 0/20 [00:00<?, ?it/s]"
      ]
     },
     "metadata": {},
     "output_type": "display_data"
    },
    {
     "name": "stderr",
     "output_type": "stream",
     "text": [
      "Mean total reward: 202.46\n"
     ]
    },
    {
     "data": {
      "application/vnd.jupyter.widget-view+json": {
       "model_id": "f49daf84c58445f592e9434f05803c50",
       "version_major": 2,
       "version_minor": 0
      },
      "text/plain": [
       "Iterating over epochs:   0%|          | 0/30 [00:00<?, ?it/s]"
      ]
     },
     "metadata": {},
     "output_type": "display_data"
    },
    {
     "name": "stderr",
     "output_type": "stream",
     "text": [
      "Mean policy network loss: -0.059692\n",
      "Mean value network loss: 7.234900\n",
      "Episode №14\n"
     ]
    },
    {
     "data": {
      "application/vnd.jupyter.widget-view+json": {
       "model_id": "6f8cf3a3e0054c3ea8432ade10a051ae",
       "version_major": 2,
       "version_minor": 0
      },
      "text/plain": [
       "Sampling trajectories:   0%|          | 0/20 [00:00<?, ?it/s]"
      ]
     },
     "metadata": {},
     "output_type": "display_data"
    },
    {
     "name": "stderr",
     "output_type": "stream",
     "text": [
      "Mean total reward: 213.12\n"
     ]
    },
    {
     "data": {
      "application/vnd.jupyter.widget-view+json": {
       "model_id": "e2a4e6b5ea654e819cc04924656dfb14",
       "version_major": 2,
       "version_minor": 0
      },
      "text/plain": [
       "Iterating over epochs:   0%|          | 0/30 [00:00<?, ?it/s]"
      ]
     },
     "metadata": {},
     "output_type": "display_data"
    },
    {
     "name": "stderr",
     "output_type": "stream",
     "text": [
      "Mean policy network loss: -0.046676\n",
      "Mean value network loss: 5.689130\n",
      "Episode №15\n"
     ]
    },
    {
     "data": {
      "application/vnd.jupyter.widget-view+json": {
       "model_id": "4a8adaef1605402b957513d86e235d38",
       "version_major": 2,
       "version_minor": 0
      },
      "text/plain": [
       "Sampling trajectories:   0%|          | 0/20 [00:00<?, ?it/s]"
      ]
     },
     "metadata": {},
     "output_type": "display_data"
    },
    {
     "name": "stderr",
     "output_type": "stream",
     "text": [
      "Mean total reward: 225.90\n"
     ]
    },
    {
     "data": {
      "application/vnd.jupyter.widget-view+json": {
       "model_id": "cfe27442b1db401396ed6c7c79850b8b",
       "version_major": 2,
       "version_minor": 0
      },
      "text/plain": [
       "Iterating over epochs:   0%|          | 0/30 [00:00<?, ?it/s]"
      ]
     },
     "metadata": {},
     "output_type": "display_data"
    },
    {
     "name": "stderr",
     "output_type": "stream",
     "text": [
      "Mean policy network loss: -0.045509\n",
      "Mean value network loss: 5.138982\n",
      "Episode №16\n"
     ]
    },
    {
     "data": {
      "application/vnd.jupyter.widget-view+json": {
       "model_id": "bf7f5dcf7b4e494b8e46a336610a82a4",
       "version_major": 2,
       "version_minor": 0
      },
      "text/plain": [
       "Sampling trajectories:   0%|          | 0/20 [00:00<?, ?it/s]"
      ]
     },
     "metadata": {},
     "output_type": "display_data"
    },
    {
     "name": "stderr",
     "output_type": "stream",
     "text": [
      "Mean total reward: 184.43\n"
     ]
    },
    {
     "data": {
      "application/vnd.jupyter.widget-view+json": {
       "model_id": "3dbcf9f4f0904f359006cb7f6d79ec93",
       "version_major": 2,
       "version_minor": 0
      },
      "text/plain": [
       "Iterating over epochs:   0%|          | 0/30 [00:00<?, ?it/s]"
      ]
     },
     "metadata": {},
     "output_type": "display_data"
    },
    {
     "name": "stderr",
     "output_type": "stream",
     "text": [
      "Mean policy network loss: -0.062928\n",
      "Mean value network loss: 6.917108\n",
      "Episode №17\n"
     ]
    },
    {
     "data": {
      "application/vnd.jupyter.widget-view+json": {
       "model_id": "e5c32815c3bf4ded95a1615a4c04f824",
       "version_major": 2,
       "version_minor": 0
      },
      "text/plain": [
       "Sampling trajectories:   0%|          | 0/20 [00:00<?, ?it/s]"
      ]
     },
     "metadata": {},
     "output_type": "display_data"
    },
    {
     "name": "stderr",
     "output_type": "stream",
     "text": [
      "Mean total reward: 194.11\n"
     ]
    },
    {
     "data": {
      "application/vnd.jupyter.widget-view+json": {
       "model_id": "bdf7538d599347b49fd6577e864874bb",
       "version_major": 2,
       "version_minor": 0
      },
      "text/plain": [
       "Iterating over epochs:   0%|          | 0/30 [00:00<?, ?it/s]"
      ]
     },
     "metadata": {},
     "output_type": "display_data"
    },
    {
     "name": "stderr",
     "output_type": "stream",
     "text": [
      "Mean policy network loss: -0.078198\n",
      "Mean value network loss: 7.417821\n",
      "Episode №18\n"
     ]
    },
    {
     "data": {
      "application/vnd.jupyter.widget-view+json": {
       "model_id": "450496b295854aa3b312bae6b871e51b",
       "version_major": 2,
       "version_minor": 0
      },
      "text/plain": [
       "Sampling trajectories:   0%|          | 0/20 [00:00<?, ?it/s]"
      ]
     },
     "metadata": {},
     "output_type": "display_data"
    },
    {
     "name": "stderr",
     "output_type": "stream",
     "text": [
      "Mean total reward: 200.36\n"
     ]
    },
    {
     "data": {
      "application/vnd.jupyter.widget-view+json": {
       "model_id": "f3a06680dd454366bb4ab3731e68311e",
       "version_major": 2,
       "version_minor": 0
      },
      "text/plain": [
       "Iterating over epochs:   0%|          | 0/30 [00:00<?, ?it/s]"
      ]
     },
     "metadata": {},
     "output_type": "display_data"
    },
    {
     "name": "stderr",
     "output_type": "stream",
     "text": [
      "Mean policy network loss: -0.067278\n",
      "Mean value network loss: 8.186373\n",
      "Episode №19\n"
     ]
    },
    {
     "data": {
      "application/vnd.jupyter.widget-view+json": {
       "model_id": "5b2bed9dfd7b47699dcedf79da224508",
       "version_major": 2,
       "version_minor": 0
      },
      "text/plain": [
       "Sampling trajectories:   0%|          | 0/20 [00:00<?, ?it/s]"
      ]
     },
     "metadata": {},
     "output_type": "display_data"
    },
    {
     "name": "stderr",
     "output_type": "stream",
     "text": [
      "Mean total reward: 181.20\n"
     ]
    },
    {
     "data": {
      "application/vnd.jupyter.widget-view+json": {
       "model_id": "83df5602acc146cbbd23aeee9bea339e",
       "version_major": 2,
       "version_minor": 0
      },
      "text/plain": [
       "Iterating over epochs:   0%|          | 0/30 [00:00<?, ?it/s]"
      ]
     },
     "metadata": {},
     "output_type": "display_data"
    },
    {
     "name": "stderr",
     "output_type": "stream",
     "text": [
      "Mean policy network loss: -0.054234\n",
      "Mean value network loss: 9.590678\n",
      "Episode №20\n"
     ]
    },
    {
     "data": {
      "application/vnd.jupyter.widget-view+json": {
       "model_id": "a3a51a4ee905457fb4e81a4de74830ba",
       "version_major": 2,
       "version_minor": 0
      },
      "text/plain": [
       "Sampling trajectories:   0%|          | 0/20 [00:00<?, ?it/s]"
      ]
     },
     "metadata": {},
     "output_type": "display_data"
    },
    {
     "name": "stderr",
     "output_type": "stream",
     "text": [
      "Mean total reward: 184.18\n"
     ]
    },
    {
     "data": {
      "application/vnd.jupyter.widget-view+json": {
       "model_id": "d4e92b6153c840298832153ec3e0677a",
       "version_major": 2,
       "version_minor": 0
      },
      "text/plain": [
       "Iterating over epochs:   0%|          | 0/30 [00:00<?, ?it/s]"
      ]
     },
     "metadata": {},
     "output_type": "display_data"
    },
    {
     "name": "stderr",
     "output_type": "stream",
     "text": [
      "Mean policy network loss: -0.044616\n",
      "Mean value network loss: 7.412676\n",
      "Episode №21\n"
     ]
    },
    {
     "data": {
      "application/vnd.jupyter.widget-view+json": {
       "model_id": "e164218d5b6246f39b2971f806e20545",
       "version_major": 2,
       "version_minor": 0
      },
      "text/plain": [
       "Sampling trajectories:   0%|          | 0/20 [00:00<?, ?it/s]"
      ]
     },
     "metadata": {},
     "output_type": "display_data"
    },
    {
     "name": "stderr",
     "output_type": "stream",
     "text": [
      "Mean total reward: 163.53\n"
     ]
    },
    {
     "data": {
      "application/vnd.jupyter.widget-view+json": {
       "model_id": "8739e965f6044ebf9f47e8d0c1ba805b",
       "version_major": 2,
       "version_minor": 0
      },
      "text/plain": [
       "Iterating over epochs:   0%|          | 0/30 [00:00<?, ?it/s]"
      ]
     },
     "metadata": {},
     "output_type": "display_data"
    },
    {
     "name": "stderr",
     "output_type": "stream",
     "text": [
      "Mean policy network loss: -0.052764\n",
      "Mean value network loss: 5.680849\n",
      "Episode №22\n"
     ]
    },
    {
     "data": {
      "application/vnd.jupyter.widget-view+json": {
       "model_id": "a00865bedf1e440297a32d87c4e4442e",
       "version_major": 2,
       "version_minor": 0
      },
      "text/plain": [
       "Sampling trajectories:   0%|          | 0/20 [00:00<?, ?it/s]"
      ]
     },
     "metadata": {},
     "output_type": "display_data"
    },
    {
     "name": "stderr",
     "output_type": "stream",
     "text": [
      "Mean total reward: 185.54\n"
     ]
    },
    {
     "data": {
      "application/vnd.jupyter.widget-view+json": {
       "model_id": "96e747b6e7f04f6c8baf44bb90bd378e",
       "version_major": 2,
       "version_minor": 0
      },
      "text/plain": [
       "Iterating over epochs:   0%|          | 0/30 [00:00<?, ?it/s]"
      ]
     },
     "metadata": {},
     "output_type": "display_data"
    },
    {
     "name": "stderr",
     "output_type": "stream",
     "text": [
      "Mean policy network loss: -0.036667\n",
      "Mean value network loss: 10.563469\n",
      "Episode №23\n"
     ]
    },
    {
     "data": {
      "application/vnd.jupyter.widget-view+json": {
       "model_id": "883c109be9634519950fff0ec0ed6fbd",
       "version_major": 2,
       "version_minor": 0
      },
      "text/plain": [
       "Sampling trajectories:   0%|          | 0/20 [00:00<?, ?it/s]"
      ]
     },
     "metadata": {},
     "output_type": "display_data"
    },
    {
     "name": "stderr",
     "output_type": "stream",
     "text": [
      "Mean total reward: 172.95\n"
     ]
    },
    {
     "data": {
      "application/vnd.jupyter.widget-view+json": {
       "model_id": "c8e6379534ae435888d0f3d82ec2c05c",
       "version_major": 2,
       "version_minor": 0
      },
      "text/plain": [
       "Iterating over epochs:   0%|          | 0/30 [00:00<?, ?it/s]"
      ]
     },
     "metadata": {},
     "output_type": "display_data"
    },
    {
     "name": "stderr",
     "output_type": "stream",
     "text": [
      "Mean policy network loss: -0.042025\n",
      "Mean value network loss: 9.043431\n",
      "Episode №24\n"
     ]
    },
    {
     "data": {
      "application/vnd.jupyter.widget-view+json": {
       "model_id": "b50f47e619cf4e63a86cec623e3f4838",
       "version_major": 2,
       "version_minor": 0
      },
      "text/plain": [
       "Sampling trajectories:   0%|          | 0/20 [00:00<?, ?it/s]"
      ]
     },
     "metadata": {},
     "output_type": "display_data"
    },
    {
     "name": "stderr",
     "output_type": "stream",
     "text": [
      "Mean total reward: 182.51\n"
     ]
    },
    {
     "data": {
      "application/vnd.jupyter.widget-view+json": {
       "model_id": "e0355497ed994e43afe143db60dc368c",
       "version_major": 2,
       "version_minor": 0
      },
      "text/plain": [
       "Iterating over epochs:   0%|          | 0/30 [00:00<?, ?it/s]"
      ]
     },
     "metadata": {},
     "output_type": "display_data"
    },
    {
     "name": "stderr",
     "output_type": "stream",
     "text": [
      "Mean policy network loss: -0.051933\n",
      "Mean value network loss: 8.065029\n",
      "Episode №25\n"
     ]
    },
    {
     "data": {
      "application/vnd.jupyter.widget-view+json": {
       "model_id": "31777badec68466cb3885548eb22bd46",
       "version_major": 2,
       "version_minor": 0
      },
      "text/plain": [
       "Sampling trajectories:   0%|          | 0/20 [00:00<?, ?it/s]"
      ]
     },
     "metadata": {},
     "output_type": "display_data"
    },
    {
     "name": "stderr",
     "output_type": "stream",
     "text": [
      "Mean total reward: 170.28\n"
     ]
    },
    {
     "data": {
      "application/vnd.jupyter.widget-view+json": {
       "model_id": "d943abeaffc642ceb838b3d1beed147a",
       "version_major": 2,
       "version_minor": 0
      },
      "text/plain": [
       "Iterating over epochs:   0%|          | 0/30 [00:00<?, ?it/s]"
      ]
     },
     "metadata": {},
     "output_type": "display_data"
    },
    {
     "name": "stderr",
     "output_type": "stream",
     "text": [
      "Mean policy network loss: -0.042528\n",
      "Mean value network loss: 7.635527\n",
      "Episode №26\n"
     ]
    },
    {
     "data": {
      "application/vnd.jupyter.widget-view+json": {
       "model_id": "8aa62e07506f44179146e7cbbfc533e2",
       "version_major": 2,
       "version_minor": 0
      },
      "text/plain": [
       "Sampling trajectories:   0%|          | 0/20 [00:00<?, ?it/s]"
      ]
     },
     "metadata": {},
     "output_type": "display_data"
    },
    {
     "name": "stderr",
     "output_type": "stream",
     "text": [
      "Mean total reward: 179.13\n"
     ]
    },
    {
     "data": {
      "application/vnd.jupyter.widget-view+json": {
       "model_id": "56237af7f34e44cfa99692db16640085",
       "version_major": 2,
       "version_minor": 0
      },
      "text/plain": [
       "Iterating over epochs:   0%|          | 0/30 [00:00<?, ?it/s]"
      ]
     },
     "metadata": {},
     "output_type": "display_data"
    },
    {
     "name": "stderr",
     "output_type": "stream",
     "text": [
      "Mean policy network loss: -0.064883\n",
      "Mean value network loss: 10.488470\n",
      "Episode №27\n"
     ]
    },
    {
     "data": {
      "application/vnd.jupyter.widget-view+json": {
       "model_id": "03f3bfa9bcbc4df6a4eff178f1a60643",
       "version_major": 2,
       "version_minor": 0
      },
      "text/plain": [
       "Sampling trajectories:   0%|          | 0/20 [00:00<?, ?it/s]"
      ]
     },
     "metadata": {},
     "output_type": "display_data"
    },
    {
     "name": "stderr",
     "output_type": "stream",
     "text": [
      "Mean total reward: 198.50\n"
     ]
    },
    {
     "data": {
      "application/vnd.jupyter.widget-view+json": {
       "model_id": "2300124401dc473ba8b5fa1cf21636b6",
       "version_major": 2,
       "version_minor": 0
      },
      "text/plain": [
       "Iterating over epochs:   0%|          | 0/30 [00:00<?, ?it/s]"
      ]
     },
     "metadata": {},
     "output_type": "display_data"
    },
    {
     "name": "stderr",
     "output_type": "stream",
     "text": [
      "Mean policy network loss: -0.037353\n",
      "Mean value network loss: 9.783290\n",
      "Episode №28\n"
     ]
    },
    {
     "data": {
      "application/vnd.jupyter.widget-view+json": {
       "model_id": "b9030b33058741ad95670062659285ad",
       "version_major": 2,
       "version_minor": 0
      },
      "text/plain": [
       "Sampling trajectories:   0%|          | 0/20 [00:00<?, ?it/s]"
      ]
     },
     "metadata": {},
     "output_type": "display_data"
    },
    {
     "name": "stderr",
     "output_type": "stream",
     "text": [
      "Mean total reward: 180.02\n"
     ]
    },
    {
     "data": {
      "application/vnd.jupyter.widget-view+json": {
       "model_id": "99d40c6790374e469e66bcd2233a9169",
       "version_major": 2,
       "version_minor": 0
      },
      "text/plain": [
       "Iterating over epochs:   0%|          | 0/30 [00:00<?, ?it/s]"
      ]
     },
     "metadata": {},
     "output_type": "display_data"
    },
    {
     "name": "stderr",
     "output_type": "stream",
     "text": [
      "Mean policy network loss: -0.035034\n",
      "Mean value network loss: 10.259121\n",
      "Episode №29\n"
     ]
    },
    {
     "data": {
      "application/vnd.jupyter.widget-view+json": {
       "model_id": "55b9ab3ab1374ceab50f2103c5c08d5b",
       "version_major": 2,
       "version_minor": 0
      },
      "text/plain": [
       "Sampling trajectories:   0%|          | 0/20 [00:00<?, ?it/s]"
      ]
     },
     "metadata": {},
     "output_type": "display_data"
    },
    {
     "name": "stderr",
     "output_type": "stream",
     "text": [
      "Mean total reward: 216.01\n"
     ]
    },
    {
     "data": {
      "application/vnd.jupyter.widget-view+json": {
       "model_id": "a18b8394158243b191485a35264507ba",
       "version_major": 2,
       "version_minor": 0
      },
      "text/plain": [
       "Iterating over epochs:   0%|          | 0/30 [00:00<?, ?it/s]"
      ]
     },
     "metadata": {},
     "output_type": "display_data"
    },
    {
     "name": "stderr",
     "output_type": "stream",
     "text": [
      "Mean policy network loss: -0.036560\n",
      "Mean value network loss: 6.121402\n",
      "Episode №30\n"
     ]
    },
    {
     "data": {
      "application/vnd.jupyter.widget-view+json": {
       "model_id": "ce22bdd946634b96adf0ab7292346373",
       "version_major": 2,
       "version_minor": 0
      },
      "text/plain": [
       "Sampling trajectories:   0%|          | 0/20 [00:00<?, ?it/s]"
      ]
     },
     "metadata": {},
     "output_type": "display_data"
    },
    {
     "name": "stderr",
     "output_type": "stream",
     "text": [
      "Mean total reward: 226.39\n"
     ]
    },
    {
     "data": {
      "application/vnd.jupyter.widget-view+json": {
       "model_id": "86ae62fc64844d449c09fdd7fe7fc388",
       "version_major": 2,
       "version_minor": 0
      },
      "text/plain": [
       "Iterating over epochs:   0%|          | 0/30 [00:00<?, ?it/s]"
      ]
     },
     "metadata": {},
     "output_type": "display_data"
    },
    {
     "name": "stderr",
     "output_type": "stream",
     "text": [
      "Mean policy network loss: -0.038075\n",
      "Mean value network loss: 4.590089\n",
      "Episode №31\n"
     ]
    },
    {
     "data": {
      "application/vnd.jupyter.widget-view+json": {
       "model_id": "a4755284ccbf49028368e058f20fe620",
       "version_major": 2,
       "version_minor": 0
      },
      "text/plain": [
       "Sampling trajectories:   0%|          | 0/20 [00:00<?, ?it/s]"
      ]
     },
     "metadata": {},
     "output_type": "display_data"
    },
    {
     "name": "stderr",
     "output_type": "stream",
     "text": [
      "Mean total reward: 242.18\n"
     ]
    },
    {
     "data": {
      "application/vnd.jupyter.widget-view+json": {
       "model_id": "90909f5c680c427d9c154d5143c582ae",
       "version_major": 2,
       "version_minor": 0
      },
      "text/plain": [
       "Iterating over epochs:   0%|          | 0/30 [00:00<?, ?it/s]"
      ]
     },
     "metadata": {},
     "output_type": "display_data"
    },
    {
     "name": "stderr",
     "output_type": "stream",
     "text": [
      "Mean policy network loss: -0.031032\n",
      "Mean value network loss: 8.582599\n",
      "Episode №32\n"
     ]
    },
    {
     "data": {
      "application/vnd.jupyter.widget-view+json": {
       "model_id": "48a6e772499b49c8b289e144e2fd89a9",
       "version_major": 2,
       "version_minor": 0
      },
      "text/plain": [
       "Sampling trajectories:   0%|          | 0/20 [00:00<?, ?it/s]"
      ]
     },
     "metadata": {},
     "output_type": "display_data"
    },
    {
     "name": "stderr",
     "output_type": "stream",
     "text": [
      "Mean total reward: 209.94\n"
     ]
    },
    {
     "data": {
      "application/vnd.jupyter.widget-view+json": {
       "model_id": "386a0b32893f4129b17b22ad48edf99d",
       "version_major": 2,
       "version_minor": 0
      },
      "text/plain": [
       "Iterating over epochs:   0%|          | 0/30 [00:00<?, ?it/s]"
      ]
     },
     "metadata": {},
     "output_type": "display_data"
    },
    {
     "name": "stderr",
     "output_type": "stream",
     "text": [
      "Mean policy network loss: -0.033097\n",
      "Mean value network loss: 4.245754\n",
      "Episode №33\n"
     ]
    },
    {
     "data": {
      "application/vnd.jupyter.widget-view+json": {
       "model_id": "e14b2d9eae164365997f447c59a12c8a",
       "version_major": 2,
       "version_minor": 0
      },
      "text/plain": [
       "Sampling trajectories:   0%|          | 0/20 [00:00<?, ?it/s]"
      ]
     },
     "metadata": {},
     "output_type": "display_data"
    },
    {
     "name": "stderr",
     "output_type": "stream",
     "text": [
      "Mean total reward: 241.00\n"
     ]
    },
    {
     "data": {
      "application/vnd.jupyter.widget-view+json": {
       "model_id": "22931df3693a404d949a633db8f2425e",
       "version_major": 2,
       "version_minor": 0
      },
      "text/plain": [
       "Iterating over epochs:   0%|          | 0/30 [00:00<?, ?it/s]"
      ]
     },
     "metadata": {},
     "output_type": "display_data"
    },
    {
     "name": "stderr",
     "output_type": "stream",
     "text": [
      "Mean policy network loss: -0.027940\n",
      "Mean value network loss: 4.504931\n",
      "Episode №34\n"
     ]
    },
    {
     "data": {
      "application/vnd.jupyter.widget-view+json": {
       "model_id": "57fcb140e9494124acfba2311f359e7c",
       "version_major": 2,
       "version_minor": 0
      },
      "text/plain": [
       "Sampling trajectories:   0%|          | 0/20 [00:00<?, ?it/s]"
      ]
     },
     "metadata": {},
     "output_type": "display_data"
    },
    {
     "name": "stderr",
     "output_type": "stream",
     "text": [
      "Mean total reward: 254.81\n"
     ]
    },
    {
     "data": {
      "application/vnd.jupyter.widget-view+json": {
       "model_id": "a200e71be4ae4acf9c4b872386ebcf1b",
       "version_major": 2,
       "version_minor": 0
      },
      "text/plain": [
       "Iterating over epochs:   0%|          | 0/30 [00:00<?, ?it/s]"
      ]
     },
     "metadata": {},
     "output_type": "display_data"
    },
    {
     "name": "stderr",
     "output_type": "stream",
     "text": [
      "Mean policy network loss: -0.035350\n",
      "Mean value network loss: 6.446020\n",
      "Episode №35\n"
     ]
    },
    {
     "data": {
      "application/vnd.jupyter.widget-view+json": {
       "model_id": "e67c0923517c4215824ff67c5784c305",
       "version_major": 2,
       "version_minor": 0
      },
      "text/plain": [
       "Sampling trajectories:   0%|          | 0/20 [00:00<?, ?it/s]"
      ]
     },
     "metadata": {},
     "output_type": "display_data"
    },
    {
     "name": "stderr",
     "output_type": "stream",
     "text": [
      "Mean total reward: 260.60\n"
     ]
    },
    {
     "data": {
      "application/vnd.jupyter.widget-view+json": {
       "model_id": "25bf1cadec594dd5bb02bcda452aff32",
       "version_major": 2,
       "version_minor": 0
      },
      "text/plain": [
       "Iterating over epochs:   0%|          | 0/30 [00:00<?, ?it/s]"
      ]
     },
     "metadata": {},
     "output_type": "display_data"
    },
    {
     "name": "stderr",
     "output_type": "stream",
     "text": [
      "Mean policy network loss: -0.042784\n",
      "Mean value network loss: 4.176862\n",
      "Episode №36\n"
     ]
    },
    {
     "data": {
      "application/vnd.jupyter.widget-view+json": {
       "model_id": "6e266e3a5e8b4833ab5c078e0f98444b",
       "version_major": 2,
       "version_minor": 0
      },
      "text/plain": [
       "Sampling trajectories:   0%|          | 0/20 [00:00<?, ?it/s]"
      ]
     },
     "metadata": {},
     "output_type": "display_data"
    },
    {
     "name": "stderr",
     "output_type": "stream",
     "text": [
      "Mean total reward: 273.71\n"
     ]
    },
    {
     "data": {
      "application/vnd.jupyter.widget-view+json": {
       "model_id": "ec60719b754b45ac862e071e7ad68c88",
       "version_major": 2,
       "version_minor": 0
      },
      "text/plain": [
       "Iterating over epochs:   0%|          | 0/30 [00:00<?, ?it/s]"
      ]
     },
     "metadata": {},
     "output_type": "display_data"
    },
    {
     "name": "stderr",
     "output_type": "stream",
     "text": [
      "Mean policy network loss: -0.026494\n",
      "Mean value network loss: 4.062183\n",
      "Episode №37\n"
     ]
    },
    {
     "data": {
      "application/vnd.jupyter.widget-view+json": {
       "model_id": "817b69dcb4c9429aa2f03b9ddc4dcb8a",
       "version_major": 2,
       "version_minor": 0
      },
      "text/plain": [
       "Sampling trajectories:   0%|          | 0/20 [00:00<?, ?it/s]"
      ]
     },
     "metadata": {},
     "output_type": "display_data"
    },
    {
     "name": "stderr",
     "output_type": "stream",
     "text": [
      "Mean total reward: 275.10\n"
     ]
    },
    {
     "data": {
      "application/vnd.jupyter.widget-view+json": {
       "model_id": "066fcc8b1e5e478f97d96af51ad0361a",
       "version_major": 2,
       "version_minor": 0
      },
      "text/plain": [
       "Iterating over epochs:   0%|          | 0/30 [00:00<?, ?it/s]"
      ]
     },
     "metadata": {},
     "output_type": "display_data"
    },
    {
     "name": "stderr",
     "output_type": "stream",
     "text": [
      "Mean policy network loss: -0.031815\n",
      "Mean value network loss: 3.345973\n",
      "Episode №38\n"
     ]
    },
    {
     "data": {
      "application/vnd.jupyter.widget-view+json": {
       "model_id": "a5d73c31592e4b32947f51a664af5e66",
       "version_major": 2,
       "version_minor": 0
      },
      "text/plain": [
       "Sampling trajectories:   0%|          | 0/20 [00:00<?, ?it/s]"
      ]
     },
     "metadata": {},
     "output_type": "display_data"
    },
    {
     "name": "stderr",
     "output_type": "stream",
     "text": [
      "Mean total reward: 263.73\n"
     ]
    },
    {
     "data": {
      "application/vnd.jupyter.widget-view+json": {
       "model_id": "48a0c4bee8fb4c9fab92cff0ccf92517",
       "version_major": 2,
       "version_minor": 0
      },
      "text/plain": [
       "Iterating over epochs:   0%|          | 0/30 [00:00<?, ?it/s]"
      ]
     },
     "metadata": {},
     "output_type": "display_data"
    },
    {
     "name": "stderr",
     "output_type": "stream",
     "text": [
      "Mean policy network loss: -0.027048\n",
      "Mean value network loss: 3.134431\n",
      "Episode №39\n"
     ]
    },
    {
     "data": {
      "application/vnd.jupyter.widget-view+json": {
       "model_id": "c24d7eb481dd4d54bb3b712666ccc7b7",
       "version_major": 2,
       "version_minor": 0
      },
      "text/plain": [
       "Sampling trajectories:   0%|          | 0/20 [00:00<?, ?it/s]"
      ]
     },
     "metadata": {},
     "output_type": "display_data"
    },
    {
     "name": "stderr",
     "output_type": "stream",
     "text": [
      "Mean total reward: 261.27\n"
     ]
    },
    {
     "data": {
      "application/vnd.jupyter.widget-view+json": {
       "model_id": "3144438017154d1fa63c3ae693f3aabd",
       "version_major": 2,
       "version_minor": 0
      },
      "text/plain": [
       "Iterating over epochs:   0%|          | 0/30 [00:00<?, ?it/s]"
      ]
     },
     "metadata": {},
     "output_type": "display_data"
    },
    {
     "name": "stderr",
     "output_type": "stream",
     "text": [
      "Mean policy network loss: -0.026076\n",
      "Mean value network loss: 4.093752\n",
      "Episode №40\n"
     ]
    },
    {
     "data": {
      "application/vnd.jupyter.widget-view+json": {
       "model_id": "a45709106a2645a78410e3b4f8666424",
       "version_major": 2,
       "version_minor": 0
      },
      "text/plain": [
       "Sampling trajectories:   0%|          | 0/20 [00:00<?, ?it/s]"
      ]
     },
     "metadata": {},
     "output_type": "display_data"
    },
    {
     "name": "stderr",
     "output_type": "stream",
     "text": [
      "Mean total reward: 261.64\n"
     ]
    },
    {
     "data": {
      "application/vnd.jupyter.widget-view+json": {
       "model_id": "ec06590712d6435f8a0b32ee3fee1adf",
       "version_major": 2,
       "version_minor": 0
      },
      "text/plain": [
       "Iterating over epochs:   0%|          | 0/30 [00:00<?, ?it/s]"
      ]
     },
     "metadata": {},
     "output_type": "display_data"
    },
    {
     "name": "stderr",
     "output_type": "stream",
     "text": [
      "Mean policy network loss: -0.030636\n",
      "Mean value network loss: 4.096521\n",
      "Episode №41\n"
     ]
    },
    {
     "data": {
      "application/vnd.jupyter.widget-view+json": {
       "model_id": "6b0483440e9c4797b880fab13fc0a69b",
       "version_major": 2,
       "version_minor": 0
      },
      "text/plain": [
       "Sampling trajectories:   0%|          | 0/20 [00:00<?, ?it/s]"
      ]
     },
     "metadata": {},
     "output_type": "display_data"
    },
    {
     "name": "stderr",
     "output_type": "stream",
     "text": [
      "Mean total reward: 265.04\n"
     ]
    },
    {
     "data": {
      "application/vnd.jupyter.widget-view+json": {
       "model_id": "1fd236b2b4144056a8f3eef9c744ec92",
       "version_major": 2,
       "version_minor": 0
      },
      "text/plain": [
       "Iterating over epochs:   0%|          | 0/30 [00:00<?, ?it/s]"
      ]
     },
     "metadata": {},
     "output_type": "display_data"
    },
    {
     "name": "stderr",
     "output_type": "stream",
     "text": [
      "Mean policy network loss: -0.032695\n",
      "Mean value network loss: 2.891017\n",
      "Episode №42\n"
     ]
    },
    {
     "data": {
      "application/vnd.jupyter.widget-view+json": {
       "model_id": "21c7fb89ede8404fb71dd0ef69819151",
       "version_major": 2,
       "version_minor": 0
      },
      "text/plain": [
       "Sampling trajectories:   0%|          | 0/20 [00:00<?, ?it/s]"
      ]
     },
     "metadata": {},
     "output_type": "display_data"
    },
    {
     "name": "stderr",
     "output_type": "stream",
     "text": [
      "Mean total reward: 256.80\n"
     ]
    },
    {
     "data": {
      "application/vnd.jupyter.widget-view+json": {
       "model_id": "f356fd5af61e4331941b0a1bc5a498b0",
       "version_major": 2,
       "version_minor": 0
      },
      "text/plain": [
       "Iterating over epochs:   0%|          | 0/30 [00:00<?, ?it/s]"
      ]
     },
     "metadata": {},
     "output_type": "display_data"
    },
    {
     "name": "stderr",
     "output_type": "stream",
     "text": [
      "Mean policy network loss: -0.028893\n",
      "Mean value network loss: 3.075177\n",
      "Episode №43\n"
     ]
    },
    {
     "data": {
      "application/vnd.jupyter.widget-view+json": {
       "model_id": "e02c15f457b0414bb56abac90a578451",
       "version_major": 2,
       "version_minor": 0
      },
      "text/plain": [
       "Sampling trajectories:   0%|          | 0/20 [00:00<?, ?it/s]"
      ]
     },
     "metadata": {},
     "output_type": "display_data"
    },
    {
     "name": "stderr",
     "output_type": "stream",
     "text": [
      "Mean total reward: 269.38\n"
     ]
    },
    {
     "data": {
      "application/vnd.jupyter.widget-view+json": {
       "model_id": "9691d0277c3f427c828f4a547ed7009b",
       "version_major": 2,
       "version_minor": 0
      },
      "text/plain": [
       "Iterating over epochs:   0%|          | 0/30 [00:00<?, ?it/s]"
      ]
     },
     "metadata": {},
     "output_type": "display_data"
    },
    {
     "name": "stderr",
     "output_type": "stream",
     "text": [
      "Mean policy network loss: -0.026495\n",
      "Mean value network loss: 4.046624\n",
      "Episode №44\n"
     ]
    },
    {
     "data": {
      "application/vnd.jupyter.widget-view+json": {
       "model_id": "fdad89c2598a423884ebf1f5682aafab",
       "version_major": 2,
       "version_minor": 0
      },
      "text/plain": [
       "Sampling trajectories:   0%|          | 0/20 [00:00<?, ?it/s]"
      ]
     },
     "metadata": {},
     "output_type": "display_data"
    },
    {
     "name": "stderr",
     "output_type": "stream",
     "text": [
      "Mean total reward: 280.06\n"
     ]
    },
    {
     "data": {
      "application/vnd.jupyter.widget-view+json": {
       "model_id": "009a95ac75174449b1a15be763332d4f",
       "version_major": 2,
       "version_minor": 0
      },
      "text/plain": [
       "Iterating over epochs:   0%|          | 0/30 [00:00<?, ?it/s]"
      ]
     },
     "metadata": {},
     "output_type": "display_data"
    },
    {
     "name": "stderr",
     "output_type": "stream",
     "text": [
      "Mean policy network loss: -0.029318\n",
      "Mean value network loss: 3.413336\n",
      "Episode №45\n"
     ]
    },
    {
     "data": {
      "application/vnd.jupyter.widget-view+json": {
       "model_id": "6c216bcd371641e58177319f73f6f18a",
       "version_major": 2,
       "version_minor": 0
      },
      "text/plain": [
       "Sampling trajectories:   0%|          | 0/20 [00:00<?, ?it/s]"
      ]
     },
     "metadata": {},
     "output_type": "display_data"
    },
    {
     "name": "stderr",
     "output_type": "stream",
     "text": [
      "Mean total reward: 284.16\n"
     ]
    },
    {
     "data": {
      "application/vnd.jupyter.widget-view+json": {
       "model_id": "eb6f791571ce473f8e0170dabc0cdc20",
       "version_major": 2,
       "version_minor": 0
      },
      "text/plain": [
       "Iterating over epochs:   0%|          | 0/30 [00:00<?, ?it/s]"
      ]
     },
     "metadata": {},
     "output_type": "display_data"
    },
    {
     "name": "stderr",
     "output_type": "stream",
     "text": [
      "Mean policy network loss: -0.025356\n",
      "Mean value network loss: 3.250271\n",
      "Episode №46\n"
     ]
    },
    {
     "data": {
      "application/vnd.jupyter.widget-view+json": {
       "model_id": "eb01f73578e1403183809a039eda5e95",
       "version_major": 2,
       "version_minor": 0
      },
      "text/plain": [
       "Sampling trajectories:   0%|          | 0/20 [00:00<?, ?it/s]"
      ]
     },
     "metadata": {},
     "output_type": "display_data"
    },
    {
     "name": "stderr",
     "output_type": "stream",
     "text": [
      "Mean total reward: 257.44\n"
     ]
    },
    {
     "data": {
      "application/vnd.jupyter.widget-view+json": {
       "model_id": "fe7bb4dc74434bd6b781f04ac5fad6fc",
       "version_major": 2,
       "version_minor": 0
      },
      "text/plain": [
       "Iterating over epochs:   0%|          | 0/30 [00:00<?, ?it/s]"
      ]
     },
     "metadata": {},
     "output_type": "display_data"
    },
    {
     "name": "stderr",
     "output_type": "stream",
     "text": [
      "Mean policy network loss: -0.029547\n",
      "Mean value network loss: 3.508906\n",
      "Episode №47\n"
     ]
    },
    {
     "data": {
      "application/vnd.jupyter.widget-view+json": {
       "model_id": "932cbd25d31049f5bd9d54a1e5c2df9f",
       "version_major": 2,
       "version_minor": 0
      },
      "text/plain": [
       "Sampling trajectories:   0%|          | 0/20 [00:00<?, ?it/s]"
      ]
     },
     "metadata": {},
     "output_type": "display_data"
    },
    {
     "name": "stderr",
     "output_type": "stream",
     "text": [
      "Mean total reward: 284.55\n"
     ]
    },
    {
     "data": {
      "application/vnd.jupyter.widget-view+json": {
       "model_id": "492edfb0e94d4f31a66b136bdaf258e9",
       "version_major": 2,
       "version_minor": 0
      },
      "text/plain": [
       "Iterating over epochs:   0%|          | 0/30 [00:00<?, ?it/s]"
      ]
     },
     "metadata": {},
     "output_type": "display_data"
    },
    {
     "name": "stderr",
     "output_type": "stream",
     "text": [
      "Mean policy network loss: -0.030094\n",
      "Mean value network loss: 3.366480\n",
      "Episode №48\n"
     ]
    },
    {
     "data": {
      "application/vnd.jupyter.widget-view+json": {
       "model_id": "a15db791b6cc4745b6af26922ffe5520",
       "version_major": 2,
       "version_minor": 0
      },
      "text/plain": [
       "Sampling trajectories:   0%|          | 0/20 [00:00<?, ?it/s]"
      ]
     },
     "metadata": {},
     "output_type": "display_data"
    },
    {
     "name": "stderr",
     "output_type": "stream",
     "text": [
      "Mean total reward: 274.27\n"
     ]
    },
    {
     "data": {
      "application/vnd.jupyter.widget-view+json": {
       "model_id": "060529a48f204bdba923501ab8a681db",
       "version_major": 2,
       "version_minor": 0
      },
      "text/plain": [
       "Iterating over epochs:   0%|          | 0/30 [00:00<?, ?it/s]"
      ]
     },
     "metadata": {},
     "output_type": "display_data"
    },
    {
     "name": "stderr",
     "output_type": "stream",
     "text": [
      "Mean policy network loss: -0.037234\n",
      "Mean value network loss: 3.252399\n",
      "Episode №49\n"
     ]
    },
    {
     "data": {
      "application/vnd.jupyter.widget-view+json": {
       "model_id": "1f81e41ac1b44206b29dcee00b87447c",
       "version_major": 2,
       "version_minor": 0
      },
      "text/plain": [
       "Sampling trajectories:   0%|          | 0/20 [00:00<?, ?it/s]"
      ]
     },
     "metadata": {},
     "output_type": "display_data"
    },
    {
     "name": "stderr",
     "output_type": "stream",
     "text": [
      "Mean total reward: 266.35\n"
     ]
    },
    {
     "data": {
      "application/vnd.jupyter.widget-view+json": {
       "model_id": "c3b3bf8b92304d88b3f64ac7dd7e568a",
       "version_major": 2,
       "version_minor": 0
      },
      "text/plain": [
       "Iterating over epochs:   0%|          | 0/30 [00:00<?, ?it/s]"
      ]
     },
     "metadata": {},
     "output_type": "display_data"
    },
    {
     "name": "stderr",
     "output_type": "stream",
     "text": [
      "Mean policy network loss: -0.030069\n",
      "Mean value network loss: 6.116621\n",
      "Episode №50\n"
     ]
    },
    {
     "data": {
      "application/vnd.jupyter.widget-view+json": {
       "model_id": "e25e9d911ee542739a31293cfc6a340d",
       "version_major": 2,
       "version_minor": 0
      },
      "text/plain": [
       "Sampling trajectories:   0%|          | 0/20 [00:00<?, ?it/s]"
      ]
     },
     "metadata": {},
     "output_type": "display_data"
    },
    {
     "name": "stderr",
     "output_type": "stream",
     "text": [
      "Mean total reward: 283.02\n"
     ]
    },
    {
     "data": {
      "application/vnd.jupyter.widget-view+json": {
       "model_id": "b551d5325e4647ce9d908cd9db142bf1",
       "version_major": 2,
       "version_minor": 0
      },
      "text/plain": [
       "Iterating over epochs:   0%|          | 0/30 [00:00<?, ?it/s]"
      ]
     },
     "metadata": {},
     "output_type": "display_data"
    },
    {
     "name": "stderr",
     "output_type": "stream",
     "text": [
      "Mean policy network loss: -0.026961\n",
      "Mean value network loss: 4.557052\n"
     ]
    }
   ],
   "source": [
    "policy_network_losses, value_network_losses, history = trainer.train(\n",
    "    agent, env, history_file_path=\"histories/DiscreteLunarLander-v2_ppo_bellman_equation.jsonl\"\n",
    ")"
   ]
  },
  {
   "cell_type": "code",
   "execution_count": 34,
   "id": "ea168784-83c1-4bb7-9550-69ea3edf07ef",
   "metadata": {},
   "outputs": [
    {
     "data": {
      "text/plain": [
       "[<matplotlib.lines.Line2D at 0x74afbcf5cf70>]"
      ]
     },
     "execution_count": 34,
     "metadata": {},
     "output_type": "execute_result"
    },
    {
     "data": {
      "image/png": "[encoded data removed]",
      "text/plain": [
       "<Figure size 640x480 with 1 Axes>"
      ]
     },
     "metadata": {},
     "output_type": "display_data"
    }
   ],
   "source": [
    "plt.plot(policy_network_losses)"
   ]
  },
  {
   "cell_type": "code",
   "execution_count": 35,
   "id": "d627f2c9-ea8a-482a-8f2d-eeeccc8aaef7",
   "metadata": {},
   "outputs": [
    {
     "data": {
      "text/plain": [
       "[<matplotlib.lines.Line2D at 0x74afbfeca950>]"
      ]
     },
     "execution_count": 35,
     "metadata": {},
     "output_type": "execute_result"
    },
    {
     "data": {
      "image/png": "[encoded data removed]",
      "text/plain": [
       "<Figure size 640x480 with 1 Axes>"
      ]
     },
     "metadata": {},
     "output_type": "display_data"
    }
   ],
   "source": [
    "plt.plot(value_network_losses)"
   ]
  },
  {
   "cell_type": "code",
   "execution_count": 36,
   "id": "05403efd-fadb-4c55-b99d-30712db8d956",
   "metadata": {},
   "outputs": [
    {
     "data": {
      "text/plain": [
       "[<matplotlib.lines.Line2D at 0x74afbf8b1c00>]"
      ]
     },
     "execution_count": 36,
     "metadata": {},
     "output_type": "execute_result"
    },
    {
     "data": {
      "image/png": "[encoded data removed]",
      "text/plain": [
       "<Figure size 640x480 with 1 Axes>"
      ]
     },
     "metadata": {},
     "output_type": "display_data"
    }
   ],
   "source": [
    "plt.plot([sum(trajectory[\"rewards\"]) for trajectory in history])"
   ]
  },
  {
   "cell_type": "code",
   "execution_count": 38,
   "id": "105c09ee-548e-4c79-9d9d-ec00741e2562",
   "metadata": {},
   "outputs": [],
   "source": [
    "agent.save(\"agents/discrete_lunar_lander_bellman_equation.pth\")"
   ]
  },
  {
   "cell_type": "markdown",
   "id": "3ae79fdf-ae97-4778-82e4-ddb005bd0947",
   "metadata": {},
   "source": [
    "# Acrobot"
   ]
  },
  {
   "cell_type": "code",
   "execution_count": 39,
   "id": "477263d1-ed77-491e-bcc8-84ce2f1e521d",
   "metadata": {},
   "outputs": [],
   "source": [
    "env = gym.make(\"Acrobot-v1\")"
   ]
  },
  {
   "cell_type": "code",
   "execution_count": 40,
   "id": "1018a8cc-f288-4499-a892-ea0cecaa511a",
   "metadata": {},
   "outputs": [],
   "source": [
    "agent = DiscreteDistributionAgent(\n",
    "    Network([env.observation_space.shape[0], 128, 128, env.action_space.n]),\n",
    ")"
   ]
  },
  {
   "cell_type": "code",
   "execution_count": 41,
   "id": "7b084149-d973-4639-be26-19f06dea027a",
   "metadata": {},
   "outputs": [],
   "source": [
    "trainer = BellmanEquationBasedPPOTrainer(\n",
    "    n_episodes=50,\n",
    "    n_trajectories_per_episode=20,\n",
    "    n_epochs_per_episode=30,\n",
    "    epsilon=0.2,\n",
    "    policy_network_lr=1e-4,\n",
    "    value_network_lr=5e-4,\n",
    "    batch_size=32,\n",
    "    gamma=0.99,\n",
    "    value_network_hidden_sizes=[env.observation_space.shape[0], 128, 128, 1],\n",
    "    max_trajectory_length=1000,\n",
    ")"
   ]
  },
  {
   "cell_type": "code",
   "execution_count": 42,
   "id": "656a079b-3cb9-4e2c-b7f7-d029bc685dae",
   "metadata": {
    "scrolled": true
   },
   "outputs": [
    {
     "name": "stderr",
     "output_type": "stream",
     "text": [
      "Layer Sequential(\n",
      "  (0): Linear(in_features=6, out_features=128, bias=True)\n",
      "  (1): ReLU()\n",
      "  (2): Linear(in_features=128, out_features=128, bias=True)\n",
      "  (3): ReLU()\n",
      "  (4): Linear(in_features=128, out_features=3, bias=True)\n",
      ") doesn't have reset_parameters method\n",
      "Layer ReLU() doesn't have reset_parameters method\n",
      "Layer ReLU() doesn't have reset_parameters method\n",
      "Episode №1\n"
     ]
    },
    {
     "data": {
      "application/vnd.jupyter.widget-view+json": {
       "model_id": "5cfeacc7b3534027b2cf55348ea83eeb",
       "version_major": 2,
       "version_minor": 0
      },
      "text/plain": [
       "Sampling trajectories:   0%|          | 0/20 [00:00<?, ?it/s]"
      ]
     },
     "metadata": {},
     "output_type": "display_data"
    },
    {
     "name": "stderr",
     "output_type": "stream",
     "text": [
      "Mean total reward: -497.55\n"
     ]
    },
    {
     "data": {
      "application/vnd.jupyter.widget-view+json": {
       "model_id": "a8417e91d9e9454c8935e3197b610a46",
       "version_major": 2,
       "version_minor": 0
      },
      "text/plain": [
       "Iterating over epochs:   0%|          | 0/30 [00:00<?, ?it/s]"
      ]
     },
     "metadata": {},
     "output_type": "display_data"
    },
    {
     "name": "stderr",
     "output_type": "stream",
     "text": [
      "Mean policy network loss: 0.019698\n",
      "Mean value network loss: 17.760057\n",
      "Episode №2\n"
     ]
    },
    {
     "data": {
      "application/vnd.jupyter.widget-view+json": {
       "model_id": "62393e3f097347c88263c771bf559be2",
       "version_major": 2,
       "version_minor": 0
      },
      "text/plain": [
       "Sampling trajectories:   0%|          | 0/20 [00:00<?, ?it/s]"
      ]
     },
     "metadata": {},
     "output_type": "display_data"
    },
    {
     "name": "stderr",
     "output_type": "stream",
     "text": [
      "Mean total reward: -389.25\n"
     ]
    },
    {
     "data": {
      "application/vnd.jupyter.widget-view+json": {
       "model_id": "82750dd6c5c54f019fd3cde18f5e9611",
       "version_major": 2,
       "version_minor": 0
      },
      "text/plain": [
       "Iterating over epochs:   0%|          | 0/30 [00:00<?, ?it/s]"
      ]
     },
     "metadata": {},
     "output_type": "display_data"
    },
    {
     "name": "stderr",
     "output_type": "stream",
     "text": [
      "Mean policy network loss: -0.048031\n",
      "Mean value network loss: 14.276858\n",
      "Episode №3\n"
     ]
    },
    {
     "data": {
      "application/vnd.jupyter.widget-view+json": {
       "model_id": "4f973cd1979e49bea55888314fd81b1c",
       "version_major": 2,
       "version_minor": 0
      },
      "text/plain": [
       "Sampling trajectories:   0%|          | 0/20 [00:00<?, ?it/s]"
      ]
     },
     "metadata": {},
     "output_type": "display_data"
    },
    {
     "name": "stderr",
     "output_type": "stream",
     "text": [
      "Mean total reward: -236.85\n"
     ]
    },
    {
     "data": {
      "application/vnd.jupyter.widget-view+json": {
       "model_id": "db23ec44e35a4210aea04ee697c22da8",
       "version_major": 2,
       "version_minor": 0
      },
      "text/plain": [
       "Iterating over epochs:   0%|          | 0/30 [00:00<?, ?it/s]"
      ]
     },
     "metadata": {},
     "output_type": "display_data"
    },
    {
     "name": "stderr",
     "output_type": "stream",
     "text": [
      "Mean policy network loss: -0.090917\n",
      "Mean value network loss: 9.950782\n",
      "Episode №4\n"
     ]
    },
    {
     "data": {
      "application/vnd.jupyter.widget-view+json": {
       "model_id": "bde70ac9c64c4c7eaf69f2aee9ec7cf4",
       "version_major": 2,
       "version_minor": 0
      },
      "text/plain": [
       "Sampling trajectories:   0%|          | 0/20 [00:00<?, ?it/s]"
      ]
     },
     "metadata": {},
     "output_type": "display_data"
    },
    {
     "name": "stderr",
     "output_type": "stream",
     "text": [
      "Mean total reward: -159.60\n"
     ]
    },
    {
     "data": {
      "application/vnd.jupyter.widget-view+json": {
       "model_id": "4c93555c77ce4894a60a6d61551d82bf",
       "version_major": 2,
       "version_minor": 0
      },
      "text/plain": [
       "Iterating over epochs:   0%|          | 0/30 [00:00<?, ?it/s]"
      ]
     },
     "metadata": {},
     "output_type": "display_data"
    },
    {
     "name": "stderr",
     "output_type": "stream",
     "text": [
      "Mean policy network loss: -0.076999\n",
      "Mean value network loss: 7.600009\n",
      "Episode №5\n"
     ]
    },
    {
     "data": {
      "application/vnd.jupyter.widget-view+json": {
       "model_id": "e35af2cc02d84a629f2b98f481e87061",
       "version_major": 2,
       "version_minor": 0
      },
      "text/plain": [
       "Sampling trajectories:   0%|          | 0/20 [00:00<?, ?it/s]"
      ]
     },
     "metadata": {},
     "output_type": "display_data"
    },
    {
     "name": "stderr",
     "output_type": "stream",
     "text": [
      "Mean total reward: -122.55\n"
     ]
    },
    {
     "data": {
      "application/vnd.jupyter.widget-view+json": {
       "model_id": "d049a13b43bc48468994040df3628d6b",
       "version_major": 2,
       "version_minor": 0
      },
      "text/plain": [
       "Iterating over epochs:   0%|          | 0/30 [00:00<?, ?it/s]"
      ]
     },
     "metadata": {},
     "output_type": "display_data"
    },
    {
     "name": "stderr",
     "output_type": "stream",
     "text": [
      "Mean policy network loss: -0.074395\n",
      "Mean value network loss: 6.119310\n",
      "Episode №6\n"
     ]
    },
    {
     "data": {
      "application/vnd.jupyter.widget-view+json": {
       "model_id": "a6c2500a3aba4bb490214a860be5299f",
       "version_major": 2,
       "version_minor": 0
      },
      "text/plain": [
       "Sampling trajectories:   0%|          | 0/20 [00:00<?, ?it/s]"
      ]
     },
     "metadata": {},
     "output_type": "display_data"
    },
    {
     "name": "stderr",
     "output_type": "stream",
     "text": [
      "Mean total reward: -114.50\n"
     ]
    },
    {
     "data": {
      "application/vnd.jupyter.widget-view+json": {
       "model_id": "1d41c2aa11164456a21bd60923e422c4",
       "version_major": 2,
       "version_minor": 0
      },
      "text/plain": [
       "Iterating over epochs:   0%|          | 0/30 [00:00<?, ?it/s]"
      ]
     },
     "metadata": {},
     "output_type": "display_data"
    },
    {
     "name": "stderr",
     "output_type": "stream",
     "text": [
      "Mean policy network loss: -0.036246\n",
      "Mean value network loss: 3.820414\n",
      "Episode №7\n"
     ]
    },
    {
     "data": {
      "application/vnd.jupyter.widget-view+json": {
       "model_id": "d13562b04ba947fd8ee573ee87e99ade",
       "version_major": 2,
       "version_minor": 0
      },
      "text/plain": [
       "Sampling trajectories:   0%|          | 0/20 [00:00<?, ?it/s]"
      ]
     },
     "metadata": {},
     "output_type": "display_data"
    },
    {
     "name": "stderr",
     "output_type": "stream",
     "text": [
      "Mean total reward: -97.55\n"
     ]
    },
    {
     "data": {
      "application/vnd.jupyter.widget-view+json": {
       "model_id": "7c90b92568b84eb383bd66ae5506449b",
       "version_major": 2,
       "version_minor": 0
      },
      "text/plain": [
       "Iterating over epochs:   0%|          | 0/30 [00:00<?, ?it/s]"
      ]
     },
     "metadata": {},
     "output_type": "display_data"
    },
    {
     "name": "stderr",
     "output_type": "stream",
     "text": [
      "Mean policy network loss: -0.031012\n",
      "Mean value network loss: 3.915945\n",
      "Episode №8\n"
     ]
    },
    {
     "data": {
      "application/vnd.jupyter.widget-view+json": {
       "model_id": "760b5267da6d4b7d8871d483dee220bd",
       "version_major": 2,
       "version_minor": 0
      },
      "text/plain": [
       "Sampling trajectories:   0%|          | 0/20 [00:00<?, ?it/s]"
      ]
     },
     "metadata": {},
     "output_type": "display_data"
    },
    {
     "name": "stderr",
     "output_type": "stream",
     "text": [
      "Mean total reward: -88.40\n"
     ]
    },
    {
     "data": {
      "application/vnd.jupyter.widget-view+json": {
       "model_id": "4867fae9eb284b7495f3c7020df78b6a",
       "version_major": 2,
       "version_minor": 0
      },
      "text/plain": [
       "Iterating over epochs:   0%|          | 0/30 [00:00<?, ?it/s]"
      ]
     },
     "metadata": {},
     "output_type": "display_data"
    },
    {
     "name": "stderr",
     "output_type": "stream",
     "text": [
      "Mean policy network loss: -0.009906\n",
      "Mean value network loss: 4.640321\n",
      "Episode №9\n"
     ]
    },
    {
     "data": {
      "application/vnd.jupyter.widget-view+json": {
       "model_id": "3570f1871b4144e1abc6610b6d30831e",
       "version_major": 2,
       "version_minor": 0
      },
      "text/plain": [
       "Sampling trajectories:   0%|          | 0/20 [00:00<?, ?it/s]"
      ]
     },
     "metadata": {},
     "output_type": "display_data"
    },
    {
     "name": "stderr",
     "output_type": "stream",
     "text": [
      "Mean total reward: -91.90\n"
     ]
    },
    {
     "data": {
      "application/vnd.jupyter.widget-view+json": {
       "model_id": "7c185dbd539c47838b156b8cd70bc4a0",
       "version_major": 2,
       "version_minor": 0
      },
      "text/plain": [
       "Iterating over epochs:   0%|          | 0/30 [00:00<?, ?it/s]"
      ]
     },
     "metadata": {},
     "output_type": "display_data"
    },
    {
     "name": "stderr",
     "output_type": "stream",
     "text": [
      "Mean policy network loss: -0.012121\n",
      "Mean value network loss: 3.060828\n",
      "Episode №10\n"
     ]
    },
    {
     "data": {
      "application/vnd.jupyter.widget-view+json": {
       "model_id": "8bddc8cb0f9e4fb3879a33a5a4045226",
       "version_major": 2,
       "version_minor": 0
      },
      "text/plain": [
       "Sampling trajectories:   0%|          | 0/20 [00:00<?, ?it/s]"
      ]
     },
     "metadata": {},
     "output_type": "display_data"
    },
    {
     "name": "stderr",
     "output_type": "stream",
     "text": [
      "Mean total reward: -93.00\n"
     ]
    },
    {
     "data": {
      "application/vnd.jupyter.widget-view+json": {
       "model_id": "e7032839835c45258eed510e1cae0ced",
       "version_major": 2,
       "version_minor": 0
      },
      "text/plain": [
       "Iterating over epochs:   0%|          | 0/30 [00:00<?, ?it/s]"
      ]
     },
     "metadata": {},
     "output_type": "display_data"
    },
    {
     "name": "stderr",
     "output_type": "stream",
     "text": [
      "Mean policy network loss: -0.014688\n",
      "Mean value network loss: 3.518572\n",
      "Episode №11\n"
     ]
    },
    {
     "data": {
      "application/vnd.jupyter.widget-view+json": {
       "model_id": "deedc8dd80674e47919554169de1ffd2",
       "version_major": 2,
       "version_minor": 0
      },
      "text/plain": [
       "Sampling trajectories:   0%|          | 0/20 [00:00<?, ?it/s]"
      ]
     },
     "metadata": {},
     "output_type": "display_data"
    },
    {
     "name": "stderr",
     "output_type": "stream",
     "text": [
      "Mean total reward: -91.05\n"
     ]
    },
    {
     "data": {
      "application/vnd.jupyter.widget-view+json": {
       "model_id": "68b30c6bdacd4a4f933fbdb11467a5a1",
       "version_major": 2,
       "version_minor": 0
      },
      "text/plain": [
       "Iterating over epochs:   0%|          | 0/30 [00:00<?, ?it/s]"
      ]
     },
     "metadata": {},
     "output_type": "display_data"
    },
    {
     "name": "stderr",
     "output_type": "stream",
     "text": [
      "Mean policy network loss: -0.001759\n",
      "Mean value network loss: 4.649605\n",
      "Episode №12\n"
     ]
    },
    {
     "data": {
      "application/vnd.jupyter.widget-view+json": {
       "model_id": "a36816b898ec4e16a748bfa4102b4bd0",
       "version_major": 2,
       "version_minor": 0
      },
      "text/plain": [
       "Sampling trajectories:   0%|          | 0/20 [00:00<?, ?it/s]"
      ]
     },
     "metadata": {},
     "output_type": "display_data"
    },
    {
     "name": "stderr",
     "output_type": "stream",
     "text": [
      "Mean total reward: -114.10\n"
     ]
    },
    {
     "data": {
      "application/vnd.jupyter.widget-view+json": {
       "model_id": "fca4466c5ce5450693f9015fa241bd88",
       "version_major": 2,
       "version_minor": 0
      },
      "text/plain": [
       "Iterating over epochs:   0%|          | 0/30 [00:00<?, ?it/s]"
      ]
     },
     "metadata": {},
     "output_type": "display_data"
    },
    {
     "name": "stderr",
     "output_type": "stream",
     "text": [
      "Mean policy network loss: -0.026821\n",
      "Mean value network loss: 7.253678\n",
      "Episode №13\n"
     ]
    },
    {
     "data": {
      "application/vnd.jupyter.widget-view+json": {
       "model_id": "af127277fdc34d5691cc78aa37b4a141",
       "version_major": 2,
       "version_minor": 0
      },
      "text/plain": [
       "Sampling trajectories:   0%|          | 0/20 [00:00<?, ?it/s]"
      ]
     },
     "metadata": {},
     "output_type": "display_data"
    },
    {
     "name": "stderr",
     "output_type": "stream",
     "text": [
      "Mean total reward: -81.05\n"
     ]
    },
    {
     "data": {
      "application/vnd.jupyter.widget-view+json": {
       "model_id": "602fdc66ecf04b1ba9518a8ee9a50cf9",
       "version_major": 2,
       "version_minor": 0
      },
      "text/plain": [
       "Iterating over epochs:   0%|          | 0/30 [00:00<?, ?it/s]"
      ]
     },
     "metadata": {},
     "output_type": "display_data"
    },
    {
     "name": "stderr",
     "output_type": "stream",
     "text": [
      "Mean policy network loss: -0.008237\n",
      "Mean value network loss: 5.412289\n",
      "Episode №14\n"
     ]
    },
    {
     "data": {
      "application/vnd.jupyter.widget-view+json": {
       "model_id": "4ca95c7fd3d2494684ecfb84f9d7135b",
       "version_major": 2,
       "version_minor": 0
      },
      "text/plain": [
       "Sampling trajectories:   0%|          | 0/20 [00:00<?, ?it/s]"
      ]
     },
     "metadata": {},
     "output_type": "display_data"
    },
    {
     "name": "stderr",
     "output_type": "stream",
     "text": [
      "Mean total reward: -92.55\n"
     ]
    },
    {
     "data": {
      "application/vnd.jupyter.widget-view+json": {
       "model_id": "0c4cce5ebff94a10aad8c61062dc7f9e",
       "version_major": 2,
       "version_minor": 0
      },
      "text/plain": [
       "Iterating over epochs:   0%|          | 0/30 [00:00<?, ?it/s]"
      ]
     },
     "metadata": {},
     "output_type": "display_data"
    },
    {
     "name": "stderr",
     "output_type": "stream",
     "text": [
      "Mean policy network loss: 0.000011\n",
      "Mean value network loss: 4.128272\n",
      "Episode №15\n"
     ]
    },
    {
     "data": {
      "application/vnd.jupyter.widget-view+json": {
       "model_id": "0b49984a801b44ef8737083fb41208bd",
       "version_major": 2,
       "version_minor": 0
      },
      "text/plain": [
       "Sampling trajectories:   0%|          | 0/20 [00:00<?, ?it/s]"
      ]
     },
     "metadata": {},
     "output_type": "display_data"
    },
    {
     "name": "stderr",
     "output_type": "stream",
     "text": [
      "Mean total reward: -88.95\n"
     ]
    },
    {
     "data": {
      "application/vnd.jupyter.widget-view+json": {
       "model_id": "39c173def2684e7ab3ef4bfb6074b5fb",
       "version_major": 2,
       "version_minor": 0
      },
      "text/plain": [
       "Iterating over epochs:   0%|          | 0/30 [00:00<?, ?it/s]"
      ]
     },
     "metadata": {},
     "output_type": "display_data"
    },
    {
     "name": "stderr",
     "output_type": "stream",
     "text": [
      "Mean policy network loss: -0.018441\n",
      "Mean value network loss: 4.371246\n",
      "Episode №16\n"
     ]
    },
    {
     "data": {
      "application/vnd.jupyter.widget-view+json": {
       "model_id": "5ad92e3a3a584feb8bb0977cd19d3e9c",
       "version_major": 2,
       "version_minor": 0
      },
      "text/plain": [
       "Sampling trajectories:   0%|          | 0/20 [00:00<?, ?it/s]"
      ]
     },
     "metadata": {},
     "output_type": "display_data"
    },
    {
     "name": "stderr",
     "output_type": "stream",
     "text": [
      "Mean total reward: -79.70\n"
     ]
    },
    {
     "data": {
      "application/vnd.jupyter.widget-view+json": {
       "model_id": "70a5a3c50ded4d2a92535e22ce0a77b0",
       "version_major": 2,
       "version_minor": 0
      },
      "text/plain": [
       "Iterating over epochs:   0%|          | 0/30 [00:00<?, ?it/s]"
      ]
     },
     "metadata": {},
     "output_type": "display_data"
    },
    {
     "name": "stderr",
     "output_type": "stream",
     "text": [
      "Mean policy network loss: -0.012117\n",
      "Mean value network loss: 3.469224\n",
      "Episode №17\n"
     ]
    },
    {
     "data": {
      "application/vnd.jupyter.widget-view+json": {
       "model_id": "b8116151f47c4db38b0a663931599551",
       "version_major": 2,
       "version_minor": 0
      },
      "text/plain": [
       "Sampling trajectories:   0%|          | 0/20 [00:00<?, ?it/s]"
      ]
     },
     "metadata": {},
     "output_type": "display_data"
    },
    {
     "name": "stderr",
     "output_type": "stream",
     "text": [
      "Mean total reward: -79.10\n"
     ]
    },
    {
     "data": {
      "application/vnd.jupyter.widget-view+json": {
       "model_id": "556bff6d73904cfca725b5a2b2c23089",
       "version_major": 2,
       "version_minor": 0
      },
      "text/plain": [
       "Iterating over epochs:   0%|          | 0/30 [00:00<?, ?it/s]"
      ]
     },
     "metadata": {},
     "output_type": "display_data"
    },
    {
     "name": "stderr",
     "output_type": "stream",
     "text": [
      "Mean policy network loss: 0.005527\n",
      "Mean value network loss: 3.267128\n",
      "Episode №18\n"
     ]
    },
    {
     "data": {
      "application/vnd.jupyter.widget-view+json": {
       "model_id": "295ce114248047239eb81144e52385fb",
       "version_major": 2,
       "version_minor": 0
      },
      "text/plain": [
       "Sampling trajectories:   0%|          | 0/20 [00:00<?, ?it/s]"
      ]
     },
     "metadata": {},
     "output_type": "display_data"
    },
    {
     "name": "stderr",
     "output_type": "stream",
     "text": [
      "Mean total reward: -88.95\n"
     ]
    },
    {
     "data": {
      "application/vnd.jupyter.widget-view+json": {
       "model_id": "508984ea42aa45a3b5fe294f2dfc3068",
       "version_major": 2,
       "version_minor": 0
      },
      "text/plain": [
       "Iterating over epochs:   0%|          | 0/30 [00:00<?, ?it/s]"
      ]
     },
     "metadata": {},
     "output_type": "display_data"
    },
    {
     "name": "stderr",
     "output_type": "stream",
     "text": [
      "Mean policy network loss: 0.015933\n",
      "Mean value network loss: 3.416528\n",
      "Episode №19\n"
     ]
    },
    {
     "data": {
      "application/vnd.jupyter.widget-view+json": {
       "model_id": "42690c30428547ac92443783a4e92202",
       "version_major": 2,
       "version_minor": 0
      },
      "text/plain": [
       "Sampling trajectories:   0%|          | 0/20 [00:00<?, ?it/s]"
      ]
     },
     "metadata": {},
     "output_type": "display_data"
    },
    {
     "name": "stderr",
     "output_type": "stream",
     "text": [
      "Mean total reward: -89.55\n"
     ]
    },
    {
     "data": {
      "application/vnd.jupyter.widget-view+json": {
       "model_id": "cc4cfb81e49b4704ae2a1df293323e5a",
       "version_major": 2,
       "version_minor": 0
      },
      "text/plain": [
       "Iterating over epochs:   0%|          | 0/30 [00:00<?, ?it/s]"
      ]
     },
     "metadata": {},
     "output_type": "display_data"
    },
    {
     "name": "stderr",
     "output_type": "stream",
     "text": [
      "Mean policy network loss: 0.004434\n",
      "Mean value network loss: 3.459843\n",
      "Episode №20\n"
     ]
    },
    {
     "data": {
      "application/vnd.jupyter.widget-view+json": {
       "model_id": "9558dfbb8e1245299ad5d2b7cdf3a454",
       "version_major": 2,
       "version_minor": 0
      },
      "text/plain": [
       "Sampling trajectories:   0%|          | 0/20 [00:00<?, ?it/s]"
      ]
     },
     "metadata": {},
     "output_type": "display_data"
    },
    {
     "name": "stderr",
     "output_type": "stream",
     "text": [
      "Mean total reward: -87.65\n"
     ]
    },
    {
     "data": {
      "application/vnd.jupyter.widget-view+json": {
       "model_id": "35ab104d896e4a36b92d050a1e6d8a49",
       "version_major": 2,
       "version_minor": 0
      },
      "text/plain": [
       "Iterating over epochs:   0%|          | 0/30 [00:00<?, ?it/s]"
      ]
     },
     "metadata": {},
     "output_type": "display_data"
    },
    {
     "name": "stderr",
     "output_type": "stream",
     "text": [
      "Mean policy network loss: -0.017213\n",
      "Mean value network loss: 3.133538\n",
      "Episode №21\n"
     ]
    },
    {
     "data": {
      "application/vnd.jupyter.widget-view+json": {
       "model_id": "fbac97fcdf434935ae7c51c2872ec9c1",
       "version_major": 2,
       "version_minor": 0
      },
      "text/plain": [
       "Sampling trajectories:   0%|          | 0/20 [00:00<?, ?it/s]"
      ]
     },
     "metadata": {},
     "output_type": "display_data"
    },
    {
     "name": "stderr",
     "output_type": "stream",
     "text": [
      "Mean total reward: -86.95\n"
     ]
    },
    {
     "data": {
      "application/vnd.jupyter.widget-view+json": {
       "model_id": "b351df88986343f6880868d45b4e44f5",
       "version_major": 2,
       "version_minor": 0
      },
      "text/plain": [
       "Iterating over epochs:   0%|          | 0/30 [00:00<?, ?it/s]"
      ]
     },
     "metadata": {},
     "output_type": "display_data"
    },
    {
     "name": "stderr",
     "output_type": "stream",
     "text": [
      "Mean policy network loss: -0.004938\n",
      "Mean value network loss: 4.166588\n",
      "Episode №22\n"
     ]
    },
    {
     "data": {
      "application/vnd.jupyter.widget-view+json": {
       "model_id": "04fc6a47d83e4349988f8c75b8105104",
       "version_major": 2,
       "version_minor": 0
      },
      "text/plain": [
       "Sampling trajectories:   0%|          | 0/20 [00:00<?, ?it/s]"
      ]
     },
     "metadata": {},
     "output_type": "display_data"
    },
    {
     "name": "stderr",
     "output_type": "stream",
     "text": [
      "Mean total reward: -81.20\n"
     ]
    },
    {
     "data": {
      "application/vnd.jupyter.widget-view+json": {
       "model_id": "a55808e9d5f54e21b0d684e7a6beba2e",
       "version_major": 2,
       "version_minor": 0
      },
      "text/plain": [
       "Iterating over epochs:   0%|          | 0/30 [00:00<?, ?it/s]"
      ]
     },
     "metadata": {},
     "output_type": "display_data"
    },
    {
     "name": "stderr",
     "output_type": "stream",
     "text": [
      "Mean policy network loss: -0.005334\n",
      "Mean value network loss: 2.901127\n",
      "Episode №23\n"
     ]
    },
    {
     "data": {
      "application/vnd.jupyter.widget-view+json": {
       "model_id": "413508294b1842b2beebf044a8804d53",
       "version_major": 2,
       "version_minor": 0
      },
      "text/plain": [
       "Sampling trajectories:   0%|          | 0/20 [00:00<?, ?it/s]"
      ]
     },
     "metadata": {},
     "output_type": "display_data"
    },
    {
     "name": "stderr",
     "output_type": "stream",
     "text": [
      "Mean total reward: -93.35\n"
     ]
    },
    {
     "data": {
      "application/vnd.jupyter.widget-view+json": {
       "model_id": "25a357d6396b4e27ab29f336c10a8dc7",
       "version_major": 2,
       "version_minor": 0
      },
      "text/plain": [
       "Iterating over epochs:   0%|          | 0/30 [00:00<?, ?it/s]"
      ]
     },
     "metadata": {},
     "output_type": "display_data"
    },
    {
     "name": "stderr",
     "output_type": "stream",
     "text": [
      "Mean policy network loss: -0.014116\n",
      "Mean value network loss: 4.413405\n",
      "Episode №24\n"
     ]
    },
    {
     "data": {
      "application/vnd.jupyter.widget-view+json": {
       "model_id": "d950a80cd7c7421db96c2642a207f8b4",
       "version_major": 2,
       "version_minor": 0
      },
      "text/plain": [
       "Sampling trajectories:   0%|          | 0/20 [00:00<?, ?it/s]"
      ]
     },
     "metadata": {},
     "output_type": "display_data"
    },
    {
     "name": "stderr",
     "output_type": "stream",
     "text": [
      "Mean total reward: -90.60\n"
     ]
    },
    {
     "data": {
      "application/vnd.jupyter.widget-view+json": {
       "model_id": "ecba47bb01454ed2a47964099401fe35",
       "version_major": 2,
       "version_minor": 0
      },
      "text/plain": [
       "Iterating over epochs:   0%|          | 0/30 [00:00<?, ?it/s]"
      ]
     },
     "metadata": {},
     "output_type": "display_data"
    },
    {
     "name": "stderr",
     "output_type": "stream",
     "text": [
      "Mean policy network loss: -0.017931\n",
      "Mean value network loss: 3.627755\n",
      "Episode №25\n"
     ]
    },
    {
     "data": {
      "application/vnd.jupyter.widget-view+json": {
       "model_id": "14997689b3254209a52cb08074c6974b",
       "version_major": 2,
       "version_minor": 0
      },
      "text/plain": [
       "Sampling trajectories:   0%|          | 0/20 [00:00<?, ?it/s]"
      ]
     },
     "metadata": {},
     "output_type": "display_data"
    },
    {
     "name": "stderr",
     "output_type": "stream",
     "text": [
      "Mean total reward: -88.80\n"
     ]
    },
    {
     "data": {
      "application/vnd.jupyter.widget-view+json": {
       "model_id": "eef67b33068643e7957a6e3541d5ad6f",
       "version_major": 2,
       "version_minor": 0
      },
      "text/plain": [
       "Iterating over epochs:   0%|          | 0/30 [00:00<?, ?it/s]"
      ]
     },
     "metadata": {},
     "output_type": "display_data"
    },
    {
     "name": "stderr",
     "output_type": "stream",
     "text": [
      "Mean policy network loss: 0.001329\n",
      "Mean value network loss: 3.961282\n",
      "Episode №26\n"
     ]
    },
    {
     "data": {
      "application/vnd.jupyter.widget-view+json": {
       "model_id": "026a77070bed4fff939149da17b14b96",
       "version_major": 2,
       "version_minor": 0
      },
      "text/plain": [
       "Sampling trajectories:   0%|          | 0/20 [00:00<?, ?it/s]"
      ]
     },
     "metadata": {},
     "output_type": "display_data"
    },
    {
     "name": "stderr",
     "output_type": "stream",
     "text": [
      "Mean total reward: -89.95\n"
     ]
    },
    {
     "data": {
      "application/vnd.jupyter.widget-view+json": {
       "model_id": "ef61df2307aa44ebb21085b01579bb66",
       "version_major": 2,
       "version_minor": 0
      },
      "text/plain": [
       "Iterating over epochs:   0%|          | 0/30 [00:00<?, ?it/s]"
      ]
     },
     "metadata": {},
     "output_type": "display_data"
    },
    {
     "name": "stderr",
     "output_type": "stream",
     "text": [
      "Mean policy network loss: -0.015866\n",
      "Mean value network loss: 3.427827\n",
      "Episode №27\n"
     ]
    },
    {
     "data": {
      "application/vnd.jupyter.widget-view+json": {
       "model_id": "5c5bc46d175f4ee392b22cdd402aa7f0",
       "version_major": 2,
       "version_minor": 0
      },
      "text/plain": [
       "Sampling trajectories:   0%|          | 0/20 [00:00<?, ?it/s]"
      ]
     },
     "metadata": {},
     "output_type": "display_data"
    },
    {
     "name": "stderr",
     "output_type": "stream",
     "text": [
      "Mean total reward: -81.20\n"
     ]
    },
    {
     "data": {
      "application/vnd.jupyter.widget-view+json": {
       "model_id": "2261bb8cc048457cafdc1ccce0fd31f1",
       "version_major": 2,
       "version_minor": 0
      },
      "text/plain": [
       "Iterating over epochs:   0%|          | 0/30 [00:00<?, ?it/s]"
      ]
     },
     "metadata": {},
     "output_type": "display_data"
    },
    {
     "name": "stderr",
     "output_type": "stream",
     "text": [
      "Mean policy network loss: 0.001943\n",
      "Mean value network loss: 3.619060\n",
      "Episode №28\n"
     ]
    },
    {
     "data": {
      "application/vnd.jupyter.widget-view+json": {
       "model_id": "44925472d2c04eb3b2e915c71a39fc84",
       "version_major": 2,
       "version_minor": 0
      },
      "text/plain": [
       "Sampling trajectories:   0%|          | 0/20 [00:00<?, ?it/s]"
      ]
     },
     "metadata": {},
     "output_type": "display_data"
    },
    {
     "name": "stderr",
     "output_type": "stream",
     "text": [
      "Mean total reward: -78.75\n"
     ]
    },
    {
     "data": {
      "application/vnd.jupyter.widget-view+json": {
       "model_id": "7b276ac639594e8eb670f84e65dc2829",
       "version_major": 2,
       "version_minor": 0
      },
      "text/plain": [
       "Iterating over epochs:   0%|          | 0/30 [00:00<?, ?it/s]"
      ]
     },
     "metadata": {},
     "output_type": "display_data"
    },
    {
     "name": "stderr",
     "output_type": "stream",
     "text": [
      "Mean policy network loss: 0.006058\n",
      "Mean value network loss: 3.021799\n",
      "Episode №29\n"
     ]
    },
    {
     "data": {
      "application/vnd.jupyter.widget-view+json": {
       "model_id": "a7ce17ac31be4e8f868b36b8955e9fc4",
       "version_major": 2,
       "version_minor": 0
      },
      "text/plain": [
       "Sampling trajectories:   0%|          | 0/20 [00:00<?, ?it/s]"
      ]
     },
     "metadata": {},
     "output_type": "display_data"
    },
    {
     "name": "stderr",
     "output_type": "stream",
     "text": [
      "Mean total reward: -86.25\n"
     ]
    },
    {
     "data": {
      "application/vnd.jupyter.widget-view+json": {
       "model_id": "3b44f2a67448484ca686185f4518a33e",
       "version_major": 2,
       "version_minor": 0
      },
      "text/plain": [
       "Iterating over epochs:   0%|          | 0/30 [00:00<?, ?it/s]"
      ]
     },
     "metadata": {},
     "output_type": "display_data"
    },
    {
     "name": "stderr",
     "output_type": "stream",
     "text": [
      "Mean policy network loss: 0.001719\n",
      "Mean value network loss: 2.797418\n",
      "Episode №30\n"
     ]
    },
    {
     "data": {
      "application/vnd.jupyter.widget-view+json": {
       "model_id": "4204cebe21ae4d5d8b757a531b5484d9",
       "version_major": 2,
       "version_minor": 0
      },
      "text/plain": [
       "Sampling trajectories:   0%|          | 0/20 [00:00<?, ?it/s]"
      ]
     },
     "metadata": {},
     "output_type": "display_data"
    },
    {
     "name": "stderr",
     "output_type": "stream",
     "text": [
      "Mean total reward: -81.30\n"
     ]
    },
    {
     "data": {
      "application/vnd.jupyter.widget-view+json": {
       "model_id": "e9dfe64cc7b84dcb8d15f752cc288e9a",
       "version_major": 2,
       "version_minor": 0
      },
      "text/plain": [
       "Iterating over epochs:   0%|          | 0/30 [00:00<?, ?it/s]"
      ]
     },
     "metadata": {},
     "output_type": "display_data"
    },
    {
     "name": "stderr",
     "output_type": "stream",
     "text": [
      "Mean policy network loss: 0.000335\n",
      "Mean value network loss: 2.805775\n",
      "Episode №31\n"
     ]
    },
    {
     "data": {
      "application/vnd.jupyter.widget-view+json": {
       "model_id": "60b5310328b24d63ae90caf3350dc38c",
       "version_major": 2,
       "version_minor": 0
      },
      "text/plain": [
       "Sampling trajectories:   0%|          | 0/20 [00:00<?, ?it/s]"
      ]
     },
     "metadata": {},
     "output_type": "display_data"
    },
    {
     "name": "stderr",
     "output_type": "stream",
     "text": [
      "Mean total reward: -82.05\n"
     ]
    },
    {
     "data": {
      "application/vnd.jupyter.widget-view+json": {
       "model_id": "8b943a072f95493c83f82b9f47fa4f05",
       "version_major": 2,
       "version_minor": 0
      },
      "text/plain": [
       "Iterating over epochs:   0%|          | 0/30 [00:00<?, ?it/s]"
      ]
     },
     "metadata": {},
     "output_type": "display_data"
    },
    {
     "name": "stderr",
     "output_type": "stream",
     "text": [
      "Mean policy network loss: -0.016966\n",
      "Mean value network loss: 2.902947\n",
      "Episode №32\n"
     ]
    },
    {
     "data": {
      "application/vnd.jupyter.widget-view+json": {
       "model_id": "51a787c37d6c4171b9c3c40ac3448fb9",
       "version_major": 2,
       "version_minor": 0
      },
      "text/plain": [
       "Sampling trajectories:   0%|          | 0/20 [00:00<?, ?it/s]"
      ]
     },
     "metadata": {},
     "output_type": "display_data"
    },
    {
     "name": "stderr",
     "output_type": "stream",
     "text": [
      "Mean total reward: -83.70\n"
     ]
    },
    {
     "data": {
      "application/vnd.jupyter.widget-view+json": {
       "model_id": "7ca5cfbb2d584889b571ed3ace552ad1",
       "version_major": 2,
       "version_minor": 0
      },
      "text/plain": [
       "Iterating over epochs:   0%|          | 0/30 [00:00<?, ?it/s]"
      ]
     },
     "metadata": {},
     "output_type": "display_data"
    },
    {
     "name": "stderr",
     "output_type": "stream",
     "text": [
      "Mean policy network loss: -0.001148\n",
      "Mean value network loss: 3.192907\n",
      "Episode №33\n"
     ]
    },
    {
     "data": {
      "application/vnd.jupyter.widget-view+json": {
       "model_id": "06cea9fa22ae4471986dbbe8ab07a988",
       "version_major": 2,
       "version_minor": 0
      },
      "text/plain": [
       "Sampling trajectories:   0%|          | 0/20 [00:00<?, ?it/s]"
      ]
     },
     "metadata": {},
     "output_type": "display_data"
    },
    {
     "name": "stderr",
     "output_type": "stream",
     "text": [
      "Mean total reward: -83.00\n"
     ]
    },
    {
     "data": {
      "application/vnd.jupyter.widget-view+json": {
       "model_id": "65d6c8a2b7844d449a89af55867fb948",
       "version_major": 2,
       "version_minor": 0
      },
      "text/plain": [
       "Iterating over epochs:   0%|          | 0/30 [00:00<?, ?it/s]"
      ]
     },
     "metadata": {},
     "output_type": "display_data"
    },
    {
     "name": "stderr",
     "output_type": "stream",
     "text": [
      "Mean policy network loss: 0.008341\n",
      "Mean value network loss: 3.164876\n",
      "Episode №34\n"
     ]
    },
    {
     "data": {
      "application/vnd.jupyter.widget-view+json": {
       "model_id": "233fc4e6acd14e858d8ba22ba0404b0c",
       "version_major": 2,
       "version_minor": 0
      },
      "text/plain": [
       "Sampling trajectories:   0%|          | 0/20 [00:00<?, ?it/s]"
      ]
     },
     "metadata": {},
     "output_type": "display_data"
    },
    {
     "name": "stderr",
     "output_type": "stream",
     "text": [
      "Mean total reward: -97.50\n"
     ]
    },
    {
     "data": {
      "application/vnd.jupyter.widget-view+json": {
       "model_id": "d2be318c685e4f77966b81f8220923a9",
       "version_major": 2,
       "version_minor": 0
      },
      "text/plain": [
       "Iterating over epochs:   0%|          | 0/30 [00:00<?, ?it/s]"
      ]
     },
     "metadata": {},
     "output_type": "display_data"
    },
    {
     "name": "stderr",
     "output_type": "stream",
     "text": [
      "Mean policy network loss: -0.005821\n",
      "Mean value network loss: 4.662701\n",
      "Episode №35\n"
     ]
    },
    {
     "data": {
      "application/vnd.jupyter.widget-view+json": {
       "model_id": "a598baeb845f4b65ab377a3a5700b606",
       "version_major": 2,
       "version_minor": 0
      },
      "text/plain": [
       "Sampling trajectories:   0%|          | 0/20 [00:00<?, ?it/s]"
      ]
     },
     "metadata": {},
     "output_type": "display_data"
    },
    {
     "name": "stderr",
     "output_type": "stream",
     "text": [
      "Mean total reward: -79.75\n"
     ]
    },
    {
     "data": {
      "application/vnd.jupyter.widget-view+json": {
       "model_id": "18f838c52e12400c884d4f45bfb08220",
       "version_major": 2,
       "version_minor": 0
      },
      "text/plain": [
       "Iterating over epochs:   0%|          | 0/30 [00:00<?, ?it/s]"
      ]
     },
     "metadata": {},
     "output_type": "display_data"
    },
    {
     "name": "stderr",
     "output_type": "stream",
     "text": [
      "Mean policy network loss: -0.003064\n",
      "Mean value network loss: 3.611494\n",
      "Episode №36\n"
     ]
    },
    {
     "data": {
      "application/vnd.jupyter.widget-view+json": {
       "model_id": "224816d9124a4d10a685bff433278f06",
       "version_major": 2,
       "version_minor": 0
      },
      "text/plain": [
       "Sampling trajectories:   0%|          | 0/20 [00:00<?, ?it/s]"
      ]
     },
     "metadata": {},
     "output_type": "display_data"
    },
    {
     "name": "stderr",
     "output_type": "stream",
     "text": [
      "Mean total reward: -81.25\n"
     ]
    },
    {
     "data": {
      "application/vnd.jupyter.widget-view+json": {
       "model_id": "4b988bb5e95f44db85af3ffb2a800306",
       "version_major": 2,
       "version_minor": 0
      },
      "text/plain": [
       "Iterating over epochs:   0%|          | 0/30 [00:00<?, ?it/s]"
      ]
     },
     "metadata": {},
     "output_type": "display_data"
    },
    {
     "name": "stderr",
     "output_type": "stream",
     "text": [
      "Mean policy network loss: 0.004181\n",
      "Mean value network loss: 2.479652\n",
      "Episode №37\n"
     ]
    },
    {
     "data": {
      "application/vnd.jupyter.widget-view+json": {
       "model_id": "d3f44e47a35e4094ba72b13ae59693a7",
       "version_major": 2,
       "version_minor": 0
      },
      "text/plain": [
       "Sampling trajectories:   0%|          | 0/20 [00:00<?, ?it/s]"
      ]
     },
     "metadata": {},
     "output_type": "display_data"
    },
    {
     "name": "stderr",
     "output_type": "stream",
     "text": [
      "Mean total reward: -102.85\n"
     ]
    },
    {
     "data": {
      "application/vnd.jupyter.widget-view+json": {
       "model_id": "40ed757425324ab994b2b748ec85c096",
       "version_major": 2,
       "version_minor": 0
      },
      "text/plain": [
       "Iterating over epochs:   0%|          | 0/30 [00:00<?, ?it/s]"
      ]
     },
     "metadata": {},
     "output_type": "display_data"
    },
    {
     "name": "stderr",
     "output_type": "stream",
     "text": [
      "Mean policy network loss: -0.004737\n",
      "Mean value network loss: 5.179362\n",
      "Episode №38\n"
     ]
    },
    {
     "data": {
      "application/vnd.jupyter.widget-view+json": {
       "model_id": "c956a8f94c1b486b88dfdad1e202e7f3",
       "version_major": 2,
       "version_minor": 0
      },
      "text/plain": [
       "Sampling trajectories:   0%|          | 0/20 [00:00<?, ?it/s]"
      ]
     },
     "metadata": {},
     "output_type": "display_data"
    },
    {
     "name": "stderr",
     "output_type": "stream",
     "text": [
      "Mean total reward: -84.15\n"
     ]
    },
    {
     "data": {
      "application/vnd.jupyter.widget-view+json": {
       "model_id": "820e61bd65414f92ad1d808122e9943d",
       "version_major": 2,
       "version_minor": 0
      },
      "text/plain": [
       "Iterating over epochs:   0%|          | 0/30 [00:00<?, ?it/s]"
      ]
     },
     "metadata": {},
     "output_type": "display_data"
    },
    {
     "name": "stderr",
     "output_type": "stream",
     "text": [
      "Mean policy network loss: -0.008105\n",
      "Mean value network loss: 3.532535\n",
      "Episode №39\n"
     ]
    },
    {
     "data": {
      "application/vnd.jupyter.widget-view+json": {
       "model_id": "c6075ead60a544ea820a0fb9973d12ca",
       "version_major": 2,
       "version_minor": 0
      },
      "text/plain": [
       "Sampling trajectories:   0%|          | 0/20 [00:00<?, ?it/s]"
      ]
     },
     "metadata": {},
     "output_type": "display_data"
    },
    {
     "name": "stderr",
     "output_type": "stream",
     "text": [
      "Mean total reward: -84.95\n"
     ]
    },
    {
     "data": {
      "application/vnd.jupyter.widget-view+json": {
       "model_id": "ea861c1023bc4ed1b9a54d0f335b3c91",
       "version_major": 2,
       "version_minor": 0
      },
      "text/plain": [
       "Iterating over epochs:   0%|          | 0/30 [00:00<?, ?it/s]"
      ]
     },
     "metadata": {},
     "output_type": "display_data"
    },
    {
     "name": "stderr",
     "output_type": "stream",
     "text": [
      "Mean policy network loss: -0.002681\n",
      "Mean value network loss: 5.624728\n",
      "Episode №40\n"
     ]
    },
    {
     "data": {
      "application/vnd.jupyter.widget-view+json": {
       "model_id": "67a271a041bf40dabb29b94cd254fbf7",
       "version_major": 2,
       "version_minor": 0
      },
      "text/plain": [
       "Sampling trajectories:   0%|          | 0/20 [00:00<?, ?it/s]"
      ]
     },
     "metadata": {},
     "output_type": "display_data"
    },
    {
     "name": "stderr",
     "output_type": "stream",
     "text": [
      "Mean total reward: -88.10\n"
     ]
    },
    {
     "data": {
      "application/vnd.jupyter.widget-view+json": {
       "model_id": "fb5fa50f75e943feb8585acd128f8cd6",
       "version_major": 2,
       "version_minor": 0
      },
      "text/plain": [
       "Iterating over epochs:   0%|          | 0/30 [00:00<?, ?it/s]"
      ]
     },
     "metadata": {},
     "output_type": "display_data"
    },
    {
     "name": "stderr",
     "output_type": "stream",
     "text": [
      "Mean policy network loss: 0.003706\n",
      "Mean value network loss: 3.665895\n",
      "Episode №41\n"
     ]
    },
    {
     "data": {
      "application/vnd.jupyter.widget-view+json": {
       "model_id": "243ba5228bc64801aa2b5c987bdb4d10",
       "version_major": 2,
       "version_minor": 0
      },
      "text/plain": [
       "Sampling trajectories:   0%|          | 0/20 [00:00<?, ?it/s]"
      ]
     },
     "metadata": {},
     "output_type": "display_data"
    },
    {
     "name": "stderr",
     "output_type": "stream",
     "text": [
      "Mean total reward: -78.70\n"
     ]
    },
    {
     "data": {
      "application/vnd.jupyter.widget-view+json": {
       "model_id": "fce628f95aef417bb0599a1cc5ac9c6e",
       "version_major": 2,
       "version_minor": 0
      },
      "text/plain": [
       "Iterating over epochs:   0%|          | 0/30 [00:00<?, ?it/s]"
      ]
     },
     "metadata": {},
     "output_type": "display_data"
    },
    {
     "name": "stderr",
     "output_type": "stream",
     "text": [
      "Mean policy network loss: 0.005645\n",
      "Mean value network loss: 3.474847\n",
      "Episode №42\n"
     ]
    },
    {
     "data": {
      "application/vnd.jupyter.widget-view+json": {
       "model_id": "ec4301364a0e4029a5dccfbfb6b05b9b",
       "version_major": 2,
       "version_minor": 0
      },
      "text/plain": [
       "Sampling trajectories:   0%|          | 0/20 [00:00<?, ?it/s]"
      ]
     },
     "metadata": {},
     "output_type": "display_data"
    },
    {
     "name": "stderr",
     "output_type": "stream",
     "text": [
      "Mean total reward: -84.95\n"
     ]
    },
    {
     "data": {
      "application/vnd.jupyter.widget-view+json": {
       "model_id": "aac255d6301a47aeb74204194e48e8cc",
       "version_major": 2,
       "version_minor": 0
      },
      "text/plain": [
       "Iterating over epochs:   0%|          | 0/30 [00:00<?, ?it/s]"
      ]
     },
     "metadata": {},
     "output_type": "display_data"
    },
    {
     "name": "stderr",
     "output_type": "stream",
     "text": [
      "Mean policy network loss: -0.001401\n",
      "Mean value network loss: 3.218966\n",
      "Episode №43\n"
     ]
    },
    {
     "data": {
      "application/vnd.jupyter.widget-view+json": {
       "model_id": "47d577301afd4d19bba1d436567b18f0",
       "version_major": 2,
       "version_minor": 0
      },
      "text/plain": [
       "Sampling trajectories:   0%|          | 0/20 [00:00<?, ?it/s]"
      ]
     },
     "metadata": {},
     "output_type": "display_data"
    },
    {
     "name": "stderr",
     "output_type": "stream",
     "text": [
      "Mean total reward: -83.75\n"
     ]
    },
    {
     "data": {
      "application/vnd.jupyter.widget-view+json": {
       "model_id": "66bac858c6df4aa996bf0771ca7e7e36",
       "version_major": 2,
       "version_minor": 0
      },
      "text/plain": [
       "Iterating over epochs:   0%|          | 0/30 [00:00<?, ?it/s]"
      ]
     },
     "metadata": {},
     "output_type": "display_data"
    },
    {
     "name": "stderr",
     "output_type": "stream",
     "text": [
      "Mean policy network loss: 0.002674\n",
      "Mean value network loss: 3.326065\n",
      "Episode №44\n"
     ]
    },
    {
     "data": {
      "application/vnd.jupyter.widget-view+json": {
       "model_id": "c498a32fa15c451faa9ad4d163171557",
       "version_major": 2,
       "version_minor": 0
      },
      "text/plain": [
       "Sampling trajectories:   0%|          | 0/20 [00:00<?, ?it/s]"
      ]
     },
     "metadata": {},
     "output_type": "display_data"
    },
    {
     "name": "stderr",
     "output_type": "stream",
     "text": [
      "Mean total reward: -81.65\n"
     ]
    },
    {
     "data": {
      "application/vnd.jupyter.widget-view+json": {
       "model_id": "5336e855afd7401ba9254c729f93f170",
       "version_major": 2,
       "version_minor": 0
      },
      "text/plain": [
       "Iterating over epochs:   0%|          | 0/30 [00:00<?, ?it/s]"
      ]
     },
     "metadata": {},
     "output_type": "display_data"
    },
    {
     "name": "stderr",
     "output_type": "stream",
     "text": [
      "Mean policy network loss: -0.007855\n",
      "Mean value network loss: 2.884203\n",
      "Episode №45\n"
     ]
    },
    {
     "data": {
      "application/vnd.jupyter.widget-view+json": {
       "model_id": "d339d9e5e50648dd8aa5eeb67bff84ba",
       "version_major": 2,
       "version_minor": 0
      },
      "text/plain": [
       "Sampling trajectories:   0%|          | 0/20 [00:00<?, ?it/s]"
      ]
     },
     "metadata": {},
     "output_type": "display_data"
    },
    {
     "name": "stderr",
     "output_type": "stream",
     "text": [
      "Mean total reward: -80.20\n"
     ]
    },
    {
     "data": {
      "application/vnd.jupyter.widget-view+json": {
       "model_id": "6904de68cd1848048a7cc7dfb1fff908",
       "version_major": 2,
       "version_minor": 0
      },
      "text/plain": [
       "Iterating over epochs:   0%|          | 0/30 [00:00<?, ?it/s]"
      ]
     },
     "metadata": {},
     "output_type": "display_data"
    },
    {
     "name": "stderr",
     "output_type": "stream",
     "text": [
      "Mean policy network loss: 0.003451\n",
      "Mean value network loss: 3.039709\n",
      "Episode №46\n"
     ]
    },
    {
     "data": {
      "application/vnd.jupyter.widget-view+json": {
       "model_id": "c880395c21204c00b663bec25ecc899b",
       "version_major": 2,
       "version_minor": 0
      },
      "text/plain": [
       "Sampling trajectories:   0%|          | 0/20 [00:00<?, ?it/s]"
      ]
     },
     "metadata": {},
     "output_type": "display_data"
    },
    {
     "name": "stderr",
     "output_type": "stream",
     "text": [
      "Mean total reward: -77.85\n"
     ]
    },
    {
     "data": {
      "application/vnd.jupyter.widget-view+json": {
       "model_id": "378c5edad7be4866a070afb3a71e0729",
       "version_major": 2,
       "version_minor": 0
      },
      "text/plain": [
       "Iterating over epochs:   0%|          | 0/30 [00:00<?, ?it/s]"
      ]
     },
     "metadata": {},
     "output_type": "display_data"
    },
    {
     "name": "stderr",
     "output_type": "stream",
     "text": [
      "Mean policy network loss: 0.004216\n",
      "Mean value network loss: 2.629185\n",
      "Episode №47\n"
     ]
    },
    {
     "data": {
      "application/vnd.jupyter.widget-view+json": {
       "model_id": "5599790da5da47a8a6e7f85e21ee0288",
       "version_major": 2,
       "version_minor": 0
      },
      "text/plain": [
       "Sampling trajectories:   0%|          | 0/20 [00:00<?, ?it/s]"
      ]
     },
     "metadata": {},
     "output_type": "display_data"
    },
    {
     "name": "stderr",
     "output_type": "stream",
     "text": [
      "Mean total reward: -102.15\n"
     ]
    },
    {
     "data": {
      "application/vnd.jupyter.widget-view+json": {
       "model_id": "3f964291a04a4f19af16cff61fed3d99",
       "version_major": 2,
       "version_minor": 0
      },
      "text/plain": [
       "Iterating over epochs:   0%|          | 0/30 [00:00<?, ?it/s]"
      ]
     },
     "metadata": {},
     "output_type": "display_data"
    },
    {
     "name": "stderr",
     "output_type": "stream",
     "text": [
      "Mean policy network loss: -0.005274\n",
      "Mean value network loss: 6.114104\n",
      "Episode №48\n"
     ]
    },
    {
     "data": {
      "application/vnd.jupyter.widget-view+json": {
       "model_id": "d003a412e88c43d38097641987c6c3a0",
       "version_major": 2,
       "version_minor": 0
      },
      "text/plain": [
       "Sampling trajectories:   0%|          | 0/20 [00:00<?, ?it/s]"
      ]
     },
     "metadata": {},
     "output_type": "display_data"
    },
    {
     "name": "stderr",
     "output_type": "stream",
     "text": [
      "Mean total reward: -79.00\n"
     ]
    },
    {
     "data": {
      "application/vnd.jupyter.widget-view+json": {
       "model_id": "8bb05bc5496642f096233d4869d7a269",
       "version_major": 2,
       "version_minor": 0
      },
      "text/plain": [
       "Iterating over epochs:   0%|          | 0/30 [00:00<?, ?it/s]"
      ]
     },
     "metadata": {},
     "output_type": "display_data"
    },
    {
     "name": "stderr",
     "output_type": "stream",
     "text": [
      "Mean policy network loss: -0.005902\n",
      "Mean value network loss: 3.300010\n",
      "Episode №49\n"
     ]
    },
    {
     "data": {
      "application/vnd.jupyter.widget-view+json": {
       "model_id": "e59aab4509ad40a4b0718b5954491621",
       "version_major": 2,
       "version_minor": 0
      },
      "text/plain": [
       "Sampling trajectories:   0%|          | 0/20 [00:00<?, ?it/s]"
      ]
     },
     "metadata": {},
     "output_type": "display_data"
    },
    {
     "name": "stderr",
     "output_type": "stream",
     "text": [
      "Mean total reward: -81.10\n"
     ]
    },
    {
     "data": {
      "application/vnd.jupyter.widget-view+json": {
       "model_id": "2de8ced462df484e9d0c24d35abdd46c",
       "version_major": 2,
       "version_minor": 0
      },
      "text/plain": [
       "Iterating over epochs:   0%|          | 0/30 [00:00<?, ?it/s]"
      ]
     },
     "metadata": {},
     "output_type": "display_data"
    },
    {
     "name": "stderr",
     "output_type": "stream",
     "text": [
      "Mean policy network loss: 0.003619\n",
      "Mean value network loss: 2.664439\n",
      "Episode №50\n"
     ]
    },
    {
     "data": {
      "application/vnd.jupyter.widget-view+json": {
       "model_id": "1e139fa4d55e4868b57574312b394db5",
       "version_major": 2,
       "version_minor": 0
      },
      "text/plain": [
       "Sampling trajectories:   0%|          | 0/20 [00:00<?, ?it/s]"
      ]
     },
     "metadata": {},
     "output_type": "display_data"
    },
    {
     "name": "stderr",
     "output_type": "stream",
     "text": [
      "Mean total reward: -97.30\n"
     ]
    },
    {
     "data": {
      "application/vnd.jupyter.widget-view+json": {
       "model_id": "4bbc37ab9c2e4f478aa5a1561e2b04c7",
       "version_major": 2,
       "version_minor": 0
      },
      "text/plain": [
       "Iterating over epochs:   0%|          | 0/30 [00:00<?, ?it/s]"
      ]
     },
     "metadata": {},
     "output_type": "display_data"
    },
    {
     "name": "stderr",
     "output_type": "stream",
     "text": [
      "Mean policy network loss: -0.007689\n",
      "Mean value network loss: 5.647936\n"
     ]
    }
   ],
   "source": [
    "policy_network_losses, value_network_losses, history = trainer.train(\n",
    "    agent, env, history_file_path=\"histories/Acrobot-v1_ppo_bellman_equation.jsonl\"\n",
    ")"
   ]
  },
  {
   "cell_type": "code",
   "execution_count": 43,
   "id": "6efc78b3-b64e-4c15-b9d4-4a3246763efe",
   "metadata": {},
   "outputs": [
    {
     "data": {
      "text/plain": [
       "[<matplotlib.lines.Line2D at 0x74afb14e5450>]"
      ]
     },
     "execution_count": 43,
     "metadata": {},
     "output_type": "execute_result"
    },
    {
     "data": {
      "image/png": "[encoded data removed]",
      "text/plain": [
       "<Figure size 640x480 with 1 Axes>"
      ]
     },
     "metadata": {},
     "output_type": "display_data"
    }
   ],
   "source": [
    "plt.plot(policy_network_losses)"
   ]
  },
  {
   "cell_type": "code",
   "execution_count": 44,
   "id": "93633ff8-ba81-413d-b90a-0bbd04c44806",
   "metadata": {},
   "outputs": [
    {
     "data": {
      "text/plain": [
       "[<matplotlib.lines.Line2D at 0x74afb188e800>]"
      ]
     },
     "execution_count": 44,
     "metadata": {},
     "output_type": "execute_result"
    },
    {
     "data": {
      "image/png": "[encoded data removed]",
      "text/plain": [
       "<Figure size 640x480 with 1 Axes>"
      ]
     },
     "metadata": {},
     "output_type": "display_data"
    }
   ],
   "source": [
    "plt.plot(value_network_losses)"
   ]
  },
  {
   "cell_type": "code",
   "execution_count": 45,
   "id": "060fa445-76ea-40f1-8a68-59856bfcc5f9",
   "metadata": {},
   "outputs": [
    {
     "data": {
      "text/plain": [
       "[<matplotlib.lines.Line2D at 0x74afb1a89540>]"
      ]
     },
     "execution_count": 45,
     "metadata": {},
     "output_type": "execute_result"
    },
    {
     "data": {
      "image/png": "[encoded data removed]",
      "text/plain": [
       "<Figure size 640x480 with 1 Axes>"
      ]
     },
     "metadata": {},
     "output_type": "display_data"
    }
   ],
   "source": [
    "plt.plot([sum(trajectory[\"rewards\"]) for trajectory in history])"
   ]
  },
  {
   "cell_type": "code",
   "execution_count": 47,
   "id": "68f69ce7-f4ec-4ed3-89f0-7c218b8754d9",
   "metadata": {},
   "outputs": [],
   "source": [
    "agent.save(\"agents/acrobot_bellman_equation.pth\")"
   ]
  },
  {
   "cell_type": "code",
   "execution_count": null,
   "id": "161b16b5-2004-41be-8226-60833d0cfc87",
   "metadata": {},
   "outputs": [],
   "source": []
  }
 ],
 "metadata": {
  "kernelspec": {
   "display_name": "Python 3 (ipykernel)",
   "language": "python",
   "name": "python3"
  },
  "language_info": {
   "codemirror_mode": {
    "name": "ipython",
    "version": 3
   },
   "file_extension": ".py",
   "mimetype": "text/x-python",
   "name": "python",
   "nbconvert_exporter": "python",
   "pygments_lexer": "ipython3",
   "version": "3.10.13"
  }
 },
 "nbformat": 4,
 "nbformat_minor": 5
}
